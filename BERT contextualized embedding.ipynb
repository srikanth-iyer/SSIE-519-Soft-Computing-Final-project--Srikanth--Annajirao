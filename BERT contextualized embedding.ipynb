{
 "cells": [
  {
   "cell_type": "markdown",
   "metadata": {},
   "source": [
    "[![Open In Colab](https://colab.research.google.com/assets/colab-badge.svg)](http://colab.research.google.com/github/sk-classroom/asc-bert/blob/main/assignments/assignment_01.ipynb)\n",
    "\n",
    "We will learn how to generate word embeddings using BERT. BERT produces contextualized word embeddings, where the embeddings are computed based on the context of the word. Thus, a single word can have different embeddings based on its context. \n",
    "\n",
    "# Preparation"
   ]
  },
  {
   "cell_type": "code",
   "execution_count": 2,
   "metadata": {},
   "outputs": [],
   "source": [
    "# If you haven't installed the required packages, please install them using pip\n",
    "# %pip install transformers plotly\n",
    "# %pip install --upgrade nbformat\n",
    "# %pip install torch\n",
    "# \n"
   ]
  },
  {
   "cell_type": "code",
   "execution_count": 3,
   "metadata": {},
   "outputs": [],
   "source": [
    "import pandas as pd\n",
    "import numpy as np\n",
    "import transformers\n",
    "import torch\n",
    "import matplotlib.pyplot as plt\n",
    "from tqdm import tqdm\n",
    "from sklearn.decomposition import PCA\n",
    "import plotly.express as px\n",
    "import tqdm as notebook_tqdm"
   ]
  },
  {
   "cell_type": "markdown",
   "metadata": {},
   "source": [
    "# Data \n",
    "\n",
    "We will use [CoarseWSD-20](https://github.com/danlou/bert-disambiguation/tree/master/data/CoarseWSD-20). The dataset contains sentences with polysemous words and their sense labels. We will see how to use BERT to disambiguate the word senses.\n",
    "\n"
   ]
  },
  {
   "cell_type": "code",
   "execution_count": 4,
   "metadata": {},
   "outputs": [
    {
     "data": {
      "text/html": [
       "<div>\n",
       "<style scoped>\n",
       "    .dataframe tbody tr th:only-of-type {\n",
       "        vertical-align: middle;\n",
       "    }\n",
       "\n",
       "    .dataframe tbody tr th {\n",
       "        vertical-align: top;\n",
       "    }\n",
       "\n",
       "    .dataframe thead th {\n",
       "        text-align: right;\n",
       "    }\n",
       "</style>\n",
       "<table border=\"1\" class=\"dataframe\">\n",
       "  <thead>\n",
       "    <tr style=\"text-align: right;\">\n",
       "      <th></th>\n",
       "      <th>word_pos</th>\n",
       "      <th>sentence</th>\n",
       "      <th>label</th>\n",
       "    </tr>\n",
       "  </thead>\n",
       "  <tbody>\n",
       "    <tr>\n",
       "      <th>1752</th>\n",
       "      <td>12</td>\n",
       "      <td>colonists opted to grow less barley as it was ...</td>\n",
       "      <td>1</td>\n",
       "    </tr>\n",
       "    <tr>\n",
       "      <th>1747</th>\n",
       "      <td>9</td>\n",
       "      <td>in 2000 , major companies such as ibm , apple ...</td>\n",
       "      <td>0</td>\n",
       "    </tr>\n",
       "    <tr>\n",
       "      <th>1280</th>\n",
       "      <td>23</td>\n",
       "      <td>boris red is an integrated 3d compositing , ti...</td>\n",
       "      <td>1</td>\n",
       "    </tr>\n",
       "    <tr>\n",
       "      <th>1501</th>\n",
       "      <td>5</td>\n",
       "      <td>the app was released for apple ios devices on ...</td>\n",
       "      <td>0</td>\n",
       "    </tr>\n",
       "    <tr>\n",
       "      <th>1428</th>\n",
       "      <td>26</td>\n",
       "      <td>in computing , launchd , a unified , open-sour...</td>\n",
       "      <td>0</td>\n",
       "    </tr>\n",
       "    <tr>\n",
       "      <th>266</th>\n",
       "      <td>33</td>\n",
       "      <td>in 2005 and 2006 , recording artists gwen stef...</td>\n",
       "      <td>0</td>\n",
       "    </tr>\n",
       "    <tr>\n",
       "      <th>713</th>\n",
       "      <td>21</td>\n",
       "      <td>in 1994 , as customer anticipation increased f...</td>\n",
       "      <td>0</td>\n",
       "    </tr>\n",
       "    <tr>\n",
       "      <th>41</th>\n",
       "      <td>35</td>\n",
       "      <td>wildfire has also been cited as '' a really ea...</td>\n",
       "      <td>0</td>\n",
       "    </tr>\n",
       "    <tr>\n",
       "      <th>1042</th>\n",
       "      <td>9</td>\n",
       "      <td>bootcd is a tool for making bootable cd with a...</td>\n",
       "      <td>0</td>\n",
       "    </tr>\n",
       "    <tr>\n",
       "      <th>555</th>\n",
       "      <td>15</td>\n",
       "      <td>land use manasbal lake important vegetation in...</td>\n",
       "      <td>1</td>\n",
       "    </tr>\n",
       "  </tbody>\n",
       "</table>\n",
       "</div>"
      ],
      "text/plain": [
       "      word_pos                                           sentence  label\n",
       "1752        12  colonists opted to grow less barley as it was ...      1\n",
       "1747         9  in 2000 , major companies such as ibm , apple ...      0\n",
       "1280        23  boris red is an integrated 3d compositing , ti...      1\n",
       "1501         5  the app was released for apple ios devices on ...      0\n",
       "1428        26  in computing , launchd , a unified , open-sour...      0\n",
       "266         33  in 2005 and 2006 , recording artists gwen stef...      0\n",
       "713         21  in 1994 , as customer anticipation increased f...      0\n",
       "41          35  wildfire has also been cited as '' a really ea...      0\n",
       "1042         9  bootcd is a tool for making bootable cd with a...      0\n",
       "555         15  land use manasbal lake important vegetation in...      1"
      ]
     },
     "execution_count": 4,
     "metadata": {},
     "output_type": "execute_result"
    }
   ],
   "source": [
    "def load_data(focal_word, is_train, n_samples=100):\n",
    "    data_type = \"train\" if is_train else \"test\"\n",
    "    data_file = f\"https://raw.githubusercontent.com/danlou/bert-disambiguation/master/data/CoarseWSD-20/{focal_word}/{data_type}.data.txt\"\n",
    "    label_file = f\"https://raw.githubusercontent.com/danlou/bert-disambiguation/master/data/CoarseWSD-20/{focal_word}/{data_type}.gold.txt\"\n",
    "\n",
    "    data_table = pd.read_csv(\n",
    "        data_file,\n",
    "        sep=\"\\t\",\n",
    "        header=None,\n",
    "        dtype={\"word_pos\": int, \"sentence\": str},\n",
    "        names=[\"word_pos\", \"sentence\"],\n",
    "    )\n",
    "    label_table = pd.read_csv(\n",
    "        label_file,\n",
    "        sep=\"\\t\",\n",
    "        header=None,\n",
    "        dtype={\"label\": int},\n",
    "        names=[\"label\"],\n",
    "    )\n",
    "    combined_table = pd.concat([data_table, label_table], axis=1)\n",
    "    return combined_table.sample(n_samples)\n",
    "\n",
    "\n",
    "focal_word = \"apple\"\n",
    "\n",
    "train_data = load_data(focal_word, is_train=True)\n",
    "\n",
    "train_data.head(10)"
   ]
  },
  {
   "cell_type": "markdown",
   "metadata": {},
   "source": [
    "Please refer to the [README](https://github.com/danlou/bert-disambiguation/blob/master/data/CoarseWSD-20/README.txt) for the data. \n",
    "\n",
    "## Define BERT model\n",
    "\n",
    "We will use `transformers` library developed by Hugging Face to define the BERT model. To use the model, we will need:  \n",
    "1. BERT tokenizer that converts the text into tokens. \n",
    "2. BERT model that computes the embeddings of the tokens. \n",
    "\n",
    "We will use the `bert-base-uncased` model and tokenizer. Let's define the model and tokenizer. \n",
    "\n"
   ]
  },
  {
   "cell_type": "code",
   "execution_count": 5,
   "metadata": {},
   "outputs": [
    {
     "name": "stderr",
     "output_type": "stream",
     "text": [
      "100%|██████████| 433/433 [00:00<00:00, 437095.94B/s]\n",
      "100%|██████████| 440473133/440473133 [00:15<00:00, 27862018.35B/s]\n",
      "100%|██████████| 231508/231508 [00:00<00:00, 7547491.18B/s]\n"
     ]
    },
    {
     "data": {
      "text/plain": [
       "BertModel(\n",
       "  (embeddings): BertEmbeddings(\n",
       "    (word_embeddings): Embedding(30522, 768, padding_idx=0)\n",
       "    (position_embeddings): Embedding(512, 768)\n",
       "    (token_type_embeddings): Embedding(2, 768)\n",
       "    (LayerNorm): LayerNorm((768,), eps=1e-12, elementwise_affine=True)\n",
       "    (dropout): Dropout(p=0.1, inplace=False)\n",
       "  )\n",
       "  (encoder): BertEncoder(\n",
       "    (layer): ModuleList(\n",
       "      (0-11): 12 x BertLayer(\n",
       "        (attention): BertAttention(\n",
       "          (self): BertSelfAttention(\n",
       "            (query): Linear(in_features=768, out_features=768, bias=True)\n",
       "            (key): Linear(in_features=768, out_features=768, bias=True)\n",
       "            (value): Linear(in_features=768, out_features=768, bias=True)\n",
       "            (dropout): Dropout(p=0.1, inplace=False)\n",
       "          )\n",
       "          (output): BertSelfOutput(\n",
       "            (dense): Linear(in_features=768, out_features=768, bias=True)\n",
       "            (LayerNorm): LayerNorm((768,), eps=1e-12, elementwise_affine=True)\n",
       "            (dropout): Dropout(p=0.1, inplace=False)\n",
       "          )\n",
       "        )\n",
       "        (intermediate): BertIntermediate(\n",
       "          (dense): Linear(in_features=768, out_features=3072, bias=True)\n",
       "        )\n",
       "        (output): BertOutput(\n",
       "          (dense): Linear(in_features=3072, out_features=768, bias=True)\n",
       "          (LayerNorm): LayerNorm((768,), eps=1e-12, elementwise_affine=True)\n",
       "          (dropout): Dropout(p=0.1, inplace=False)\n",
       "        )\n",
       "      )\n",
       "    )\n",
       "  )\n",
       "  (pooler): BertPooler(\n",
       "    (dense): Linear(in_features=768, out_features=768, bias=True)\n",
       "    (activation): Tanh()\n",
       "  )\n",
       ")"
      ]
     },
     "execution_count": 5,
     "metadata": {},
     "output_type": "execute_result"
    }
   ],
   "source": [
    "# TODO: Define the model and tokenizer\n",
    "model = transformers.BertModel.from_pretrained(\n",
    "    \"bert-base-uncased\",output_hidden_states=True\n",
    ")\n",
    "tokenizer = transformers.BertTokenizer.from_pretrained(\"bert-base-uncased\")\n",
    "\n",
    "model.eval()"
   ]
  },
  {
   "cell_type": "markdown",
   "metadata": {},
   "source": [
    "With BERT, we need to prepare text in ways that BERT can understand. \n",
    "Specifically, we prepend it with ```[CLS]``` and append ```[SEP]```. We will then convert the text to a tensor of token ids, which is ready to be fed into the model. \n",
    "\n"
   ]
  },
  {
   "cell_type": "code",
   "execution_count": 6,
   "metadata": {},
   "outputs": [],
   "source": [
    "def prepare_text(text):\n",
    "    text = \"[CLS] \" + text + \" [SEP]\"\n",
    "    tokenized_text = tokenizer.tokenize(text)\n",
    "    indexed_tokens = tokenizer.convert_tokens_to_ids(tokenized_text)\n",
    "\n",
    "    segments_ids = torch.ones((1, len(indexed_tokens)), dtype=torch.long)\n",
    "    tokens_tensor = torch.tensor([indexed_tokens])\n",
    "    segments_tensor = segments_ids.clone()\n",
    "    return tokenized_text, tokens_tensor, segments_tensor"
   ]
  },
  {
   "cell_type": "markdown",
   "metadata": {},
   "source": [
    "> What is segment tensor?\n",
    "BERT models are designed to process sentence pairs, differentiated by 0s and 1s to indicate the first and second sentence respectively. In the case of single-sentence inputs, we assign a vector of 1s to each token, indicating they all belong to the first sentence.\n",
    "\n",
    "Let's get the BERT embeddings for the sentence \"Bank is located in the city of London\". \n",
    "\n",
    "First, let's prepare the text for BERT. "
   ]
  },
  {
   "cell_type": "code",
   "execution_count": 7,
   "metadata": {},
   "outputs": [],
   "source": [
    "text = \"Bank is located in the city of London\"\n",
    "tokenized_text, tokens_tensor, segments_tensor = prepare_text(text)"
   ]
  },
  {
   "cell_type": "markdown",
   "metadata": {},
   "source": [
    "Then, let's get the BERT embeddings for each token. "
   ]
  },
  {
   "cell_type": "code",
   "execution_count": 8,
   "metadata": {},
   "outputs": [],
   "source": [
    "outputs = model(tokens_tensor, segments_tensor)"
   ]
  },
  {
   "cell_type": "markdown",
   "metadata": {},
   "source": [
    "The output includes `loss`, `logits`, and `hidden_states`. We will use `hidden_states`, which contains the embeddings of the tokens. \n",
    "\n"
   ]
  },
  {
   "cell_type": "code",
   "execution_count": 13,
   "metadata": {},
   "outputs": [
    {
     "ename": "AttributeError",
     "evalue": "'tuple' object has no attribute 'hidden_states'",
     "output_type": "error",
     "traceback": [
      "\u001b[1;31m---------------------------------------------------------------------------\u001b[0m",
      "\u001b[1;31mAttributeError\u001b[0m                            Traceback (most recent call last)",
      "\u001b[1;32mz:\\My Drive (siyer5@binghamton.edu)\\Binghamton\\Spring 2024 Courses\\SSIE 519- Soft Computing- Sadamori Kojaku\\SSIE 519 Soft Computing Final project- Srikanth, Annajirao\\BERT contextualized embedding.ipynb Cell 15\u001b[0m line \u001b[0;36m1\n\u001b[1;32m----> <a href='vscode-notebook-cell:/z%3A/My%20Drive%20%28siyer5%40binghamton.edu%29/Binghamton/Spring%202024%20Courses/SSIE%20519-%20Soft%20Computing-%20Sadamori%20Kojaku/SSIE%20519%20Soft%20Computing%20Final%20project-%20Srikanth%2C%20Annajirao/BERT%20contextualized%20embedding.ipynb#X20sZmlsZQ%3D%3D?line=0'>1</a>\u001b[0m hidden_states \u001b[39m=\u001b[39m outputs\u001b[39m.\u001b[39mhidden_states\n\u001b[0;32m      <a href='vscode-notebook-cell:/z%3A/My%20Drive%20%28siyer5%40binghamton.edu%29/Binghamton/Spring%202024%20Courses/SSIE%20519-%20Soft%20Computing-%20Sadamori%20Kojaku/SSIE%20519%20Soft%20Computing%20Final%20project-%20Srikanth%2C%20Annajirao/BERT%20contextualized%20embedding.ipynb#X20sZmlsZQ%3D%3D?line=2'>3</a>\u001b[0m \u001b[39mprint\u001b[39m(\u001b[39m\"\u001b[39m\u001b[39mhow many layers? \u001b[39m\u001b[39m\"\u001b[39m, \u001b[39mlen\u001b[39m(hidden_states))\n\u001b[0;32m      <a href='vscode-notebook-cell:/z%3A/My%20Drive%20%28siyer5%40binghamton.edu%29/Binghamton/Spring%202024%20Courses/SSIE%20519-%20Soft%20Computing-%20Sadamori%20Kojaku/SSIE%20519%20Soft%20Computing%20Final%20project-%20Srikanth%2C%20Annajirao/BERT%20contextualized%20embedding.ipynb#X20sZmlsZQ%3D%3D?line=3'>4</a>\u001b[0m \u001b[39mprint\u001b[39m(\u001b[39m\"\u001b[39m\u001b[39mShape? \u001b[39m\u001b[39m\"\u001b[39m, hidden_states[\u001b[39m0\u001b[39m]\u001b[39m.\u001b[39mshape)\n",
      "\u001b[1;31mAttributeError\u001b[0m: 'tuple' object has no attribute 'hidden_states'"
     ]
    }
   ],
   "source": [
    "hidden_states = outputs.hidden_states\n",
    "\n",
    "print(\"how many layers? \", len(hidden_states))\n",
    "print(\"Shape? \", hidden_states[0].shape)"
   ]
  },
  {
   "cell_type": "markdown",
   "metadata": {},
   "source": [
    "The hidden states are a list of 13 tensors, where each tensor is of shape (batch_size, sequence_length, hidden_size). The first tensor is the input embeddings, and the subsequent tensors are the hidden states of the BERT layers. \n",
    "\n",
    "So, we have 13 choice of hidden states. Deep layers close to the output capture the context of the word from the previous layers.\n",
    "\n",
    "Here we will take the average over the last four hidden states for each token. "
   ]
  },
  {
   "cell_type": "code",
   "execution_count": null,
   "metadata": {},
   "outputs": [
    {
     "data": {
      "text/plain": [
       "torch.Size([10, 768])"
      ]
     },
     "execution_count": 9,
     "metadata": {},
     "output_type": "execute_result"
    }
   ],
   "source": [
    "# TODO: Compute the embedding of the token\n",
    "emb = torch.zeros((len(tokenized_text),768),dtype=torch.float32)\n",
    "n_layers=4\n",
    "for i in range(n_layers):\n",
    "  emb+=hidden_states[-i-1].squeeze(0)\n",
    "  emb/=n_layers\n",
    "emb.shape"
   ]
  },
  {
   "cell_type": "markdown",
   "metadata": {},
   "source": [
    "emb is of shape (sequence_length, hidden_size). Let us summarize the embeddings of the tokens into a function. "
   ]
  },
  {
   "cell_type": "code",
   "execution_count": null,
   "metadata": {},
   "outputs": [],
   "source": [
    "def get_bert_embeddings(text):\n",
    "    tokenized_text, tokens_tensor, segments_tensor = prepare_text(text)\n",
    "    outputs = model(tokens_tensor, segments_tensor)\n",
    "    hidden_states = outputs.hidden_states\n",
    "    emb =  torch.zeros((len(tokenized_text),768),dtype=torch.float32)\n",
    "    n_layers=4 #4 for a1, 1 for a2\n",
    "    for i in range(n_layers):\n",
    "      emb+=hidden_states[-i-1].squeeze(0)\n",
    "      emb/=n_layers\n",
    "    return emb, tokenized_text"
   ]
  },
  {
   "cell_type": "markdown",
   "metadata": {},
   "source": [
    "# Embedding\n",
    "Let's embed the text and get the embedding of the focal word "
   ]
  },
  {
   "cell_type": "code",
   "execution_count": null,
   "metadata": {},
   "outputs": [],
   "source": [
    "labels = []  # label\n",
    "emb = []  # embedding\n",
    "sentences = []  # sentence\n",
    "\n",
    "# TODO: Go through the data and get the embedding of the focal word.\n",
    "for i,(word_pos, sentence, label) in train_data.iterrows():\n",
    "    _emb, _tokenized_text=get_bert_embeddings(sentence)\n",
    "    _emb=_emb[word_pos]\n",
    "    emb.append(_emb)\n",
    "    sentences.append(sentence)\n",
    "    labels.append(label)\n",
    "emb=torch.stack(emb)\n",
    "labels=np.array(labels)"
   ]
  },
  {
   "cell_type": "markdown",
   "metadata": {},
   "source": [
    "# Results \n",
    "\n",
    "Let's plot the embeddings of the focal word. "
   ]
  },
  {
   "cell_type": "code",
   "execution_count": null,
   "metadata": {},
   "outputs": [
    {
     "data": {
      "application/vnd.plotly.v1+json": {
       "config": {
        "plotlyServerURL": "https://plotly.com"
       },
       "data": [
        {
         "customdata": [
          [
           "apple 's safari had its first beta release in january 2003 ; as of april 2011 , it had a dominant share of apple-based web browsing , accounting for just over 7 % of the entire browser market ."
          ],
          [
           "it is notable that , like many other fmv games of the era , golden gate killer uses apple 's quicktime technology for its integration of movies and sound , and also comes on a hybrid windows/macintosh cd-rom ( i.e. a single disc containing both the mac and windows versions of the game ) ."
          ],
          [
           "before this announcement , valve teased the release by e-mailing several images to mac community and gaming websites ; the images featured characters from valve games with apple logos and parodies of vintage macintosh advertisements ."
          ],
          [
           "in the eastern us , the gypsy moth prefers oaks , aspen , apple , sweetgum , speckled alder , basswood , gray , paper birch , poplar , willow , and hawthorns , amongst other species ."
          ],
          [
           "marketing logo used by commodore in the us during the late 1980s amiga technologies logo incorporating the '' boing ball '' ( 1996 ) the name amiga was chosen by the developers from the spanish word for a female friend , because they knew spanish , and because it occurred before apple and atari alphabetically ."
          ],
          [
           "projects include helping apple design the user-interface for applelink personal edition ( which became aol ) , hp with the design of the user interface for its halo telepresence system , kaiser permanente improve its online library for physicians and nurses , sabre revolutionize its graphical user-interface design for one-third of the world 's travel agents , livescribe with the first version of its smartpen , and sap 's with sustainability-oriented enterprise software ."
          ],
          [
           "backers included apple co-founder steve wozniak and kickstarter co-founder yancey strickler , who pre-ordered the kit ."
          ],
          [
           "they use apple laptops that students are required to supply themselves ."
          ],
          [
           "its competitors were apple 's own speech recognition software ( built into mac os x ) ; dragon naturally speaking by nuance , running under windows virtualization software such as parallels desktop for mac or vmware fusion ; and the discontinued speech recognition program viavoice by nuance / ibm ."
          ],
          [
           "this change was a response to the introduction of hulu and to apple 's new video rental services ."
          ],
          [
           "computer lettering the evolution of desktop publishing powered by computers , especially those made by apple , began in the 1980s , and started having a gradual impact on comics lettering soon after ."
          ],
          [
           "rambo is the name of two apple varieties ."
          ],
          [
           "depending on the student 's major , a student will receive either an apple macbook pro or a lenovo thinkpad to work with ."
          ],
          [
           "adam nash previously worked for linkedin , ebay and apple ."
          ],
          [
           "this technique , possible in many professional and home software applications , is termed '' the ken burns effect '' in apple 's iphoto , imovie and final cut pro x software applications ."
          ],
          [
           "the demos were running on '' xbox 360 alpha development kits '' which were apple powermac g5 , chosen due to the powerpc processor architecture that the machine shares with the xbox 360 ."
          ],
          [
           "some mobile device manufacturers include mobile cloud storage apps with their product as is the case with apple ."
          ],
          [
           "the ' summerfree ' is an apple cultivar first developed in italy in the 1990s by crossing ' pri 1956-6 ' and ' ed gould golden ' apples ."
          ],
          [
           "in an attempt to correct this situation , apple federal systems has done work for adding some support for common access cards to their later snow leopard operating system updates out of the box using the muscle ( movement for the use of smartcards in a linux environment ) project ."
          ],
          [
           "in april 2010 , the site was the 28th most visited site in the world according to alexa 's internet rankings and in august 2010 , the site was the 27th most visited site drawing more traffic than the websites of aol , bbc , flickr , craigslist , apple , cnn , linkedin , adobe , cnet , espn and several other heavy hitters ."
          ],
          [
           "he has contributed numerous articles to the apple developers connection , computer arts magazine , and macworld magazine as well as appearing on techtv 's the screen savers ."
          ],
          [
           "however , in recent years , its market share declined as a result of the growing use of touchscreen smartphones from other vendors , such as apple 's iphone line and android - based products ."
          ],
          [
           "it is a developer tool included in apple mac os x v10.5 and later versions of mac os x , built on top of the dtrace tracing framework from opensolaris and ported to mac os x ."
          ],
          [
           "a company representative , at the 2007 premiere of the apple iphone , promised it '' will feel like minority report ."
          ],
          [
           "fone zone listed on the australian stock exchange in 2005 and recently announced the purchase of next byte , a chain of apple resellers , in an effort to broaden their income stream and enhance growth ."
          ],
          [
           "it is commonly made from the fermentation of plum , but other fruits used include apricot , apple , pear , peach and cherries ."
          ],
          [
           "he may have been a god of apple tree ."
          ],
          [
           "hamton j . pig : hungry boy hamton ( a.k.a. '' junction '' ) - similar to konami 's loco-motion , hamton is walking along a blue path towards apple ."
          ],
          [
           "apple and bunches of grape occur very frequently , other fruits less so ."
          ],
          [
           "products in the caldera include fruits ( apple , grapes , quince fruit , pomegranate , fig , peach and tomato ) and vegetables ( bean , corn , potato , yam , manioc , and peppers ) for local consumption and commercial production ."
          ],
          [
           "was a magazine for owners of apple 's ios devices ( iphone , ipad and ipod touch ) , published by future plc ."
          ],
          [
           "critics felt that in the case of the latter , microsoft 's decision had delivered a potential blow to the adoption of usb 2.0 , as xp was to provide support for the competing , apple - developed firewire standard instead ."
          ],
          [
           "esther balogh spoke on paprika , bruce kraig on hot dog and joan morgan on apple , soon to be the subject of her definitive the book of apples ( 1993 ) ."
          ],
          [
           "ios ( ipad , iphone , ipod touch ) on january 19 , 2012 , namco bandai released a port of soulcalibur for apple 's ios platform ."
          ],
          [
           "in the late 18th and early 19th centuries , westford primarily produced granite , apple , and worsted yarn ."
          ],
          [
           "it is an agricultural center , producing primarily cereals , potato , and fruit ( mainly apple ) ."
          ],
          [
           "the app first launched in february 2012 for san francisco users on apple devices ."
          ],
          [
           "history development the development of the galaxy gear came in the midst of a push towards the growing smartwatch market ; samsung 's main competitor apple had been the subject of rumors suggesting an upcoming watch product , while the kickstarter - backed pebble ( which reached mass market availability in july 2013 ) has been credited with creating mainstream interest in the concept ."
          ],
          [
           "in the fall of 2006 , used apple laptop computers were issued to each incoming freshman ."
          ],
          [
           "apple has proposed and implemented a closure syntax for c that solves the upwards funarg problem by dynamically moving closures from the stack to the heap as necessary ."
          ],
          [
           "the issue marked the eighth time jobs was featured on the cover of time , and included a photographic essay by diana walker , a retrospective on apple by harry mccracken and lev grossman , and a six-page essay by walter isaacson ."
          ],
          [
           "bob mansfield is a hardware engineer working at apple ."
          ],
          [
           "new species he described for the first time in the flora altaica include malus sieversii ( as pyrus sieversii ) , the wild ancestor of the apple , and the siberian larch ( larix sibirica ) ."
          ],
          [
           "career he started his career at apple ."
          ],
          [
           "the most common version of unix ( bearing certification ) is apple 's os x , while linux is the most popular non-certified workalike ."
          ],
          [
           "due to the overall customer experience , including ease of use and emphasis on design , betterment has been called the '' apple of finance ."
          ],
          [
           "the school has recently announced the shift to apple products for the 2014-2015 school year ."
          ],
          [
           "technology industry pittsburgh has established itself as a technology hub with such companies as google , apple , intel and rand establishing campuses in the city ."
          ],
          [
           "major prizes are supplied by adobe and apple ."
          ],
          [
           "the fruit grow as small , showy , apple - like , red pome , ripening in september to october , and enduring into the winter ."
          ],
          [
           "they also eat crops such as apple , and will raid maize and sorghum ."
          ],
          [
           "on may 15 , 2013 , '' say the same thing '' became the 50 billionth download in apple 's app store ."
          ],
          [
           "it was established in 1975 with a purpose of conservation of natural forests composed of walnut trees ( juglans regia ) , apple trees ( malus spp ) , alycha ( prunus divaricata ) and other species ."
          ],
          [
           "in 2007 , apple announced that tahoma would be bundled with the next version of mac os x v10.5 ( '' leopard '' ) ."
          ],
          [
           "← = = members = = members of the html working group include representatives from the following organizations : adobe systems inc. apple google , inc. hp microsoft mozilla opera software w3c has also invited several experts to collaborate with the working group including : robin berjon ( current editor for the html5 and dom4 specifications ) marcos cáceres ian devlin steve faulkner john foliot jeremy keith martin mcevoy janina sajka david sleight manu sporny oli studholme internal working system the htmlwg has members from a diverse community such as content provider , content authors and anyone interested in the work on html ."
          ],
          [
           "itrack solo is an interface for recording instruments and vocals using an apple ipad ."
          ],
          [
           "clowdy also have an for apple ios users and an for android ."
          ],
          [
           "in the original , an apple obscures the face ."
          ],
          [
           "according to stephenson , inspiration was drawn not just from the beatles , but also from the story of apple and their war with microsoft and how he thought the leaders of the two rivals would work if they were teammates ."
          ],
          [
           "later desktop computers built by apple and ibm would also offer a simpler and more popular architecture to run lisp applications on ."
          ],
          [
           "several apple proprietary disk image formats can be used to create these images , including the universal disk image format ( udif ) and the new disk image format ( ndif ) ."
          ],
          [
           "the episode introduces sabre 's pyramid tablet , a device that serves as a parody of several tablet computer , specifically the apple ipad ."
          ],
          [
           "the suicides drew media attention , and employment practices at foxconn , a large contract manufacturer , were investigated by several of its customers including apple and hp ."
          ],
          [
           "at lower altitudes , temperate-climate trees are found , including oak , chestnut , maple , birch , alder , magnolia , apple , and apricot ."
          ],
          [
           "this can be done either on a windows pc running fl studio natively , or an apple computer using either boot camp or virtualization ."
          ],
          [
           "later bought by apple and distributed for free , at least in part to settle a class-action lawsuit brought by customers who demanded to know why their 32-bit 68020 microprocessors could not access more than 8 megabytes of ram ."
          ],
          [
           "rogers introduced service on the gsm wireless network in 2002 , and brought apple 's iphone to canada in 2008 ."
          ],
          [
           "another important activity is the production of apple , pear , peach and others , specially in the alto valle area , shared with río negro ."
          ],
          [
           "among the ingredients used are plum or pear syrup , dried pears , plums or cherries , apple vinegar and honey ."
          ],
          [
           "after demoing their product on an early apple computer , businesses became interested in obtaining their product ."
          ],
          [
           "in 1959 , barclay hauled several wagonloads of apple to the roadside and set up a makeshift stand ."
          ],
          [
           "mostarda di mantova ( also called mostarda di mele campanine or mostarda mantovana ) is made from small , sour green apple called mele campanine ."
          ],
          [
           "some ( such as apple , atari , and acorn ) persevered with their independent and quite different systems ."
          ],
          [
           "the fruits , which only ripen after dropping to the ground , are valued as an australian bush food and are variously described as tasting like stewed apple or kiwifruit ."
          ],
          [
           "in modern ides all major development environments supply some manner of class browser , including apple xcode for mac os x cincom smalltalk codewarrior for microsoft windows , mac os , and embedded systems eclipse embarcadero delphi embarcadero jbuilder ibm websphere intellij idea kdevelop microsoft visual studio netbeans red gate .net reflector squeak smalltalk step ahead javelin visual prolog zeus for windows ide modern class browsers fall into three general categories : the columnar browsers , the outline browsers , and the diagram browsers ."
          ],
          [
           "atlassian confluence apple calendar contactizer em client fruux facebook firstclass google calendar huddle liquidplanner lotus notes lotus organizer meeting maker ( peoplecube ) microsoft entourage microsoft exchange server microsoft office outlook 2000 microsoft office outlook 2007 microsoft office outlook 2010 microsoft office outlook 2013 microsoft works calendar midas web based room and resource scheduling software which allows export of bookings in ical format myphoneexplorer freeware phone manager for sonyericsson mobile phones ."
          ],
          [
           "animal feces fresh bear scat showing a diet of apple bear scat showing consumption of bin bag in garbage horse feces the feces of animals often have special names ."
          ],
          [
           "pennsylvania ranks fourth in the united states in dairy production , fourth in horticulture retail sales , first in agaricus mushroom production ( 62 % of u.s. output during 2011 -- 12 ) , fourth in apple production , fourth in grape production , and seventh in winemaking ."
          ],
          [
           "he also seems to love stuffed toy , as evident in pitchin ' impossible in many episodes , he is seen doing many random things with body parts from dead characters , like using mime 's head for a jack o'lantern , using sniffles ' head for a bowling ball , mistaking disco bear 's severed head for a watermelon and weighing it on a scale , mistaking giggles ' heart as a piece of litter , and mistaking cuddles ' eye for an apple ."
          ],
          [
           "iphone hacking brocious , under the pseudonym daeken , joined with a group of other hackers to reverse engineer the iphone , granting users the ability to use their phones in ways not intended by apple ."
          ],
          [
           "main branch of economy is agriculture , is growing cereals ( barley , wheat , oats ) , vegetables , tobacco , sunflower and permanent crops : orchards ( apple , cherry , hair ) and vine ."
          ],
          [
           "the fact that it was n't a '' clone '' of similar 8-bit systems ( like the apple , the trs-80 or even the sinclair spectrum ) certainly did not contributed to its popularity ."
          ],
          [
           "in 1999 he portrayed original apple investor mike markkula in the tnt movie pirates of silicon valley ."
          ],
          [
           "pascal cagni is a french business leader best known for his highly successful management of apple 's european business from 2000 to 2012 ."
          ],
          [
           "taste can vary depending on soil conditions , and the tastes of apple , pineapple , and banana together is also common ."
          ],
          [
           "ios version chrome is available on apple 's mobile ios operating system as google chrome for ios ."
          ],
          [
           "beignet are also very famous and are commonly prepared with apple and served with vanilla sauce ."
          ],
          [
           "hocevar is part of goatse security , an information security working group most known for revealing a security flaw in at&t 's website , leading to the release of 114,000 email addresses of apple ipad users ."
          ],
          [
           "espn media outlets espn mvp/mobile the book those guys have all the fun : inside the world of espn notes that apple ceo steve jobs reportedly told espn president george bodenheimer in reference to an espn-branded samsung flip-phone released in 2006 , '' your phone is the dumbest fucking idea i have ever heard '' ."
          ],
          [
           "in 2007 , she wrote the piano piece '' the kiss '' that was used for a worldwide tv advertising campaign for apple ipad 3 and it was also used for marks & spencer 's advert ."
          ],
          [
           "the codling moth cydia pomonella causes worm-holes in apple ."
          ],
          [
           "medavoy himself leaves his wife , recognizing that she is holding him back , but it is too late to save his relationship with donna , who leaves to take a job with apple in california ."
          ],
          [
           "companies covered include apple , bbc , bskyb , bt , canal+ , channel 4 , ee , dmgt , facebook , channel 5 , google , guardian media group , hibu , hutchison 3g , iliad s.a . , itv , microsoft , nokia , o2 , orange , sfr , sky deutschland , sky italia , t-mobile , talktalk , virgin media , vodafone , yahoo! ."
          ],
          [
           "as a location scout in hollywood , he has recently scouted for the hangover part iii , hawaii five-0 , burlesque , the fighter , castle and commercials for brands such as apple , exxonmobil , ford , hyundai , mountain dew , nike , pepsi , verizon and others ."
          ],
          [
           "idex holds early patents for low-cost capacitive fingerprint sensors and has a cross-licence with apple relating to this technology ."
          ],
          [
           "introduced in 1999 , it preceded the apple ipod and similar players ."
          ],
          [
           "he also played norvo tigan , the brother of nicole de boer 's character of ezri dax , in the episode , '' '' ; '' psychic-guy '' patient mr. duff in the grey 's anatomy episode , '' save me '' ; the driver in the 2001 vw jetta ad , '' big day '' ; and the groom in the apple idvd ad , '' elope '' ."
          ],
          [
           "pangea software is an apple product game company based in austin , texas that is owned and operated by brian greenstone ."
          ],
          [
           "the digital audio access protocol ( daap ) is the proprietary protocol introduced by apple in its itunes software to share media across a local network ."
          ],
          [
           "he has also been featured in print campaigns for apple and disney ."
          ]
         ],
         "hovertemplate": "x=%{x}<br>y=%{y}<br>hover_data_0=%{customdata[0]}<br>color=%{marker.color}<extra></extra>",
         "legendgroup": "",
         "marker": {
          "color": [
           0,
           0,
           0,
           1,
           0,
           0,
           0,
           0,
           0,
           0,
           0,
           1,
           0,
           0,
           0,
           0,
           0,
           1,
           0,
           0,
           0,
           0,
           0,
           0,
           0,
           1,
           1,
           1,
           1,
           1,
           0,
           0,
           1,
           0,
           1,
           1,
           0,
           0,
           0,
           0,
           0,
           0,
           1,
           0,
           0,
           0,
           0,
           0,
           0,
           1,
           1,
           0,
           1,
           0,
           0,
           0,
           0,
           1,
           0,
           0,
           0,
           0,
           0,
           1,
           0,
           0,
           0,
           1,
           1,
           0,
           1,
           1,
           0,
           1,
           0,
           0,
           1,
           1,
           1,
           0,
           1,
           0,
           0,
           0,
           1,
           0,
           1,
           0,
           0,
           0,
           1,
           0,
           0,
           0,
           0,
           0,
           0,
           0,
           0,
           0
          ],
          "coloraxis": "coloraxis",
          "line": {
           "color": "DarkSlateGrey",
           "width": 2
          },
          "size": 12,
          "symbol": "circle"
         },
         "mode": "markers",
         "name": "",
         "orientation": "v",
         "showlegend": false,
         "type": "scatter",
         "x": [
          0.9673932194709778,
          1.3945369720458984,
          -1.5939667224884033,
          0.5227180123329163,
          0.1869591623544693,
          -0.021792639046907425,
          -0.29343780875205994,
          -0.7433778643608093,
          -0.9759902954101562,
          -0.2805003523826599,
          -1.9934378862380981,
          -0.9734691977500916,
          0.18678243458271027,
          0.9287530779838562,
          2.2621092796325684,
          1.6235311031341553,
          -1.6024161577224731,
          0.0778861865401268,
          1.2612261772155762,
          0.3936873972415924,
          -0.8885214924812317,
          1.7130953073501587,
          -1.749706745147705,
          -1.781288504600525,
          0.5546069741249084,
          -0.4110424816608429,
          -0.627058207988739,
          -1.0227724313735962,
          0.9520390629768372,
          2.030039072036743,
          -1.7877609729766846,
          -2.0303666591644287,
          -0.8533112406730652,
          -0.362018883228302,
          2.0055832862854004,
          0.7066307067871094,
          -1.7085907459259033,
          -0.7160590887069702,
          -0.35324642062187195,
          1.1272817850112915,
          -1.3229806423187256,
          -1.262931227684021,
          2.500466823577881,
          -0.9961203336715698,
          -1.632605791091919,
          -0.2199581414461136,
          -1.4711179733276367,
          -0.27179113030433655,
          -0.7019785642623901,
          0.6130402684211731,
          -0.25246354937553406,
          1.4724043607711792,
          3.6396665573120117,
          1.3691723346710205,
          1.0035641193389893,
          1.497990369796753,
          -0.8330665230751038,
          -0.0036365948617458344,
          -1.8770979642868042,
          -1.6958523988723755,
          -0.40396848320961,
          -1.0072144269943237,
          -1.0446635484695435,
          2.811678409576416,
          -0.22981715202331543,
          -1.7583085298538208,
          -0.4295826852321625,
          -0.5669480562210083,
          0.5183262825012207,
          -0.9814852476119995,
          1.4235213994979858,
          2.4481561183929443,
          -1.2627089023590088,
          -0.41461247205734253,
          1.8181977272033691,
          0.9008931517601013,
          -0.24875999987125397,
          0.40721213817596436,
          -0.530407726764679,
          -0.4336686432361603,
          1.9476524591445923,
          1.7815353870391846,
          -0.04272491857409477,
          0.4068465828895569,
          -1.0706368684768677,
          -1.7896854877471924,
          -0.21615856885910034,
          -0.42415890097618103,
          2.0285730361938477,
          1.1067893505096436,
          2.348759889602661,
          -0.303789347410202,
          -0.11531920731067657,
          1.316303014755249,
          1.9760926961898804,
          -1.4023027420043945,
          -1.5662789344787598,
          -0.12483391165733337,
          -0.6866707801818848,
          -1.8652597665786743
         ],
         "xaxis": "x",
         "y": [
          -0.2483682632446289,
          0.3431047201156616,
          -0.39006948471069336,
          -1.2000834941864014,
          -0.8460071682929993,
          0.5327453017234802,
          -0.07236514240503311,
          -1.1679389476776123,
          -0.6951236128807068,
          -0.8176361322402954,
          1.887929081916809,
          -1.205913782119751,
          -1.0787218809127808,
          2.1001691818237305,
          -0.4399298131465912,
          -0.5452500581741333,
          0.9725486636161804,
          -1.4675345420837402,
          0.060776982456445694,
          1.645885944366455,
          0.8583221435546875,
          -0.27388978004455566,
          1.0141797065734863,
          0.9636108875274658,
          1.1356201171875,
          -1.9653152227401733,
          -0.864622950553894,
          0.44435644149780273,
          -1.106215238571167,
          -0.4658411741256714,
          0.17204785346984863,
          -0.40722182393074036,
          0.09613358974456787,
          -0.1272498369216919,
          0.371743768453598,
          -1.4188461303710938,
          0.8236527442932129,
          1.2002521753311157,
          -0.5950762033462524,
          -0.3943823277950287,
          0.7609532475471497,
          2.073047399520874,
          0.5006514191627502,
          1.366687536239624,
          -0.6492021679878235,
          -0.21227993071079254,
          -0.545984148979187,
          1.3370561599731445,
          0.5310695171356201,
          -1.2595247030258179,
          -1.7179688215255737,
          1.1040228605270386,
          1.0349924564361572,
          0.32938316464424133,
          2.5136661529541016,
          -0.18956373631954193,
          -0.6693002581596375,
          -1.5258928537368774,
          0.06460714340209961,
          1.8528854846954346,
          -0.4238305985927582,
          -0.5784611701965332,
          0.3045550286769867,
          0.31280532479286194,
          -1.0730379819869995,
          2.3983919620513916,
          -0.5677104592323303,
          -1.5055290460586548,
          -1.8227667808532715,
          -0.24832485616207123,
          -0.0312483087182045,
          0.7153260111808777,
          0.4774821102619171,
          -2.098118543624878,
          -0.21825633943080902,
          1.5091838836669922,
          -1.4308409690856934,
          -0.11352662742137909,
          -1.5312139987945557,
          -1.1489760875701904,
          -1.1002182960510254,
          1.2600263357162476,
          0.40935468673706055,
          0.41201019287109375,
          -2.0212061405181885,
          0.7544111013412476,
          -1.5793794393539429,
          -0.1960584819316864,
          1.436198115348816,
          1.520040512084961,
          0.09821934252977371,
          -0.5458025932312012,
          -0.8213986158370972,
          0.8345054388046265,
          0.5892008543014526,
          0.9570257663726807,
          -0.1437891721725464,
          0.011347801424562931,
          -0.08977054804563522,
          1.7606018781661987
         ],
         "yaxis": "y"
        }
       ],
       "layout": {
        "coloraxis": {
         "colorbar": {
          "title": {
           "text": "color"
          }
         },
         "colorscale": [
          [
           0,
           "#0d0887"
          ],
          [
           0.1111111111111111,
           "#46039f"
          ],
          [
           0.2222222222222222,
           "#7201a8"
          ],
          [
           0.3333333333333333,
           "#9c179e"
          ],
          [
           0.4444444444444444,
           "#bd3786"
          ],
          [
           0.5555555555555556,
           "#d8576b"
          ],
          [
           0.6666666666666666,
           "#ed7953"
          ],
          [
           0.7777777777777778,
           "#fb9f3a"
          ],
          [
           0.8888888888888888,
           "#fdca26"
          ],
          [
           1,
           "#f0f921"
          ]
         ]
        },
        "height": 500,
        "legend": {
         "tracegroupgap": 0
        },
        "template": {
         "data": {
          "bar": [
           {
            "error_x": {
             "color": "#2a3f5f"
            },
            "error_y": {
             "color": "#2a3f5f"
            },
            "marker": {
             "line": {
              "color": "#E5ECF6",
              "width": 0.5
             },
             "pattern": {
              "fillmode": "overlay",
              "size": 10,
              "solidity": 0.2
             }
            },
            "type": "bar"
           }
          ],
          "barpolar": [
           {
            "marker": {
             "line": {
              "color": "#E5ECF6",
              "width": 0.5
             },
             "pattern": {
              "fillmode": "overlay",
              "size": 10,
              "solidity": 0.2
             }
            },
            "type": "barpolar"
           }
          ],
          "carpet": [
           {
            "aaxis": {
             "endlinecolor": "#2a3f5f",
             "gridcolor": "white",
             "linecolor": "white",
             "minorgridcolor": "white",
             "startlinecolor": "#2a3f5f"
            },
            "baxis": {
             "endlinecolor": "#2a3f5f",
             "gridcolor": "white",
             "linecolor": "white",
             "minorgridcolor": "white",
             "startlinecolor": "#2a3f5f"
            },
            "type": "carpet"
           }
          ],
          "choropleth": [
           {
            "colorbar": {
             "outlinewidth": 0,
             "ticks": ""
            },
            "type": "choropleth"
           }
          ],
          "contour": [
           {
            "colorbar": {
             "outlinewidth": 0,
             "ticks": ""
            },
            "colorscale": [
             [
              0,
              "#0d0887"
             ],
             [
              0.1111111111111111,
              "#46039f"
             ],
             [
              0.2222222222222222,
              "#7201a8"
             ],
             [
              0.3333333333333333,
              "#9c179e"
             ],
             [
              0.4444444444444444,
              "#bd3786"
             ],
             [
              0.5555555555555556,
              "#d8576b"
             ],
             [
              0.6666666666666666,
              "#ed7953"
             ],
             [
              0.7777777777777778,
              "#fb9f3a"
             ],
             [
              0.8888888888888888,
              "#fdca26"
             ],
             [
              1,
              "#f0f921"
             ]
            ],
            "type": "contour"
           }
          ],
          "contourcarpet": [
           {
            "colorbar": {
             "outlinewidth": 0,
             "ticks": ""
            },
            "type": "contourcarpet"
           }
          ],
          "heatmap": [
           {
            "colorbar": {
             "outlinewidth": 0,
             "ticks": ""
            },
            "colorscale": [
             [
              0,
              "#0d0887"
             ],
             [
              0.1111111111111111,
              "#46039f"
             ],
             [
              0.2222222222222222,
              "#7201a8"
             ],
             [
              0.3333333333333333,
              "#9c179e"
             ],
             [
              0.4444444444444444,
              "#bd3786"
             ],
             [
              0.5555555555555556,
              "#d8576b"
             ],
             [
              0.6666666666666666,
              "#ed7953"
             ],
             [
              0.7777777777777778,
              "#fb9f3a"
             ],
             [
              0.8888888888888888,
              "#fdca26"
             ],
             [
              1,
              "#f0f921"
             ]
            ],
            "type": "heatmap"
           }
          ],
          "heatmapgl": [
           {
            "colorbar": {
             "outlinewidth": 0,
             "ticks": ""
            },
            "colorscale": [
             [
              0,
              "#0d0887"
             ],
             [
              0.1111111111111111,
              "#46039f"
             ],
             [
              0.2222222222222222,
              "#7201a8"
             ],
             [
              0.3333333333333333,
              "#9c179e"
             ],
             [
              0.4444444444444444,
              "#bd3786"
             ],
             [
              0.5555555555555556,
              "#d8576b"
             ],
             [
              0.6666666666666666,
              "#ed7953"
             ],
             [
              0.7777777777777778,
              "#fb9f3a"
             ],
             [
              0.8888888888888888,
              "#fdca26"
             ],
             [
              1,
              "#f0f921"
             ]
            ],
            "type": "heatmapgl"
           }
          ],
          "histogram": [
           {
            "marker": {
             "pattern": {
              "fillmode": "overlay",
              "size": 10,
              "solidity": 0.2
             }
            },
            "type": "histogram"
           }
          ],
          "histogram2d": [
           {
            "colorbar": {
             "outlinewidth": 0,
             "ticks": ""
            },
            "colorscale": [
             [
              0,
              "#0d0887"
             ],
             [
              0.1111111111111111,
              "#46039f"
             ],
             [
              0.2222222222222222,
              "#7201a8"
             ],
             [
              0.3333333333333333,
              "#9c179e"
             ],
             [
              0.4444444444444444,
              "#bd3786"
             ],
             [
              0.5555555555555556,
              "#d8576b"
             ],
             [
              0.6666666666666666,
              "#ed7953"
             ],
             [
              0.7777777777777778,
              "#fb9f3a"
             ],
             [
              0.8888888888888888,
              "#fdca26"
             ],
             [
              1,
              "#f0f921"
             ]
            ],
            "type": "histogram2d"
           }
          ],
          "histogram2dcontour": [
           {
            "colorbar": {
             "outlinewidth": 0,
             "ticks": ""
            },
            "colorscale": [
             [
              0,
              "#0d0887"
             ],
             [
              0.1111111111111111,
              "#46039f"
             ],
             [
              0.2222222222222222,
              "#7201a8"
             ],
             [
              0.3333333333333333,
              "#9c179e"
             ],
             [
              0.4444444444444444,
              "#bd3786"
             ],
             [
              0.5555555555555556,
              "#d8576b"
             ],
             [
              0.6666666666666666,
              "#ed7953"
             ],
             [
              0.7777777777777778,
              "#fb9f3a"
             ],
             [
              0.8888888888888888,
              "#fdca26"
             ],
             [
              1,
              "#f0f921"
             ]
            ],
            "type": "histogram2dcontour"
           }
          ],
          "mesh3d": [
           {
            "colorbar": {
             "outlinewidth": 0,
             "ticks": ""
            },
            "type": "mesh3d"
           }
          ],
          "parcoords": [
           {
            "line": {
             "colorbar": {
              "outlinewidth": 0,
              "ticks": ""
             }
            },
            "type": "parcoords"
           }
          ],
          "pie": [
           {
            "automargin": true,
            "type": "pie"
           }
          ],
          "scatter": [
           {
            "fillpattern": {
             "fillmode": "overlay",
             "size": 10,
             "solidity": 0.2
            },
            "type": "scatter"
           }
          ],
          "scatter3d": [
           {
            "line": {
             "colorbar": {
              "outlinewidth": 0,
              "ticks": ""
             }
            },
            "marker": {
             "colorbar": {
              "outlinewidth": 0,
              "ticks": ""
             }
            },
            "type": "scatter3d"
           }
          ],
          "scattercarpet": [
           {
            "marker": {
             "colorbar": {
              "outlinewidth": 0,
              "ticks": ""
             }
            },
            "type": "scattercarpet"
           }
          ],
          "scattergeo": [
           {
            "marker": {
             "colorbar": {
              "outlinewidth": 0,
              "ticks": ""
             }
            },
            "type": "scattergeo"
           }
          ],
          "scattergl": [
           {
            "marker": {
             "colorbar": {
              "outlinewidth": 0,
              "ticks": ""
             }
            },
            "type": "scattergl"
           }
          ],
          "scattermapbox": [
           {
            "marker": {
             "colorbar": {
              "outlinewidth": 0,
              "ticks": ""
             }
            },
            "type": "scattermapbox"
           }
          ],
          "scatterpolar": [
           {
            "marker": {
             "colorbar": {
              "outlinewidth": 0,
              "ticks": ""
             }
            },
            "type": "scatterpolar"
           }
          ],
          "scatterpolargl": [
           {
            "marker": {
             "colorbar": {
              "outlinewidth": 0,
              "ticks": ""
             }
            },
            "type": "scatterpolargl"
           }
          ],
          "scatterternary": [
           {
            "marker": {
             "colorbar": {
              "outlinewidth": 0,
              "ticks": ""
             }
            },
            "type": "scatterternary"
           }
          ],
          "surface": [
           {
            "colorbar": {
             "outlinewidth": 0,
             "ticks": ""
            },
            "colorscale": [
             [
              0,
              "#0d0887"
             ],
             [
              0.1111111111111111,
              "#46039f"
             ],
             [
              0.2222222222222222,
              "#7201a8"
             ],
             [
              0.3333333333333333,
              "#9c179e"
             ],
             [
              0.4444444444444444,
              "#bd3786"
             ],
             [
              0.5555555555555556,
              "#d8576b"
             ],
             [
              0.6666666666666666,
              "#ed7953"
             ],
             [
              0.7777777777777778,
              "#fb9f3a"
             ],
             [
              0.8888888888888888,
              "#fdca26"
             ],
             [
              1,
              "#f0f921"
             ]
            ],
            "type": "surface"
           }
          ],
          "table": [
           {
            "cells": {
             "fill": {
              "color": "#EBF0F8"
             },
             "line": {
              "color": "white"
             }
            },
            "header": {
             "fill": {
              "color": "#C8D4E3"
             },
             "line": {
              "color": "white"
             }
            },
            "type": "table"
           }
          ]
         },
         "layout": {
          "annotationdefaults": {
           "arrowcolor": "#2a3f5f",
           "arrowhead": 0,
           "arrowwidth": 1
          },
          "autotypenumbers": "strict",
          "coloraxis": {
           "colorbar": {
            "outlinewidth": 0,
            "ticks": ""
           }
          },
          "colorscale": {
           "diverging": [
            [
             0,
             "#8e0152"
            ],
            [
             0.1,
             "#c51b7d"
            ],
            [
             0.2,
             "#de77ae"
            ],
            [
             0.3,
             "#f1b6da"
            ],
            [
             0.4,
             "#fde0ef"
            ],
            [
             0.5,
             "#f7f7f7"
            ],
            [
             0.6,
             "#e6f5d0"
            ],
            [
             0.7,
             "#b8e186"
            ],
            [
             0.8,
             "#7fbc41"
            ],
            [
             0.9,
             "#4d9221"
            ],
            [
             1,
             "#276419"
            ]
           ],
           "sequential": [
            [
             0,
             "#0d0887"
            ],
            [
             0.1111111111111111,
             "#46039f"
            ],
            [
             0.2222222222222222,
             "#7201a8"
            ],
            [
             0.3333333333333333,
             "#9c179e"
            ],
            [
             0.4444444444444444,
             "#bd3786"
            ],
            [
             0.5555555555555556,
             "#d8576b"
            ],
            [
             0.6666666666666666,
             "#ed7953"
            ],
            [
             0.7777777777777778,
             "#fb9f3a"
            ],
            [
             0.8888888888888888,
             "#fdca26"
            ],
            [
             1,
             "#f0f921"
            ]
           ],
           "sequentialminus": [
            [
             0,
             "#0d0887"
            ],
            [
             0.1111111111111111,
             "#46039f"
            ],
            [
             0.2222222222222222,
             "#7201a8"
            ],
            [
             0.3333333333333333,
             "#9c179e"
            ],
            [
             0.4444444444444444,
             "#bd3786"
            ],
            [
             0.5555555555555556,
             "#d8576b"
            ],
            [
             0.6666666666666666,
             "#ed7953"
            ],
            [
             0.7777777777777778,
             "#fb9f3a"
            ],
            [
             0.8888888888888888,
             "#fdca26"
            ],
            [
             1,
             "#f0f921"
            ]
           ]
          },
          "colorway": [
           "#636efa",
           "#EF553B",
           "#00cc96",
           "#ab63fa",
           "#FFA15A",
           "#19d3f3",
           "#FF6692",
           "#B6E880",
           "#FF97FF",
           "#FECB52"
          ],
          "font": {
           "color": "#2a3f5f"
          },
          "geo": {
           "bgcolor": "white",
           "lakecolor": "white",
           "landcolor": "#E5ECF6",
           "showlakes": true,
           "showland": true,
           "subunitcolor": "white"
          },
          "hoverlabel": {
           "align": "left"
          },
          "hovermode": "closest",
          "mapbox": {
           "style": "light"
          },
          "paper_bgcolor": "white",
          "plot_bgcolor": "#E5ECF6",
          "polar": {
           "angularaxis": {
            "gridcolor": "white",
            "linecolor": "white",
            "ticks": ""
           },
           "bgcolor": "#E5ECF6",
           "radialaxis": {
            "gridcolor": "white",
            "linecolor": "white",
            "ticks": ""
           }
          },
          "scene": {
           "xaxis": {
            "backgroundcolor": "#E5ECF6",
            "gridcolor": "white",
            "gridwidth": 2,
            "linecolor": "white",
            "showbackground": true,
            "ticks": "",
            "zerolinecolor": "white"
           },
           "yaxis": {
            "backgroundcolor": "#E5ECF6",
            "gridcolor": "white",
            "gridwidth": 2,
            "linecolor": "white",
            "showbackground": true,
            "ticks": "",
            "zerolinecolor": "white"
           },
           "zaxis": {
            "backgroundcolor": "#E5ECF6",
            "gridcolor": "white",
            "gridwidth": 2,
            "linecolor": "white",
            "showbackground": true,
            "ticks": "",
            "zerolinecolor": "white"
           }
          },
          "shapedefaults": {
           "line": {
            "color": "#2a3f5f"
           }
          },
          "ternary": {
           "aaxis": {
            "gridcolor": "white",
            "linecolor": "white",
            "ticks": ""
           },
           "baxis": {
            "gridcolor": "white",
            "linecolor": "white",
            "ticks": ""
           },
           "bgcolor": "#E5ECF6",
           "caxis": {
            "gridcolor": "white",
            "linecolor": "white",
            "ticks": ""
           }
          },
          "title": {
           "x": 0.05
          },
          "xaxis": {
           "automargin": true,
           "gridcolor": "white",
           "linecolor": "white",
           "ticks": "",
           "title": {
            "standoff": 15
           },
           "zerolinecolor": "white",
           "zerolinewidth": 2
          },
          "yaxis": {
           "automargin": true,
           "gridcolor": "white",
           "linecolor": "white",
           "ticks": "",
           "title": {
            "standoff": 15
           },
           "zerolinecolor": "white",
           "zerolinewidth": 2
          }
         }
        },
        "title": {
         "text": "PCA of Word Embeddings"
        },
        "width": 700,
        "xaxis": {
         "anchor": "y",
         "domain": [
          0,
          1
         ],
         "title": {
          "text": "x"
         }
        },
        "yaxis": {
         "anchor": "x",
         "domain": [
          0,
          1
         ],
         "title": {
          "text": "y"
         }
        }
       }
      }
     },
     "metadata": {},
     "output_type": "display_data"
    }
   ],
   "source": [
    "def plot_result(emb, labels, sentences):\n",
    "    xy = PCA(n_components=2).fit_transform(emb)\n",
    "\n",
    "    fig = px.scatter(\n",
    "        x=xy[:, 0],\n",
    "        y=xy[:, 1],\n",
    "        color=labels,\n",
    "        hover_data=[sentences],\n",
    "        title=\"PCA of Word Embeddings\",\n",
    "    )\n",
    "    fig.update_layout(width=700, height=500)\n",
    "    fig.update_traces(\n",
    "        marker=dict(size=12, line=dict(width=2, color=\"DarkSlateGrey\")),\n",
    "        selector=dict(mode=\"markers\"),\n",
    "    )\n",
    "    fig.show()\n",
    "\n",
    "emb1 = emb.detach().numpy()\n",
    "plot_result(emb1, labels, sentences)"
   ]
  },
  {
   "cell_type": "markdown",
   "metadata": {},
   "source": [
    "# Assignment"
   ]
  },
  {
   "cell_type": "code",
   "execution_count": null,
   "metadata": {},
   "outputs": [],
   "source": [
    "from sklearn.discriminant_analysis import LinearDiscriminantAnalysis\n",
    "\n",
    "\n",
    "# def save_assignment(emb, labels, assignment_id, data_dir):\n",
    "#     K = len(set(labels))\n",
    "#     xy = LinearDiscriminantAnalysis(n_components=K - 1).fit_transform(emb, labels)\n",
    "#     xy_df = pd.DataFrame(xy)\n",
    "#     xy_df[\"label\"] = labels\n",
    "#     xy_df.to_csv(f\"{data_dir}/eval_test_{assignment_id}.csv\", index=False)"
   ]
  },
  {
   "cell_type": "markdown",
   "metadata": {},
   "source": [
    "## Assignment 1\n",
    "- Run this notebook for any word available in [the dataset](https://github.com/danlou/bert-disambiguation/tree/master/data/CoarseWSD-20) except for \"apple\". \n",
    "- Save the (dimensionality-reduced) embeddings of the test data and their labels by running the following cell.  \n",
    "- Make sure to place the generated file \"eval_test_01.csv\" in the \"data\" folder. \n",
    "- Commit the file to your assignment repository. "
   ]
  },
  {
   "cell_type": "code",
   "execution_count": null,
   "metadata": {},
   "outputs": [
    {
     "data": {
      "application/vnd.plotly.v1+json": {
       "config": {
        "plotlyServerURL": "https://plotly.com"
       },
       "data": [
        {
         "customdata": [
          [
           "theoretical approaches there are several commonly used approaches to shock absorption : hysteresis of structural material , for example the compression of rubber disks , stretching of rubber bands and cords , bending of steel spring , or twisting of torsion bar ."
          ],
          [
           "he was appointed vicar of the sanctuary of tepeyac ( near mexico city ) in 1647 , and rebuilt the first chapel there , which enclosed a freshwater spring ."
          ],
          [
           "the myrsky iii was ordered in spring 1943 , but none were built ."
          ],
          [
           "medium-sized surface features may include sinkhole or cenote ( closed basins ) , vertical shafts , foibe ( inverted funnel shaped sinkholes ) , disappearing streams , and reappearing spring ."
          ],
          [
           "the church is built adjacent to a spring whose water contains radon , which is supposedly beneficial to eyesight ."
          ],
          [
           "glacial lake situated up from the elevations of in the mercan valley , spring in the ovacık plain , canyon and waterfall along the valleys enrich the natural values of the national park ."
          ],
          [
           "he who gives himself over to thought under those may blossoms and young leaves on the graveyard bench encounters an original picture of romanticism : mysteriously carefree , the colourful spring overgrows the transient idyll lying in the rubble ."
          ],
          [
           "it was officially greenlit along with the third season on november 29 , 2012 , will consist of eight episodes and will start shooting in spring 2013 for an expected fall 2013 broadcast ."
          ],
          [
           "the straight river is fed by spring which provide water cold enough to support an abundant trout population , and is known in sport fishing for catches of brown trout exceeding in length ."
          ],
          [
           "its natural habitat are temperate forest , river , intermittent rivers , and freshwater spring ."
          ],
          [
           "sources this small short beck rises from series of spring that feed into it at the northern end of sheringham wood ."
          ],
          [
           "spring provides forces that can either hold components of a machine in place or acts as a suspension to support part of a machine ."
          ],
          [
           "these are just two of the many spring and stream that used to flow through this part of london from the high ground to the west , down into the river lea ."
          ],
          [
           "this is the site of the spring which used to be the hamlet 's water supply ."
          ],
          [
           "an enormous first magnitude spring , it rises at the base of a bluff on the west side of the current river valley in the missouri ozarks ."
          ],
          [
           "its natural habitat are subtropical or tropical dry forest , subtropical or tropical moist lowland forests , subtropical or tropical moist montane forest , river , intermittent rivers , and freshwater spring ."
          ],
          [
           "its natural habitat are river , freshwater marsh , freshwater spring , and coastal saline lagoon ."
          ],
          [
           "the chun can also refer to fa chun ( ) , which is slang for sexual arousal - literally '' spring has come '' ."
          ],
          [
           "june gloom is a southern california term for a weather pattern that results in cloudy , overcast skies with cool temperatures during the late spring and early summer , most commonly in the month of june ."
          ],
          [
           "conjunto primavera was formed on the first day of spring in 1978 by the saxophonist juan dominguez ."
          ],
          [
           "the temple was naturally dedicated to shiva , while the water from the spring which emerges directly behind the temple was considered sacred ."
          ],
          [
           "its natural habitat are temperate forest , temperate shrubland , freshwater spring , rocky areas , and cave ."
          ],
          [
           "cuthbert moves a huge rock for the construction of his building ( chapter two ) , and orders his men to dig up some stony ground created an open spring into being ( chapter three ) ."
          ],
          [
           "the latter interpretation could refer to the spring on the hill and the waterfall from it ."
          ],
          [
           "maples flower in late winter or early spring , in most species with or just after the appearance of the leaves , but in some before the trees leaf out ."
          ],
          [
           "they are anchored onto the bridge of the nose via two small spring - loaded clips terminating in special nose-pads made from bone or tortoise shell on metal called plaquettes , which are tweezered apart for placement on the face through applying pressure to two small lever - like finger-pieces located on the front of the bridge ."
          ],
          [
           "its natural habitat are subtropical or tropical dry forest , subtropical or tropical moist lowland forests , dry savanna , moist savanna , river , intermittent rivers , freshwater lake , intermittent freshwater lakes , freshwater marsh , intermittent freshwater marshes , freshwater spring , inland deltas , arable land , pastureland , plantation , rural gardens , urban area , heavily degraded former forests , water storage areas , pond , aquaculture ponds , irrigated land , and seasonally flooded agricultural land ."
          ],
          [
           "it was transmitted on bbc two in the spring of 1995 ."
          ],
          [
           "the refuge is divided into two units , punamano and ki i. the punamano unit , at , is a natural spring - fed pond , while the ki i unit , at , is a remnant marsh that has been drastically modified by agriculture ."
          ],
          [
           "this extra internal energy , or strain energy , can be likened to a compressed spring ."
          ],
          [
           "electronic analog computers polish analog computer akat-1 the similarity between linear mechanical components , such as spring and dashpot ( viscous-fluid dampers ) , and electrical components , such as capacitor , inductor , and resistor is striking in terms of mathematics ."
          ],
          [
           "juniper springs juniper springs ( referred to locally as '' the springs '' , located in the ocala national forest east of ocala , florida , is a natural spring that forms the headwaters of juniper creek that winds its way to lake george in the saint johns river ."
          ],
          [
           "oasis in the libya part of the sahara in geography , an oasis ( plural : oases ) or cienega ( southwestern united states ) is an isolated area of vegetation in a desert , typically surrounding a spring or similar water source ."
          ],
          [
           "springs derives its name from a spring that fed a small creek going into the harbor ."
          ],
          [
           "it was not until 1908 , however , that work was finished on the watermain , which was fed by two spring more than 6 km away from oberbrombach , up above leisel ."
          ],
          [
           "to prevent beetle transmission , oaks should never be pruned in the spring months in the east and midwest or february through june in texas ."
          ],
          [
           "in spring the old leaf pair parts to reveal the new leaves and the old leaves will then dry up ."
          ],
          [
           "much of the water lost by the snake river as it transects the plain issues back into the river at its western end , by way of many artesian spring ."
          ],
          [
           "when the fuse blows , the wire breaks and the indicator button is ejected by the spring ."
          ],
          [
           "johnson springs is a spring east of the county seat munfordville kentucky , u.s. ."
          ],
          [
           "its natural habitat is freshwater spring ."
          ],
          [
           "pasta primavera is usually highlighted by light flavors , aromatic herbs and bright colors ( '' primavera '' meaning '' spring '' ) ."
          ],
          [
           "its natural habitat are temperate forest , river , swamp , freshwater spring , and plantation ."
          ],
          [
           "the species was originally known only from its type locality , a spring near the village of aperi ; however , in 2012 it was found at seven new localities , a fact which might indicate that its conservation status needs to be updated ."
          ],
          [
           "spring , rivers , lakes and oases occur when the water table reaches the surface ."
          ],
          [
           "according to ovid 's metamorphoses , after numa 's death egeria was transformed into a spring , this sort of place being a usual site of inspiration and prophecy in antiquity ."
          ],
          [
           "the territory ranges from 700 to 4000 m and is larger for females than males and is also larger in autumn than spring ."
          ],
          [
           "in the local village börlinghausen lies the spring of the wipper ."
          ],
          [
           "its natural habitat are subtropical or tropical dry shrubland , subtropical or tropical dry lowland grassland , freshwater spring , hot desert , and sandy shores ."
          ],
          [
           "it has its own permanent water supply , a spring in the center of the island ."
          ],
          [
           "cacciatore stadium occupies the south end of wish field for blue demons softball during the spring , with its 1,200-seat grandstand situated in the southwest corner ."
          ],
          [
           "marzas is the name given to the songs with which the month of march is received and the arrival of the spring season is celebrated ."
          ],
          [
           "the valve core is a poppet valve assisted by a spring ."
          ],
          [
           "the plant flowers through the spring time between the months of september to january ."
          ],
          [
           "drekavac could be seen at night , especially during the twelve days of christmas ( called unbaptised days in serbo-croatian ) and in early spring , in time where other demons appear most often ."
          ],
          [
           "the local spring provided water for native american settlements , and early travelers ."
          ],
          [
           "how it works in the riefler escapement , the energy required to keep the pendulum swinging is instead supplied by bending the short straight spring strip which suspends the pendulum ."
          ],
          [
           "the cave contains a spring and a well named in his honor and has a colourful history ."
          ],
          [
           "plot a young girl , biljana , is washing linen as a dowry for her upcoming wedding at a spring of the ohrid lake ."
          ],
          [
           "saint clement can be seen depicted near a fountain or spring , relating to the incident from his hagiography , or lying in a temple in the sea ."
          ],
          [
           "popular events deskati is famous for its andromana , an event that happens at the end of spring , where men stand on each other 's shoulders to create a large structure with their bodies ."
          ],
          [
           "pneumatic valve springs are metal bellows filled with compressed air used as an alternative to the metal wire spring used to close valve in high-speed internal combustion engine ."
          ],
          [
           "the sulz -- may have referred to a salty spring , or perhaps to a boggy forest ﬂoor ."
          ],
          [
           "khordad is the third month of the spring season ( bahar ) ."
          ],
          [
           "locale near to the town is the ayn al-garr spring and massyas lake and marshes that are considered to be the source of the litani river ."
          ],
          [
           "st dominic 's holy well is a natural spring located in the parish of st george , truro , cornwall ."
          ],
          [
           "if a perched aquifer 's flow intersects the earth 's dry surface , at a valley wall for example , the water is discharged as a spring ."
          ],
          [
           "the sun is supposed to be in first point of aries , ( hamal ) which is first sign of zodiac and is a natural beginning of spring ."
          ],
          [
           "some of these types do not require a special ritual body of water ( and can be done with tap water ) : other occasions require full immersion in a special body of water , such as a spring , stream , or mikveh : temple mount prior to ascending the temple mount by those orthodox authorities who permit ascending the temple mount ( and also by the masorti movement in israel ) ."
          ],
          [
           "types of pipe supports pipe guides ( cylinder pipe guides - spider guides ) rigid support spring support snubber / shock absorber rigid support rigid supports are used to restrict pipe in certain direction ( s ) without any flexibility ( in that direction ) ."
          ],
          [
           "ewell has the main spring , with an adjoining pond , at the head of the hogsmill river , a small tributary of the river thames ."
          ],
          [
           "when the frog rewarms during spring , the extra glucose must be rapidly eliminated , but stored ."
          ],
          [
           "jpg garland chrysanthemum is a very common spring flower in israel eshtaol forest 3 ."
          ],
          [
           "course wekiwa springs the headwater of the wekiva river is the wekiwa springs , a 2nd magnitude spring located within the wekiwa springs state park in apopka , florida ."
          ],
          [
           "geology and ecology weldon springs is an unusual spring in the relatively flat grande prairie of central illinois ."
          ],
          [
           "1958 season after a hot spring , francona won the whie sox starting right field job ."
          ],
          [
           "description root system of switchgrass grown at the land institute switchgrass is a hardy , deep-rooted , perennial rhizomatous grass that begins growth in late spring ."
          ],
          [
           "the tarzan swing : this was a steel arch hanging from a - long cable over a spring - fed pool ."
          ],
          [
           "the warhead consists of a simple metal shell surrounding the explosives , and is triggered by a fuse constructed using a simple firearm cartridge , a spring and a nail ."
          ],
          [
           "more demographic information on the umaidpur village can be obtained here climate umaidpur experiences six distinct seasons ऋतु ( ritu ( indian season ) ) : spring वसन्त , winter शिशिर , summer ग्रीष्म , monsoon वर्षा , autumn शरद् , and fall हेमन्त ."
          ],
          [
           "they are also used as a source of nectar by the pearl-bordered fritillary ( boloria euphrosyne ) , one of the earliest emerging butterflies in the spring ."
          ],
          [
           "the shock absorber usually consists of two parts : a spring and a damper or dashpot ."
          ],
          [
           "two fountain , which were fed by the sacred spring , still survive ."
          ],
          [
           "snow remaining in the summit gullies in spring gives the appearance of feathers - hence the name '' feathertop '' ."
          ],
          [
           "in a solid material , such strain will in turn generate an internal elastic stress , analogous to the reaction force of a stretched spring , tending to restore the material to its original undeformed state ."
          ],
          [
           "they fill with water in the spring , creating wetlands which range in duration from temporary to semipermanent ."
          ],
          [
           "in addition to the church and rectory , there was the village spring across the road from the church , and , in the main street , a school , a village shop , a post office , and a pub ( the white horse ) ."
          ],
          [
           "a silver lobster clasp , attached to a piece of jewelry , enlarged to show details a lobster clasp , also known as a lobster hook , or bocklebee clasp , is a fastener that is held closed by a spring ."
          ],
          [
           "its natural habitat are subtropical or tropical moist lowland forest , subtropical or tropical moist montane forest , river , intermittent rivers , freshwater spring , plantation , rural gardens , heavily degraded former forests , irrigated land , and seasonally flooded agricultural land ."
          ],
          [
           "in mechanical horology , a remontoire , ( from the french remonter , meaning ` to wind ' ) is a small secondary source of power , a weight or spring , which runs the timekeeping mechanism and is itself periodically rewound by the timepiece 's main power source , such as a mainspring ."
          ],
          [
           "gagea is a large genus of spring flower in the liliaceae found in europe and western asia ."
          ],
          [
           "the process was to deaden a few trees near the head of a spring , and mark the bark of one or more of them with the initials or name of the person who made the claim ."
          ],
          [
           "a child in a puddle puddles in natural landscape and habitat , when not resulting from precipitation , can indicate the presence of a seep or spring ."
          ],
          [
           "this system requires no outlet for gas or barrel recoil , but operates by means of a spring freely interposed between bolt head and bolt ."
          ],
          [
           "bulgarians also celebrate this holiday to welcome spring and close the cycle of adolescent girls ' vernal rites ."
          ],
          [
           "carnaval 2013 carnaval parades often emphasize on ridiculing and social criticism role reversal and suspension of social norms is part of the origin of the carnaval woman at carnaval parade in heerlen , netherlands 2012 carnival ( ; also called '' vastenavond '' - eve of the fasting or ) is originally a europe pagan spring festival , with an emphasis on role-reversal and suspension of social norms ."
          ],
          [
           "it airs on ant1 and it broadcast in the 2006 spring ."
          ],
          [
           "in the 13th century a building was constructed on the current site , protected by a spring - fed moat ."
          ],
          [
           "pseudomonas orientalis is a gram-negative , rod-shaped bacterium isolated from spring waters in lebanon ."
          ],
          [
           "aside from rivers , the snake is fed by many significant spring , many of which arise from the aquifer on the west side of the plain ."
          ]
         ],
         "hovertemplate": "x=%{x}<br>y=%{y}<br>hover_data_0=%{customdata[0]}<br>color=%{marker.color}<extra></extra>",
         "legendgroup": "",
         "marker": {
          "color": [
           2,
           0,
           1,
           0,
           0,
           0,
           1,
           1,
           0,
           0,
           0,
           2,
           0,
           0,
           0,
           0,
           0,
           1,
           1,
           1,
           0,
           0,
           0,
           0,
           1,
           2,
           0,
           1,
           0,
           2,
           2,
           0,
           0,
           0,
           0,
           1,
           1,
           0,
           2,
           0,
           0,
           1,
           0,
           0,
           0,
           0,
           1,
           0,
           0,
           0,
           1,
           1,
           2,
           1,
           1,
           0,
           2,
           0,
           0,
           0,
           1,
           2,
           0,
           1,
           0,
           0,
           0,
           1,
           0,
           2,
           0,
           1,
           1,
           0,
           0,
           1,
           1,
           0,
           2,
           1,
           1,
           2,
           0,
           1,
           2,
           1,
           0,
           2,
           0,
           2,
           1,
           0,
           0,
           2,
           1,
           1,
           1,
           0,
           0,
           0
          ],
          "coloraxis": "coloraxis",
          "line": {
           "color": "DarkSlateGrey",
           "width": 2
          },
          "size": 12,
          "symbol": "circle"
         },
         "mode": "markers",
         "name": "",
         "orientation": "v",
         "showlegend": false,
         "type": "scatter",
         "x": [
          -1.3775097131729126,
          0.16204224526882172,
          -0.8399673700332642,
          0.052364081144332886,
          -1.5961873531341553,
          0.5210838913917542,
          -1.2607671022415161,
          0.4476925730705261,
          -1.2732141017913818,
          4.789182186126709,
          -1.373581051826477,
          0.015874605625867844,
          -0.8317953944206238,
          -1.4982222318649292,
          0.9431248307228088,
          4.562801837921143,
          4.664098739624023,
          -0.2172469049692154,
          -0.7706464529037476,
          -1.0589203834533691,
          -1.8627872467041016,
          -0.41144710779190063,
          0.05220622941851616,
          -1.7756375074386597,
          -0.16674643754959106,
          -0.42016568779945374,
          4.733201026916504,
          -0.4956776797771454,
          -0.7653743624687195,
          0.7835379838943481,
          -0.3422415256500244,
          2.1558098793029785,
          1.6660560369491577,
          -1.8235090970993042,
          -1.7561686038970947,
          -0.6602394580841064,
          -0.5845642685890198,
          -1.4097371101379395,
          -1.2901127338409424,
          -0.4051288366317749,
          4.461726665496826,
          0.19847695529460907,
          4.372371673583984,
          -1.5796868801116943,
          0.0993814542889595,
          -0.12906046211719513,
          -0.5773420929908752,
          0.7630583047866821,
          -0.15226617455482483,
          -1.847708821296692,
          1.1450036764144897,
          -0.5560967326164246,
          -1.469042420387268,
          -0.6726818084716797,
          0.11360325664281845,
          0.15245068073272705,
          -1.3508566617965698,
          -1.4227253198623657,
          0.037146009504795074,
          -0.4236789345741272,
          -1.1984025239944458,
          -1.700674057006836,
          -1.3538812398910522,
          0.581287682056427,
          0.37382179498672485,
          -1.0549592971801758,
          1.3904606103897095,
          -0.3944145143032074,
          -1.4294638633728027,
          0.5334657430648804,
          -1.0009350776672363,
          1.1825166940689087,
          1.3029379844665527,
          0.8530088663101196,
          -1.0279533863067627,
          0.7227331399917603,
          2.696786642074585,
          -1.6939051151275635,
          -1.817893624305725,
          -0.7337794899940491,
          1.2173383235931396,
          -1.219590425491333,
          1.0445445775985718,
          0.4532555937767029,
          0.2136840969324112,
          -0.38124677538871765,
          0.6005968451499939,
          -0.5594759583473206,
          4.424746990203857,
          -0.4546588063240051,
          1.0769122838974,
          -1.1674063205718994,
          2.1972482204437256,
          -1.775190830230713,
          -1.483428716659546,
          -0.511391282081604,
          -0.9004430174827576,
          -1.4230971336364746,
          2.3452842235565186,
          -0.37197405099868774
         ],
         "xaxis": "x",
         "y": [
          -0.7783758640289307,
          -1.0440218448638916,
          -0.8073416948318481,
          -0.35313382744789124,
          2.232861042022705,
          -0.32359975576400757,
          -1.0179483890533447,
          -1.5283458232879639,
          2.8218934535980225,
          2.0295112133026123,
          2.475208282470703,
          -1.1776103973388672,
          0.7497175335884094,
          1.432428002357483,
          -0.1721237599849701,
          1.9986542463302612,
          2.027812957763672,
          -1.3918142318725586,
          -1.0559163093566895,
          -0.4991488754749298,
          1.3748881816864014,
          0.4957663118839264,
          0.10334882885217667,
          0.9542805552482605,
          -1.5013439655303955,
          0.3906945586204529,
          2.329270124435425,
          -0.7715379595756531,
          -1.106943964958191,
          -0.7822678685188293,
          -0.9727064371109009,
          -1.1755181550979614,
          -0.6582263112068176,
          2.0932302474975586,
          2.6037580966949463,
          -0.743922770023346,
          -0.8905303478240967,
          2.066577434539795,
          0.1893017739057541,
          1.1468632221221924,
          1.6147487163543701,
          -1.6916459798812866,
          2.1382789611816406,
          2.103703260421753,
          -1.0953134298324585,
          -0.9938052892684937,
          -1.5928400754928589,
          -1.1755595207214355,
          0.48547038435935974,
          2.3599114418029785,
          -1.0898475646972656,
          -1.742113709449768,
          1.455721378326416,
          -0.5860216617584229,
          -1.5842382907867432,
          0.3333525061607361,
          -0.5010886192321777,
          2.2050249576568604,
          -1.429994821548462,
          -0.19156622886657715,
          -1.3993574380874634,
          -0.8888396620750427,
          0.2776086628437042,
          -1.872019648551941,
          -0.5533244609832764,
          1.4922960996627808,
          0.42803287506103516,
          -0.2564185857772827,
          1.5244765281677246,
          -0.8629009127616882,
          0.9590321183204651,
          -1.664262294769287,
          -1.109815001487732,
          -1.7115076780319214,
          1.4789620637893677,
          -0.7169415950775146,
          -1.2063664197921753,
          1.4634857177734375,
          -0.061276208609342575,
          -0.9898755550384521,
          -1.4141509532928467,
          -0.33441922068595886,
          -0.291612833738327,
          -0.8729841709136963,
          -0.8141161203384399,
          -0.3227565586566925,
          -0.21238768100738525,
          -0.9164935350418091,
          2.1955084800720215,
          -0.4761498272418976,
          -0.9492073655128479,
          1.3773349523544312,
          -0.5809980034828186,
          1.5166693925857544,
          -0.9126304388046265,
          -1.632226586341858,
          -1.274106502532959,
          1.7921828031539917,
          -1.1002625226974487,
          1.1059492826461792
         ],
         "yaxis": "y"
        }
       ],
       "layout": {
        "coloraxis": {
         "colorbar": {
          "title": {
           "text": "color"
          }
         },
         "colorscale": [
          [
           0,
           "#0d0887"
          ],
          [
           0.1111111111111111,
           "#46039f"
          ],
          [
           0.2222222222222222,
           "#7201a8"
          ],
          [
           0.3333333333333333,
           "#9c179e"
          ],
          [
           0.4444444444444444,
           "#bd3786"
          ],
          [
           0.5555555555555556,
           "#d8576b"
          ],
          [
           0.6666666666666666,
           "#ed7953"
          ],
          [
           0.7777777777777778,
           "#fb9f3a"
          ],
          [
           0.8888888888888888,
           "#fdca26"
          ],
          [
           1,
           "#f0f921"
          ]
         ]
        },
        "height": 500,
        "legend": {
         "tracegroupgap": 0
        },
        "template": {
         "data": {
          "bar": [
           {
            "error_x": {
             "color": "#2a3f5f"
            },
            "error_y": {
             "color": "#2a3f5f"
            },
            "marker": {
             "line": {
              "color": "#E5ECF6",
              "width": 0.5
             },
             "pattern": {
              "fillmode": "overlay",
              "size": 10,
              "solidity": 0.2
             }
            },
            "type": "bar"
           }
          ],
          "barpolar": [
           {
            "marker": {
             "line": {
              "color": "#E5ECF6",
              "width": 0.5
             },
             "pattern": {
              "fillmode": "overlay",
              "size": 10,
              "solidity": 0.2
             }
            },
            "type": "barpolar"
           }
          ],
          "carpet": [
           {
            "aaxis": {
             "endlinecolor": "#2a3f5f",
             "gridcolor": "white",
             "linecolor": "white",
             "minorgridcolor": "white",
             "startlinecolor": "#2a3f5f"
            },
            "baxis": {
             "endlinecolor": "#2a3f5f",
             "gridcolor": "white",
             "linecolor": "white",
             "minorgridcolor": "white",
             "startlinecolor": "#2a3f5f"
            },
            "type": "carpet"
           }
          ],
          "choropleth": [
           {
            "colorbar": {
             "outlinewidth": 0,
             "ticks": ""
            },
            "type": "choropleth"
           }
          ],
          "contour": [
           {
            "colorbar": {
             "outlinewidth": 0,
             "ticks": ""
            },
            "colorscale": [
             [
              0,
              "#0d0887"
             ],
             [
              0.1111111111111111,
              "#46039f"
             ],
             [
              0.2222222222222222,
              "#7201a8"
             ],
             [
              0.3333333333333333,
              "#9c179e"
             ],
             [
              0.4444444444444444,
              "#bd3786"
             ],
             [
              0.5555555555555556,
              "#d8576b"
             ],
             [
              0.6666666666666666,
              "#ed7953"
             ],
             [
              0.7777777777777778,
              "#fb9f3a"
             ],
             [
              0.8888888888888888,
              "#fdca26"
             ],
             [
              1,
              "#f0f921"
             ]
            ],
            "type": "contour"
           }
          ],
          "contourcarpet": [
           {
            "colorbar": {
             "outlinewidth": 0,
             "ticks": ""
            },
            "type": "contourcarpet"
           }
          ],
          "heatmap": [
           {
            "colorbar": {
             "outlinewidth": 0,
             "ticks": ""
            },
            "colorscale": [
             [
              0,
              "#0d0887"
             ],
             [
              0.1111111111111111,
              "#46039f"
             ],
             [
              0.2222222222222222,
              "#7201a8"
             ],
             [
              0.3333333333333333,
              "#9c179e"
             ],
             [
              0.4444444444444444,
              "#bd3786"
             ],
             [
              0.5555555555555556,
              "#d8576b"
             ],
             [
              0.6666666666666666,
              "#ed7953"
             ],
             [
              0.7777777777777778,
              "#fb9f3a"
             ],
             [
              0.8888888888888888,
              "#fdca26"
             ],
             [
              1,
              "#f0f921"
             ]
            ],
            "type": "heatmap"
           }
          ],
          "heatmapgl": [
           {
            "colorbar": {
             "outlinewidth": 0,
             "ticks": ""
            },
            "colorscale": [
             [
              0,
              "#0d0887"
             ],
             [
              0.1111111111111111,
              "#46039f"
             ],
             [
              0.2222222222222222,
              "#7201a8"
             ],
             [
              0.3333333333333333,
              "#9c179e"
             ],
             [
              0.4444444444444444,
              "#bd3786"
             ],
             [
              0.5555555555555556,
              "#d8576b"
             ],
             [
              0.6666666666666666,
              "#ed7953"
             ],
             [
              0.7777777777777778,
              "#fb9f3a"
             ],
             [
              0.8888888888888888,
              "#fdca26"
             ],
             [
              1,
              "#f0f921"
             ]
            ],
            "type": "heatmapgl"
           }
          ],
          "histogram": [
           {
            "marker": {
             "pattern": {
              "fillmode": "overlay",
              "size": 10,
              "solidity": 0.2
             }
            },
            "type": "histogram"
           }
          ],
          "histogram2d": [
           {
            "colorbar": {
             "outlinewidth": 0,
             "ticks": ""
            },
            "colorscale": [
             [
              0,
              "#0d0887"
             ],
             [
              0.1111111111111111,
              "#46039f"
             ],
             [
              0.2222222222222222,
              "#7201a8"
             ],
             [
              0.3333333333333333,
              "#9c179e"
             ],
             [
              0.4444444444444444,
              "#bd3786"
             ],
             [
              0.5555555555555556,
              "#d8576b"
             ],
             [
              0.6666666666666666,
              "#ed7953"
             ],
             [
              0.7777777777777778,
              "#fb9f3a"
             ],
             [
              0.8888888888888888,
              "#fdca26"
             ],
             [
              1,
              "#f0f921"
             ]
            ],
            "type": "histogram2d"
           }
          ],
          "histogram2dcontour": [
           {
            "colorbar": {
             "outlinewidth": 0,
             "ticks": ""
            },
            "colorscale": [
             [
              0,
              "#0d0887"
             ],
             [
              0.1111111111111111,
              "#46039f"
             ],
             [
              0.2222222222222222,
              "#7201a8"
             ],
             [
              0.3333333333333333,
              "#9c179e"
             ],
             [
              0.4444444444444444,
              "#bd3786"
             ],
             [
              0.5555555555555556,
              "#d8576b"
             ],
             [
              0.6666666666666666,
              "#ed7953"
             ],
             [
              0.7777777777777778,
              "#fb9f3a"
             ],
             [
              0.8888888888888888,
              "#fdca26"
             ],
             [
              1,
              "#f0f921"
             ]
            ],
            "type": "histogram2dcontour"
           }
          ],
          "mesh3d": [
           {
            "colorbar": {
             "outlinewidth": 0,
             "ticks": ""
            },
            "type": "mesh3d"
           }
          ],
          "parcoords": [
           {
            "line": {
             "colorbar": {
              "outlinewidth": 0,
              "ticks": ""
             }
            },
            "type": "parcoords"
           }
          ],
          "pie": [
           {
            "automargin": true,
            "type": "pie"
           }
          ],
          "scatter": [
           {
            "fillpattern": {
             "fillmode": "overlay",
             "size": 10,
             "solidity": 0.2
            },
            "type": "scatter"
           }
          ],
          "scatter3d": [
           {
            "line": {
             "colorbar": {
              "outlinewidth": 0,
              "ticks": ""
             }
            },
            "marker": {
             "colorbar": {
              "outlinewidth": 0,
              "ticks": ""
             }
            },
            "type": "scatter3d"
           }
          ],
          "scattercarpet": [
           {
            "marker": {
             "colorbar": {
              "outlinewidth": 0,
              "ticks": ""
             }
            },
            "type": "scattercarpet"
           }
          ],
          "scattergeo": [
           {
            "marker": {
             "colorbar": {
              "outlinewidth": 0,
              "ticks": ""
             }
            },
            "type": "scattergeo"
           }
          ],
          "scattergl": [
           {
            "marker": {
             "colorbar": {
              "outlinewidth": 0,
              "ticks": ""
             }
            },
            "type": "scattergl"
           }
          ],
          "scattermapbox": [
           {
            "marker": {
             "colorbar": {
              "outlinewidth": 0,
              "ticks": ""
             }
            },
            "type": "scattermapbox"
           }
          ],
          "scatterpolar": [
           {
            "marker": {
             "colorbar": {
              "outlinewidth": 0,
              "ticks": ""
             }
            },
            "type": "scatterpolar"
           }
          ],
          "scatterpolargl": [
           {
            "marker": {
             "colorbar": {
              "outlinewidth": 0,
              "ticks": ""
             }
            },
            "type": "scatterpolargl"
           }
          ],
          "scatterternary": [
           {
            "marker": {
             "colorbar": {
              "outlinewidth": 0,
              "ticks": ""
             }
            },
            "type": "scatterternary"
           }
          ],
          "surface": [
           {
            "colorbar": {
             "outlinewidth": 0,
             "ticks": ""
            },
            "colorscale": [
             [
              0,
              "#0d0887"
             ],
             [
              0.1111111111111111,
              "#46039f"
             ],
             [
              0.2222222222222222,
              "#7201a8"
             ],
             [
              0.3333333333333333,
              "#9c179e"
             ],
             [
              0.4444444444444444,
              "#bd3786"
             ],
             [
              0.5555555555555556,
              "#d8576b"
             ],
             [
              0.6666666666666666,
              "#ed7953"
             ],
             [
              0.7777777777777778,
              "#fb9f3a"
             ],
             [
              0.8888888888888888,
              "#fdca26"
             ],
             [
              1,
              "#f0f921"
             ]
            ],
            "type": "surface"
           }
          ],
          "table": [
           {
            "cells": {
             "fill": {
              "color": "#EBF0F8"
             },
             "line": {
              "color": "white"
             }
            },
            "header": {
             "fill": {
              "color": "#C8D4E3"
             },
             "line": {
              "color": "white"
             }
            },
            "type": "table"
           }
          ]
         },
         "layout": {
          "annotationdefaults": {
           "arrowcolor": "#2a3f5f",
           "arrowhead": 0,
           "arrowwidth": 1
          },
          "autotypenumbers": "strict",
          "coloraxis": {
           "colorbar": {
            "outlinewidth": 0,
            "ticks": ""
           }
          },
          "colorscale": {
           "diverging": [
            [
             0,
             "#8e0152"
            ],
            [
             0.1,
             "#c51b7d"
            ],
            [
             0.2,
             "#de77ae"
            ],
            [
             0.3,
             "#f1b6da"
            ],
            [
             0.4,
             "#fde0ef"
            ],
            [
             0.5,
             "#f7f7f7"
            ],
            [
             0.6,
             "#e6f5d0"
            ],
            [
             0.7,
             "#b8e186"
            ],
            [
             0.8,
             "#7fbc41"
            ],
            [
             0.9,
             "#4d9221"
            ],
            [
             1,
             "#276419"
            ]
           ],
           "sequential": [
            [
             0,
             "#0d0887"
            ],
            [
             0.1111111111111111,
             "#46039f"
            ],
            [
             0.2222222222222222,
             "#7201a8"
            ],
            [
             0.3333333333333333,
             "#9c179e"
            ],
            [
             0.4444444444444444,
             "#bd3786"
            ],
            [
             0.5555555555555556,
             "#d8576b"
            ],
            [
             0.6666666666666666,
             "#ed7953"
            ],
            [
             0.7777777777777778,
             "#fb9f3a"
            ],
            [
             0.8888888888888888,
             "#fdca26"
            ],
            [
             1,
             "#f0f921"
            ]
           ],
           "sequentialminus": [
            [
             0,
             "#0d0887"
            ],
            [
             0.1111111111111111,
             "#46039f"
            ],
            [
             0.2222222222222222,
             "#7201a8"
            ],
            [
             0.3333333333333333,
             "#9c179e"
            ],
            [
             0.4444444444444444,
             "#bd3786"
            ],
            [
             0.5555555555555556,
             "#d8576b"
            ],
            [
             0.6666666666666666,
             "#ed7953"
            ],
            [
             0.7777777777777778,
             "#fb9f3a"
            ],
            [
             0.8888888888888888,
             "#fdca26"
            ],
            [
             1,
             "#f0f921"
            ]
           ]
          },
          "colorway": [
           "#636efa",
           "#EF553B",
           "#00cc96",
           "#ab63fa",
           "#FFA15A",
           "#19d3f3",
           "#FF6692",
           "#B6E880",
           "#FF97FF",
           "#FECB52"
          ],
          "font": {
           "color": "#2a3f5f"
          },
          "geo": {
           "bgcolor": "white",
           "lakecolor": "white",
           "landcolor": "#E5ECF6",
           "showlakes": true,
           "showland": true,
           "subunitcolor": "white"
          },
          "hoverlabel": {
           "align": "left"
          },
          "hovermode": "closest",
          "mapbox": {
           "style": "light"
          },
          "paper_bgcolor": "white",
          "plot_bgcolor": "#E5ECF6",
          "polar": {
           "angularaxis": {
            "gridcolor": "white",
            "linecolor": "white",
            "ticks": ""
           },
           "bgcolor": "#E5ECF6",
           "radialaxis": {
            "gridcolor": "white",
            "linecolor": "white",
            "ticks": ""
           }
          },
          "scene": {
           "xaxis": {
            "backgroundcolor": "#E5ECF6",
            "gridcolor": "white",
            "gridwidth": 2,
            "linecolor": "white",
            "showbackground": true,
            "ticks": "",
            "zerolinecolor": "white"
           },
           "yaxis": {
            "backgroundcolor": "#E5ECF6",
            "gridcolor": "white",
            "gridwidth": 2,
            "linecolor": "white",
            "showbackground": true,
            "ticks": "",
            "zerolinecolor": "white"
           },
           "zaxis": {
            "backgroundcolor": "#E5ECF6",
            "gridcolor": "white",
            "gridwidth": 2,
            "linecolor": "white",
            "showbackground": true,
            "ticks": "",
            "zerolinecolor": "white"
           }
          },
          "shapedefaults": {
           "line": {
            "color": "#2a3f5f"
           }
          },
          "ternary": {
           "aaxis": {
            "gridcolor": "white",
            "linecolor": "white",
            "ticks": ""
           },
           "baxis": {
            "gridcolor": "white",
            "linecolor": "white",
            "ticks": ""
           },
           "bgcolor": "#E5ECF6",
           "caxis": {
            "gridcolor": "white",
            "linecolor": "white",
            "ticks": ""
           }
          },
          "title": {
           "x": 0.05
          },
          "xaxis": {
           "automargin": true,
           "gridcolor": "white",
           "linecolor": "white",
           "ticks": "",
           "title": {
            "standoff": 15
           },
           "zerolinecolor": "white",
           "zerolinewidth": 2
          },
          "yaxis": {
           "automargin": true,
           "gridcolor": "white",
           "linecolor": "white",
           "ticks": "",
           "title": {
            "standoff": 15
           },
           "zerolinecolor": "white",
           "zerolinewidth": 2
          }
         }
        },
        "title": {
         "text": "PCA of Word Embeddings"
        },
        "width": 700,
        "xaxis": {
         "anchor": "y",
         "domain": [
          0,
          1
         ],
         "title": {
          "text": "x"
         }
        },
        "yaxis": {
         "anchor": "x",
         "domain": [
          0,
          1
         ],
         "title": {
          "text": "y"
         }
        }
       }
      }
     },
     "metadata": {},
     "output_type": "display_data"
    }
   ],
   "source": [
    "# Your code\n",
    "labels = []  # label\n",
    "emb = []  # embedding\n",
    "sentences = []  # sentence\n",
    "\n",
    "focal_word = \"spring\"\n",
    "test_data = load_data(focal_word, is_train=False)\n",
    "\n",
    "for i,(word_pos, sentence, label) in test_data.iterrows():\n",
    "    _emb, _tokenized_text=get_bert_embeddings(sentence)\n",
    "    _emb=_emb[word_pos]\n",
    "    emb.append(_emb)\n",
    "    sentences.append(sentence)\n",
    "    labels.append(label)\n",
    "emb=torch.stack(emb)\n",
    "labels=np.array(labels)\n",
    "\n",
    "emb= emb.detach().numpy()\n",
    "plot_result(emb, labels, sentences)"
   ]
  },
  {
   "cell_type": "code",
   "execution_count": null,
   "metadata": {},
   "outputs": [
    {
     "data": {
      "text/plain": [
       "torch.Size([10, 768])"
      ]
     },
     "execution_count": 15,
     "metadata": {},
     "output_type": "execute_result"
    }
   ],
   "source": [
    "# Your code:\n",
    "'''\n",
    "emb = torch.zeros((len(tokenized_text),768),dtype=torch.float32)\n",
    "n_layers=1\n",
    "for i in range(n_layers):\n",
    "  emb+=hidden_states[-i-1].squeeze(0)\n",
    "  emb/=n_layers\n",
    "emb.shape\n",
    "'''\n",
    "emb = torch.zeros((len(tokenized_text),768),dtype=torch.float32)\n",
    "emb=hidden_states[0].squeeze(0)\n",
    "emb.shape\n"
   ]
  }
 ],
 "metadata": {
  "kernelspec": {
   "display_name": "applsoftcomp",
   "language": "python",
   "name": "python3"
  },
  "language_info": {
   "codemirror_mode": {
    "name": "ipython",
    "version": 3
   },
   "file_extension": ".py",
   "mimetype": "text/x-python",
   "name": "python",
   "nbconvert_exporter": "python",
   "pygments_lexer": "ipython3",
   "version": "3.12.2"
  }
 },
 "nbformat": 4,
 "nbformat_minor": 2
}
