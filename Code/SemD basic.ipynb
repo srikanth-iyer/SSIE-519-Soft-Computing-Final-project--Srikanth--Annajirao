{
 "cells": [
  {
   "cell_type": "markdown",
   "metadata": {},
   "source": [
    "Based on the paper:\n",
    "Paul Hoffman, Matthew A. Lambon Ralph, and Timothy T. Rogers, “Semantic Diversity: A Measure of Semantic Ambiguity Based on Variability in the Contextual Usage of Words,” Behavior Research Methods 45, no. 3 (September 1, 2013): 718–30, https://doi.org/10.3758/s13428-012-0278-x."
   ]
  },
  {
   "cell_type": "markdown",
   "metadata": {},
   "source": [
    "# Note\n",
    "\n",
    "This notebook is to recreate SemD calculations as per the specifications in the above paper. It doesn't use bert.\n",
    "\n",
    "It is almost complete, although the SemDvalues don't entirely makes sense yet."
   ]
  },
  {
   "cell_type": "code",
   "execution_count": 1,
   "metadata": {},
   "outputs": [],
   "source": [
    "import numpy as np\n",
    "import os\n",
    "import matplotlib.pyplot as plt\n",
    "from nltk.tokenize import word_tokenize\n",
    "from transformers import BertTokenizer, BertModel\n",
    "import torch\n",
    "from collections import defaultdict\n",
    "import re\n",
    "from scipy.spatial import distance\n",
    "import scipy\n",
    "import warnings\n",
    "import plotly.express as px\n",
    "import pandas as pd\n",
    "import glob\n",
    "from multiprocessing import Pool\n",
    "from scipy.spatial import distance\n",
    "\n",
    "\n"
   ]
  },
  {
   "cell_type": "code",
   "execution_count": 2,
   "metadata": {},
   "outputs": [],
   "source": [
    "# add the imported packages to the requirement file\n",
    "# !pip freeze > requirements.txt\n",
    "\n"
   ]
  },
  {
   "cell_type": "markdown",
   "metadata": {},
   "source": [
    "# Definitions"
   ]
  },
  {
   "cell_type": "markdown",
   "metadata": {},
   "source": [
    "## Corpus"
   ]
  },
  {
   "cell_type": "markdown",
   "metadata": {},
   "source": [
    "## loading corpus"
   ]
  },
  {
   "cell_type": "code",
   "execution_count": 3,
   "metadata": {},
   "outputs": [],
   "source": [
    "corpus = []\n",
    "\n",
    "def load_corpus(directory):\n",
    "    \"\"\"\n",
    "    Load the corpus from the directory and return a list of words\n",
    "    \"\"\"\n",
    "    \n",
    "    corpus = []\n",
    "    \n",
    "    # Use glob to match .txt file paths recursively\n",
    "    file_paths = glob.glob(os.path.join(directory, '**/*.txt'), recursive=True)\n",
    "    \n",
    "\n",
    "    for file_path in file_paths:\n",
    "    \n",
    "        with open(file_path,'r',encoding='utf-8') as f:\n",
    "            content = f.read().replace('\\n', ' ')\n",
    "            # content = tokenizer.tokenize(content) # Bert Tokenizer  will not preserve the original words\n",
    "            content = word_tokenize(content) # NLTK Tokenizer will preserve the original words, but I'm not sure if they can be used with BERT\n",
    "\n",
    "            # make all words lowercase\n",
    "            content = [word.lower() for word in content]\n",
    "            corpus.extend(content)\n",
    "\n",
    "    # delete tokens that are not words\n",
    "    corpus = [word for word in corpus if re.match(r'^[a-zA-Z]+$', word)]\n",
    "    print(f'Length of Corpus: {len(corpus)}')\n",
    "    print(f'First 20 words in the corpus: {corpus[:20]}')\n",
    "    return corpus"
   ]
  },
  {
   "cell_type": "markdown",
   "metadata": {},
   "source": [
    "## context splitting"
   ]
  },
  {
   "cell_type": "code",
   "execution_count": 4,
   "metadata": {},
   "outputs": [],
   "source": [
    "def context_splitting(corpus, context_length):\n",
    "    \"\"\"\n",
    "    Split the corpus into contexts of length context_length\n",
    "    \"\"\"\n",
    "    \n",
    "    current_context = []\n",
    "    contexts = []\n",
    "\n",
    "    for word in corpus:\n",
    "        current_context.append(word)\n",
    "        if len(current_context) == context_length:\n",
    "            contexts.append(current_context)\n",
    "            current_context = []\n",
    "\n",
    "    if current_context:\n",
    "        contexts.append(current_context)\n",
    "    \n",
    "    return contexts\n",
    "\n",
    "contexts = context_splitting(corpus, context_length = 1000)"
   ]
  },
  {
   "cell_type": "markdown",
   "metadata": {},
   "source": [
    "## Co-occurence matrix def: create_co_occurrence_matrix(corpus)"
   ]
  },
  {
   "cell_type": "code",
   "execution_count": 5,
   "metadata": {},
   "outputs": [],
   "source": [
    "def create_co_occurrence_matrix(corpus, contexts, min_frequency = 5):\n",
    "    '''\n",
    "    Create a co-occurrence matrix based on the given corpus and contexts.\n",
    "\n",
    "    Parameters:\n",
    "    - corpus (list): A list of words representing the corpus.\n",
    "    - contexts (list): A list of lists, where each inner list represents a context of default length 1000 words unless specified otherwise.\n",
    "    - min_frequency (int): The minimum number of times a word must appear in the corpus to be included in the co-occurrence matrix.\n",
    "\n",
    "    Returns:\n",
    "    - co_occurrence_matrix (numpy.ndarray): The rows represent words and the columns represent contexts. The value at (i, j) represents the number of times word i appears in context j.\n",
    "\n",
    "    - word_to_index (dict): A dictionary mapping words to their corresponding indices in the matrix.\n",
    "    \n",
    "    - index_to_word (dict): A dictionary mapping indices to their corresponding words in the matrix.\n",
    "\n",
    "    Example usage:\n",
    "    corpus = [\"the\", \"quick\", \"brown\", \"fox\", \"jumps\", \"over\", \"the\", \"lazy\", \"dog\"]\n",
    "    contexts = [[\"the\", \"quick\", \"brown\"], [\"fox\", \"jumps\", \"over\"], [\"the\", \"lazy\", \"dog\"]]\n",
    "    co_occurrence_matrix, word_to_index, index_to_word = create_co_occurrence_matrix(corpus, contexts)\n",
    "    print(co_occurrence_matrix)\n",
    "    print(word_to_index)\n",
    "    print(index_to_word)\n",
    "    \n",
    "    '''\n",
    "\n",
    "    distinct_words = sorted(list(set(corpus)))\n",
    "    num_words = len(distinct_words)\n",
    "    num_contexts = len(contexts)\n",
    "   \n",
    "    print(f\"Number of distinct words: {num_words}\")\n",
    "    print(f\"Number of words in corpus: {len(corpus)}\")\n",
    "\n",
    "    # Create word to index and index to word mappings\n",
    "    word_to_index = {word: index for index, word in enumerate(distinct_words)}\n",
    "    index_to_word = {index: word for index, word in enumerate(distinct_words)}\n",
    "    \n",
    "\n",
    "    # only words with minimum 10 appearances in corpus are inculeded in the co-occurrence matrix\n",
    "    word_counts = defaultdict(int)\n",
    "    for word in corpus:\n",
    "        word_counts[word] += 1\n",
    "\n",
    "    for i, word in enumerate(distinct_words):\n",
    "        if word_counts[word] >= min_frequency:\n",
    "            word_to_index[word] = i \n",
    "            index_to_word[i] = word\n",
    "        else:\n",
    "            del word_to_index[word]\n",
    "            del index_to_word[i]\n",
    "    # Rearrange the word to index and index to word mappings\n",
    "    word_to_index = {word: index for index, word in enumerate(word_to_index.keys())}\n",
    "    index_to_word = {index: word for word, index in word_to_index.items()}\n",
    "\n",
    "    num_words = len(word_to_index)\n",
    "    print(f\"Number of distinct words with at least {min_frequency} appearances: {num_words}\")\n",
    "\n",
    "    # Initialize co-occurrence matrix\n",
    "    co_occurrence_matrix = np.zeros((num_words, num_contexts))\n",
    "\n",
    "    # Iterate over each context\n",
    "    for context_index, context in enumerate(contexts):\n",
    "        # Iterate over each word in the index that is in the context\n",
    "\n",
    "        for word in context:\n",
    "            if word not in word_to_index:\n",
    "                continue\n",
    "            word_index = word_to_index[word]\n",
    "            co_occurrence_matrix[word_index, context_index] += 1\n",
    "    \n",
    "    return co_occurrence_matrix, word_to_index, index_to_word\n",
    "\n",
    "# Example usage:\n",
    "# corpus = [\"the\", \"quick\", \"brown\", \"fox\", \"jumps\", \"over\", \"the\", \"lazy\", \"dog\"]\n",
    "# contexts = [[\"the\", \"quick\", \"brown\"], [\"fox\", \"jumps\", \"over\"], [\"the\", \"lazy\", \"dog\"]]\n",
    "\n",
    "# co_occurrence_matrix, word_to_index, index_to_word = create_co_occurrence_matrix(corpus[:10000], contexts)\n",
    "# print(co_occurrence_matrix)\n",
    "# # print(word_to_index)\n"
   ]
  },
  {
   "cell_type": "markdown",
   "metadata": {},
   "source": [
    "## Prep co-occurence matrix for svd "
   ]
  },
  {
   "cell_type": "markdown",
   "metadata": {},
   "source": [
    "Based on the paper:\n",
    "Prior to SVD, values in the matrix were log-transformed. The logs associated with each word were then divided by that word’s entropy (H) in the corpus: $$H  = \\sum_{c} p_c \\log{(p_c)}$$  where $c$ indexes the different contexts in which the word appears and $p_c$ denotes the word’s frequency in the context divided by its total frequency in the corpus. \n",
    "These standard transformations were performed to reduce the influence of very high-frequency function words whose patterns of occurrence were not relevant in generating the semantic space (Landauer & Dumais, 1997)."
   ]
  },
  {
   "cell_type": "code",
   "execution_count": 6,
   "metadata": {},
   "outputs": [],
   "source": [
    "def prepare_co_occurrence(co_occurrence_matrix, word_to_index):\n",
    "    # Suppress warnings for dividing by zero\n",
    "    warnings.filterwarnings(\"ignore\", category=RuntimeWarning)\n",
    "\n",
    "    # print(f'Co-occurrence matrix: {co_occurrence_matrix}')\n",
    "    # print(f'Co-occurrence matrix shape: {co_occurrence_matrix.shape}')\n",
    "    # print(f'Word to index mapping length: {len(word_to_index)}')\n",
    "    # print(f'Index to word mapping length: {len(index_to_word)}')\n",
    "\n",
    "    # print(f'total word in first context: {len(contexts[0])} and total via matrix: {np.sum(co_occurrence_matrix[:,0])}')\n",
    "\n",
    "    # dividing frequency of occurrence of each word in each context by the total frequency of occurrence of the word in all contexts\n",
    "    prob = np.divide(co_occurrence_matrix, np.sum(co_occurrence_matrix, axis=1).reshape(-1, 1))\n",
    "    # print(f'Probability of each word in all contexts: {prob}')\n",
    "    # print(f'Probability of each word in all contexts shape: {prob.shape}')\n",
    "\n",
    "    # log transformation of the prob variable, if the each entry is not 0, else replace with 0\n",
    "    log_prob = np.where(prob > 0, np.log(prob), prob)\n",
    "    # log_prob = np.nan_to_num(log_prob)\n",
    "    # print(f'Log transformation of the probability matrix: {log_prob}')\n",
    "    # print(f'Log transformation of the probability matrix shape: {log_prob.shape}')\n",
    "\n",
    "    # applying pointwise multiplication of the log transformed matrix and the prob matrix\n",
    "    per_context_entropy_matrix = np.multiply(log_prob, prob)\n",
    "    # print(f'Pointwise multiplication of the log transformed matrix and the prob matrix: {per_context_entropy_matrix}')\n",
    "    # print(f'Pointwise multiplication of the log transformed matrix and the prob matrix shape: {per_context_entropy_matrix.shape}')\n",
    "\n",
    "    # adding all pointwise multiplication values for each word\n",
    "    word_entropies = np.sum(per_context_entropy_matrix, axis=1)\n",
    "    # print(f'Entropy of each word in within the whole corpus: {word_entropies}')\n",
    "    # print(f'Entropy of each word in within the whole corpus shape: {word_entropies.shape}')\n",
    "\n",
    "    #reshaping word entropies to match the shape of the co-occurrence matrix\n",
    "    word_entropies = np.reshape(word_entropies, (len(word_entropies), 1))\n",
    "    # print(f'Entropy of each word in within the whole corpus reshaped: {word_entropies}')\n",
    "    # print(f'Entropy of each word in within the whole corpus reshaped shape: {word_entropies.shape}')\n",
    "\n",
    "    # log transform the co-occurrence matrix but if the value is 0, replace with 0\n",
    "    co_occurrence_matrix = -np.where(co_occurrence_matrix > 0, np.log(co_occurrence_matrix), co_occurrence_matrix)\n",
    "    co_occurrence_matrix = np.nan_to_num(co_occurrence_matrix)\n",
    "    # print(f'Log transformation of the co-occurrence matrix: {co_occurrence_matrix}')\n",
    "\n",
    "    # dividing the occurrence of each word in each context by the entropy of the word i.e. divide each number in each row by the number in word_entropy[row]\n",
    "    co_occurrence_matrix = np.divide(co_occurrence_matrix, word_entropies)\n",
    "    \n",
    "    # print(f'Co-occurrence matrix(first two entries) : {co_occurrence_matrix[:2]}')  \n",
    "    # print(f'Co-occurrence matrix shape: {co_occurrence_matrix.shape}') # (number of words, number of contexts)\n",
    "\n",
    "    # Remove infinities and NaNs\n",
    "    co_occurrence_matrix = np.nan_to_num(co_occurrence_matrix)\n",
    "    \n",
    "    # Reset warnings filter to default\n",
    "    warnings.filterwarnings(\"default\", category=RuntimeWarning)\n",
    "\n",
    "    return co_occurrence_matrix\n",
    "\n",
    "\n"
   ]
  },
  {
   "cell_type": "markdown",
   "metadata": {},
   "source": [
    "## SVD def: svd(co-occurrence_matrix)"
   ]
  },
  {
   "cell_type": "code",
   "execution_count": 7,
   "metadata": {},
   "outputs": [],
   "source": [
    "def svd(co_occurrence_matrix):\n",
    "    '''\n",
    "    Singular Value Decomposition\n",
    "    - `u` represents the left singular vectors and contains information about the relationships between the rows of the original matrix. \n",
    "    The rows of the co-occurrence matrix represent the words in the corpus, so the left singular vectors contain information about the relationships between the words.\n",
    "\n",
    "    - `s` represents the singular values and contains information about the importance of each singular vector.\n",
    "\n",
    "    - `v` represents the right singular vectors and contains information about the relationships between the columns of the original matrix.\n",
    "    The columns of the co-occurrence matrix represent the contexts in which the words appear, so the right singular vectors contain information about the relationships between the contexts.\n",
    "    '''\n",
    "    # Singular Value Decomposition \n",
    "    u, s, v = np.linalg.svd(co_occurrence_matrix, full_matrices=False)\n",
    "    v = np.transpose(v)\n",
    "    print(f'U shape: {u.shape}')\n",
    "    print(f'S shape: {s.shape}')\n",
    "    print(f'V shape: {v.shape}')\n",
    "    return u, s, v"
   ]
  },
  {
   "cell_type": "markdown",
   "metadata": {},
   "source": [
    "## LSA def:  perform_lsa(corpus)"
   ]
  },
  {
   "cell_type": "code",
   "execution_count": 8,
   "metadata": {},
   "outputs": [],
   "source": [
    "def perform_lsa(corpus, context_length=1000, min_frequency = 5):\n",
    "    \"\"\"\n",
    "    Perform Latent Semantic Analysis on the given corpus.\n",
    "\n",
    "    Parameters:\n",
    "    - corpus (list): A list of words representing the corpus.\n",
    "    - context_length (int): The length of each context.\n",
    "    - min_frequency (int): The minimum number of times a word must appear in the corpus to be included in the co-occurrence matrix.\n",
    "\n",
    "    Returns:\n",
    "    - word_vectors (dict): A dictionary mapping words to their corresponding vectors.\n",
    "    - context_vectors (numpy.ndarray): A matrix where the rows represent contexts and the columns represent the latent dimensions.\n",
    "    - word_to_index (dict): A dictionary mapping words to their corresponding indices in the matrix.\n",
    "    - contexts (list): A list of lists, where each inner list represents a context of length context_length.\n",
    "\n",
    "    \"\"\"\n",
    "    contexts = context_splitting(corpus, context_length)\n",
    "    co_occurrence_matrix, word_to_index, index_to_word = create_co_occurrence_matrix(corpus,contexts, min_frequency = min_frequency)\n",
    "\n",
    "\n",
    "    # print(f'Co occurance matrix shape: {co_occurrence_matrix.shape}')\n",
    "    # print(f'Word to index mapping length: {len(word_to_index)}')\n",
    "    # print(f'Index to word mapping length: {len(index_to_word)}')\n",
    "\n",
    "    co_occurrence_matrix = prepare_co_occurrence(co_occurrence_matrix, word_to_index)\n",
    "\n",
    "    # Perform singular value decomposition\n",
    "    u, s, v = svd(co_occurrence_matrix)\n",
    "\n",
    "    # word_vectors = {word: u[i, :300] for i, word in enumerate(index_to_word)} # 300 dimensions is supposedly optimal according to the article.\n",
    "    word_vectors = {word: u[i, :] for i, word in enumerate(index_to_word)} # I'm doing all values unlike the article, because I'm not sure if the 300 dimensions are optimal.\n",
    "    # context_vectors = vt[:300, :]\n",
    "    context_vectors = v[:, :]\n",
    "\n",
    "    print(f'Word vectors length: {len(word_vectors)}')\n",
    "    print(f'Context vectors length: {len(context_vectors)}')\n",
    "    \n",
    "    return word_vectors, context_vectors, word_to_index, contexts\n"
   ]
  },
  {
   "cell_type": "code",
   "execution_count": 9,
   "metadata": {},
   "outputs": [],
   "source": [
    "def get_cosine_similarity(word1, word2, word_vectors, word_to_index):\n",
    "    \"\"\"\n",
    "    Calculate the cosine similarity between two words.\n",
    "    \n",
    "    Args:\n",
    "        word1 (str): The first word.\n",
    "        word2 (str): The second word.\n",
    "        word_vectors (dict): A dictionary mapping words to LSA vectors.\n",
    "    \n",
    "    Returns:\n",
    "        cosine_similarity (float): The cosine similarity between the two words.\n",
    "    \"\"\"\n",
    "    if word1 not in word_to_index or word2 not in word_to_index:\n",
    "        return print(\"One or both of the words are not in the index\")\n",
    "    \n",
    "    vector1 = word_vectors[word_to_index[word1]]\n",
    "    vector2 = word_vectors[word_to_index[word2]]\n",
    "    \n",
    "    # Calculate dot product\n",
    "    dot_product = np.dot(vector1, vector2)    \n",
    "\n",
    "    # Calculate magnitudes\n",
    "    magnitude1 = np.sqrt(np.sum(vector1**2))\n",
    "    magnitude2 = np.sqrt(np.sum(vector2**2))\n",
    "\n",
    "    # Prevent division by zero\n",
    "    if magnitude1 == 0 or magnitude2 == 0:\n",
    "        return \n",
    "\n",
    "    cosine_similarity = dot_product / (magnitude1 * magnitude2)\n",
    "    \n",
    "    return cosine_similarity\n",
    "\n",
    "# word1= \"man\"\n",
    "# word2= \"woman\"\n",
    "# print(f'Cosine similarity between {word1} and {word2}: {get_cosine_similarity(word1, word2, word_vectors, word_to_index)}')\n",
    "\n",
    "# word1= \"boy\"\n",
    "# word2= \"girl\"\n",
    "# print(f'Cosine similarity between {word1} and {word2}: {get_cosine_similarity(word1, word2, word_vectors, word_to_index)}')\n",
    "\n",
    "\n",
    "def cosine_similarity_matrix(matrix):\n",
    "  \"\"\"\n",
    "  Calculates the cosine similarity matrix for a given matrix.\n",
    "\n",
    "  Args:\n",
    "      matrix: A 2D NumPy array representing the matrix of vectors.\n",
    "\n",
    "  Returns:\n",
    "      A 2D NumPy array containing the cosine similarity between all pairs of vectors in the input matrix.\n",
    "  \"\"\"\n",
    "\n",
    "  # Calculate pairwise dot products\n",
    "  dot_products = np.matmul(matrix, matrix.T)\n",
    "\n",
    "  # Calculate vector magnitudes\n",
    "  magnitudes = np.linalg.norm(matrix, axis=1)[:, np.newaxis] * np.linalg.norm(matrix, axis=1)\n",
    "\n",
    "  # Prevent division by zero (set diagonal to 1 for self-similarity)\n",
    "  np.fill_diagonal(magnitudes, 1)\n",
    "\n",
    "  # Cosine similarity formula (avoiding division by zero)\n",
    "  cosine_similarities = dot_products / magnitudes\n",
    "\n",
    "  return cosine_similarities\n",
    "\n",
    "def add_word_probabilities(save_path, corpus, save=False):\n",
    "    # read all the words in the csv file\n",
    "    df = pd.read_csv(save_path)\n",
    "    print(df.head())\n",
    "\n",
    "    # calculate the probability of the word appearing in the corpus\n",
    "    word_counts = defaultdict(int)\n",
    "    for word in corpus:\n",
    "        word_counts[word] += 1\n",
    "\n",
    "    total_words = len(corpus)\n",
    "    df['Word Probability'] = df['Word'].apply(lambda x: word_counts[x]/total_words)\n",
    "    print(df.head())\n",
    "\n",
    "    if save:\n",
    "        df.to_csv(save_path, index=False)\n",
    "    return df"
   ]
  },
  {
   "cell_type": "markdown",
   "metadata": {},
   "source": [
    "## SemD def:  calculate_semd(word, word_vectors, context_vectors)"
   ]
  },
  {
   "cell_type": "code",
   "execution_count": 10,
   "metadata": {},
   "outputs": [],
   "source": [
    "\n",
    "def calculate_semd(word, word_vectors, context_vectors, word_to_index,contexts, min_contexts=2):\n",
    "    \"\"\"\n",
    "    Calculate the semantic diversity (SemD) of the given word.\n",
    "    \n",
    "    For a given word, take all contexts in which it appeared and calculate the cosine between each pair of contexts in the set. \n",
    "    Then take the mean of these cosines to represent the average similarity between any two contexts containing the word. \n",
    "    Then take the negative log of this value to represent the semantic diversity of the word. \n",
    "    \n",
    "    The higher the value, the more diverse the contexts in which the word appears.\n",
    "    If the word appears in fewer than 4 contexts, return 0.\n",
    "    \n",
    "    Args:\n",
    "        word (str): The word for which to calculate SemD.\n",
    "        word_vectors (dict): A dictionary mapping words to LSA vectors.\n",
    "        context_vectors (list): A list of LSA vectors, one for each context.\n",
    "    \n",
    "    Returns:\n",
    "        semd (float): The semantic diversity value for the word.\n",
    "    \"\"\"\n",
    "    # Suppress warnings for dividing by zero\n",
    "    warnings.filterwarnings(\"ignore\", category=RuntimeWarning)\n",
    "\n",
    "    # Find all contexts indices containing the word \n",
    "    \n",
    "    # context_indices = [i for i, context in enumerate(contexts) if word in context]\n",
    "    context_indices = []\n",
    "    for i, context in enumerate(contexts):\n",
    "        if word in context:\n",
    "            context_indices.append(i)\n",
    "\n",
    "    # If the word is not in any context, or if the word is in fewer than 5 contexts, return None  \n",
    "    #if not context_indices or len(context_indices) < min_contexts:\n",
    "    #    semd = 0\n",
    "    #    return semd\n",
    "\n",
    "    # create a matrix of all the contexts containing the word and transpose it\n",
    "    word_contexts = np.array([context_vectors[i] for i in context_indices])      \n",
    "    \n",
    "    # Based on the paper, we should only consider a random sample of 2000 contexts.\n",
    "    # if len(word_contexts) > 2000:\n",
    "    #     word_contexts = np.random.choice(word_contexts, size=2000, replace=False)\n",
    "\n",
    "    # Calculate the average cosine similarity between the contexts\n",
    "    context_similarities = cosine_similarity_matrix(word_contexts)\n",
    "    mean_similarity = np.mean(context_similarities)\n",
    "\n",
    "    semd = mean_similarity\n",
    "    # Calculate the SemD value\n",
    "    semd = -np.log(mean_similarity)\n",
    "\n",
    "    # Remove infinities and NaNs\n",
    "    semd = np.nan_to_num(semd)\n",
    "\n",
    "    # Reset warnings filter to default\n",
    "    warnings.filterwarnings(\"default\", category=RuntimeWarning)\n",
    "    \n",
    "    return semd\n",
    "\n",
    "\n"
   ]
  },
  {
   "cell_type": "code",
   "execution_count": 11,
   "metadata": {},
   "outputs": [],
   "source": [
    "def plot_semD(df, corpus_name,context_length,min_frequency,min_contexts, save=False):\n",
    "\n",
    "    # Plot the semD values using plotly\n",
    "    fig = px.bar(df, x='Word', y='SemD', title=f'SemD Values for Words in the {corpus_name} Corpus')\n",
    "\n",
    "    # add color to the plot\n",
    "    fig.update_traces(marker_color='rgb(158,202,225)', marker_line_color='rgb(8,48,107)',marker_line_width=1.5, opacity=0.6)\n",
    "    fig.show()\n",
    "    \n",
    "    if save:\n",
    "        # save figure\n",
    "        fig.write_html(f\"../Code/{corpus_name}_semD_Basic_lowercase_{context_length}word_contexts_min{min_frequency}freq_min{min_contexts}contexts.html\")"
   ]
  },
  {
   "cell_type": "code",
   "execution_count": 12,
   "metadata": {},
   "outputs": [],
   "source": [
    "def calculate_semd_wrapper(word, word_vectors, context_vectors, word_to_index, contexts, min_contexts):\n",
    "    '''\n",
    "    Wrapper function for calculating SemD values in parallel.\n",
    "    '''\n",
    "    semd_value = calculate_semd(word, word_vectors, context_vectors, word_to_index, contexts, min_contexts)\n",
    "    return word, semd_value"
   ]
  },
  {
   "cell_type": "markdown",
   "metadata": {},
   "source": [
    "## wrapping all definitions in a master definition\n",
    "corpus_semd\n",
    "It's not working correctly right now. Using the internal code outside of the funiton to generate the plots correctly. "
   ]
  },
  {
   "cell_type": "code",
   "execution_count": 13,
   "metadata": {},
   "outputs": [],
   "source": [
    "def corpus_semd(directory, context_length, min_frequency, min_contexts, save=False, save_path=None):\n",
    "    \"\"\"\n",
    "    Calculate SemD values for all words in the corpus.\n",
    "\n",
    "    Args:\n",
    "\n",
    "    - directory (str): The directory containing the corpus files.\n",
    "    - context_length (int): The length of each context in words.\n",
    "    - min_frequency (int): The minimum number of times a word must appear in the corpus to be included in the co-occurrence matrix.\n",
    "    - min_contexts (int): The minimum number of contexts in which a word must appear to calculate its SemD value.\n",
    "    - save (bool): Whether to save the SemD values to a CSV file.\n",
    "    - save_path (str): The directory in which to save the CSV file.\n",
    "\n",
    "    Returns:\n",
    "    - df (pd.DataFrame): A DataFrame containing the SemD values and word probabilities for all qualifying words in the corpus.\n",
    "    \"\"\"\n",
    "\n",
    "    corpus_name = directory.split('/')[-2]\n",
    "    corpus = load_corpus(directory)\n",
    "\n",
    "    # Performing LSA for the whole corpus\n",
    "    word_vectors, context_vectors, word_to_index, contexts = perform_lsa(corpus, context_length=context_length, min_frequency=min_frequency)\n",
    "    print(f'Context vectors shape: {context_vectors.shape}')\n",
    "\n",
    "    # # Calculate semD values for all words in the index using the Pool method\n",
    "    # with Pool() as p:\n",
    "    #     semD_values_list = p.map(calculate_semd_wrapper, [(word, word_vectors, context_vectors, word_to_index, contexts, min_contexts) for word in word_to_index])\n",
    "    # semD_values = dict(semD_values_list)\n",
    "\n",
    "    # Calculate semD values for all words in the index and plot them with the corresponding word label\n",
    "    semD_values = {word: calculate_semd(word, word_vectors, context_vectors, word_to_index, contexts, min_contexts) for word in word_to_index}  \n",
    "\n",
    "\n",
    "    # Sort semD values in descending order of their values\n",
    "    semD_values = {k: v for k, v in sorted(semD_values.items(), key=lambda item: item[1], reverse=True)}\n",
    "    \n",
    "    # Create a DataFrame from the semD values\n",
    "    df = pd.DataFrame(list(semD_values.items()), columns=['Word', 'SemD'])\n",
    "\n",
    "    plot_semD(df, corpus_name, context_length, min_frequency, min_contexts, save=save)\n",
    "\n",
    "    # calculate the probability of the word appearing in the corpus\n",
    "    word_counts = defaultdict(int)\n",
    "    for word in corpus:\n",
    "        word_counts[word] += 1\n",
    "\n",
    "    total_words = len(corpus)\n",
    "    df['Word Probability'] = df['Word'].apply(lambda x: word_counts[x]/total_words)\n",
    "    print(df.head())\n",
    "\n",
    "    if save:\n",
    "        # Save the DataFrame as a CSV file\n",
    "        file_name = f'{corpus_name}_semD_Basic_lowercase_{context_length}word_contexts_min_freq_{min_frequency}_min_contexts_{min_contexts}.csv'\n",
    "        save_path = os.path.join(save_path, file_name)\n",
    "        df.to_csv(save_path, index=False)\n",
    "        print(f'SemD values saved to {save_path}')\n",
    "\n",
    "    return df\n",
    "\n",
    "\n"
   ]
  },
  {
   "cell_type": "markdown",
   "metadata": {},
   "source": [
    "# Generating LSA\n",
    "and getting word vectors context vectors"
   ]
  },
  {
   "cell_type": "markdown",
   "metadata": {},
   "source": [
    "# Calculating SemD"
   ]
  },
  {
   "cell_type": "markdown",
   "metadata": {},
   "source": [
    "Other corpora"
   ]
  },
  {
   "cell_type": "code",
   "execution_count": 14,
   "metadata": {},
   "outputs": [
    {
     "name": "stdout",
     "output_type": "stream",
     "text": [
      "Length of Corpus: 953359\n",
      "First 20 words in the corpus: ['a', 'midsummer', 'night', 'dream', 'by', 'william', 'shakespeare', 'edited', 'by', 'barbara', 'mowat', 'and', 'paul', 'werstine', 'with', 'michael', 'poston', 'and', 'rebecca', 'niles']\n",
      "Number of distinct words: 23754\n",
      "Number of words in corpus: 953359\n",
      "Number of distinct words with at least 500 appearances: 223\n",
      "U shape: (223, 223)\n",
      "S shape: (223,)\n",
      "V shape: (954, 223)\n",
      "Word vectors length: 223\n",
      "Context vectors length: 954\n",
      "Context vectors shape: (954, 223)\n"
     ]
    },
    {
     "data": {
      "application/vnd.plotly.v1+json": {
       "config": {
        "plotlyServerURL": "https://plotly.com"
       },
       "data": [
        {
         "alignmentgroup": "True",
         "hovertemplate": "Word=%{x}<br>SemD=%{y}<extra></extra>",
         "legendgroup": "",
         "marker": {
          "color": "rgb(158,202,225)",
          "line": {
           "color": "rgb(8,48,107)",
           "width": 1.5
          },
          "pattern": {
           "shape": ""
          }
         },
         "name": "",
         "offsetgroup": "",
         "opacity": 0.6,
         "orientation": "v",
         "showlegend": false,
         "textposition": "auto",
         "type": "bar",
         "x": [
          "be",
          "a",
          "and",
          "in",
          "is",
          "not",
          "of",
          "the",
          "to",
          "with",
          "i",
          "that",
          "it",
          "my",
          "but",
          "for",
          "me",
          "this",
          "have",
          "no",
          "he",
          "what",
          "so",
          "his",
          "will",
          "as",
          "by",
          "all",
          "if",
          "do",
          "you",
          "are",
          "on",
          "shall",
          "your",
          "him",
          "they",
          "at",
          "now",
          "let",
          "more",
          "from",
          "there",
          "o",
          "then",
          "or",
          "here",
          "when",
          "good",
          "come",
          "we",
          "would",
          "enter",
          "how",
          "which",
          "was",
          "than",
          "an",
          "make",
          "am",
          "may",
          "thou",
          "like",
          "can",
          "them",
          "yet",
          "should",
          "one",
          "man",
          "well",
          "upon",
          "thee",
          "know",
          "hath",
          "say",
          "such",
          "thy",
          "give",
          "were",
          "out",
          "our",
          "must",
          "go",
          "see",
          "where",
          "their",
          "take",
          "had",
          "some",
          "too",
          "did",
          "these",
          "why",
          "her",
          "love",
          "much",
          "exit",
          "us",
          "time",
          "who",
          "up",
          "never",
          "speak",
          "think",
          "tell",
          "mine",
          "heart",
          "other",
          "made",
          "look",
          "hand",
          "thus",
          "lord",
          "before",
          "true",
          "life",
          "exits",
          "again",
          "most",
          "away",
          "great",
          "hear",
          "day",
          "call",
          "men",
          "world",
          "scene",
          "could",
          "leave",
          "down",
          "own",
          "being",
          "she",
          "till",
          "nothing",
          "sir",
          "comes",
          "two",
          "poor",
          "any",
          "doth",
          "very",
          "those",
          "first",
          "eyes",
          "way",
          "nor",
          "been",
          "old",
          "though",
          "still",
          "fear",
          "done",
          "keep",
          "both",
          "off",
          "ever",
          "into",
          "better",
          "death",
          "put",
          "even",
          "fair",
          "might",
          "name",
          "against",
          "art",
          "many",
          "father",
          "none",
          "th",
          "stand",
          "ay",
          "live",
          "little",
          "sweet",
          "bear",
          "blood",
          "find",
          "whose",
          "heaven",
          "myself",
          "therefore",
          "nay",
          "head",
          "young",
          "pray",
          "god",
          "friend",
          "word",
          "noble",
          "night",
          "die",
          "hast",
          "king",
          "grace",
          "honor",
          "lady",
          "dead",
          "aside",
          "son",
          "peace",
          "wife",
          "master",
          "fool",
          "mistress",
          "brother",
          "gentleman",
          "boy",
          "queen",
          "prince",
          "second",
          "daughter",
          "duke",
          "madam",
          "john",
          "henry",
          "york",
          "richard",
          "gloucester",
          "caesar",
          "falstaff",
          "antony"
         ],
         "xaxis": "x",
         "y": [
          5.586786136793602,
          5.58660368096384,
          5.58660368096384,
          5.58660368096384,
          5.58660368096384,
          5.58660368096384,
          5.58660368096384,
          5.58660368096384,
          5.58660368096384,
          5.58660368096384,
          5.586405587551923,
          5.585878537594077,
          5.585828188130125,
          5.5857944797620185,
          5.58576310264822,
          5.585729393018049,
          5.585606386703074,
          5.5851452501109575,
          5.584099524302574,
          5.584028756594939,
          5.583352209526159,
          5.582701474540663,
          5.58270011317886,
          5.5816402430963885,
          5.581291971323592,
          5.581206661609234,
          5.580989268989922,
          5.580340581263626,
          5.578481888898633,
          5.57534088611937,
          5.574310801681143,
          5.572226898058939,
          5.571515243721779,
          5.570554313790475,
          5.568787416985796,
          5.568634256683807,
          5.563675733697704,
          5.561422757930266,
          5.561192895416537,
          5.560832933759854,
          5.558501946286199,
          5.558326244860204,
          5.551009831453854,
          5.55007159054627,
          5.5483509340479165,
          5.546169755069987,
          5.543720442531401,
          5.543567225677947,
          5.543556027651381,
          5.542825679807031,
          5.541364330789967,
          5.54126019422679,
          5.541245388535557,
          5.5351063894918004,
          5.53455836074827,
          5.532103433258649,
          5.531838975600556,
          5.531344385627053,
          5.525724173188037,
          5.524570122957951,
          5.524179049810311,
          5.52376746898296,
          5.522294539824282,
          5.522035579382401,
          5.52092819744664,
          5.519668826256284,
          5.518766848265589,
          5.516034401890754,
          5.513476450374599,
          5.508263917383983,
          5.508146412300746,
          5.505487027086711,
          5.504769482369308,
          5.5043932434684875,
          5.504289096491984,
          5.500979058875524,
          5.49974349245067,
          5.498065104900774,
          5.492547914600582,
          5.491765678530032,
          5.490419905607105,
          5.489990353708776,
          5.489726265844866,
          5.4877616988521885,
          5.484776099779505,
          5.483237877704663,
          5.479476738856936,
          5.476696418636401,
          5.476104853296257,
          5.474279489078898,
          5.469387702619757,
          5.468769668026811,
          5.454545060958014,
          5.4517716896325625,
          5.449744683329263,
          5.447663553423665,
          5.441943205700241,
          5.439748036748559,
          5.435747365854227,
          5.431125293322972,
          5.426610509663203,
          5.425508553602119,
          5.4234790245131395,
          5.4208126566534895,
          5.418716686686325,
          5.418459536778803,
          5.415226987037841,
          5.412102115937598,
          5.4059827509304,
          5.405821607678718,
          5.404066480291847,
          5.40152293142264,
          5.3974543640298425,
          5.394292980364023,
          5.3930948060793344,
          5.383669794069276,
          5.375127018684381,
          5.368171627706735,
          5.366486817601965,
          5.3622999764275665,
          5.360243789202731,
          5.358237071583408,
          5.355774032032735,
          5.354210410027154,
          5.3527694797919585,
          5.349973158850659,
          5.344107740963208,
          5.343795380873813,
          5.342785697869969,
          5.3400354563230055,
          5.339879903471428,
          5.339427071233522,
          5.338996677844045,
          5.336410814694609,
          5.333705703595295,
          5.332622318933363,
          5.3300013600936085,
          5.329730060268623,
          5.326486197282897,
          5.3256116220351375,
          5.323685304918989,
          5.322803342159039,
          5.317974754403195,
          5.314758927794931,
          5.313727130129274,
          5.313422526772827,
          5.307133899147482,
          5.303717846871618,
          5.303192746367704,
          5.302844599431448,
          5.301654429393045,
          5.297094003602519,
          5.294827261525827,
          5.293359055667313,
          5.293196034354729,
          5.291882197463352,
          5.290386807700206,
          5.289933466741002,
          5.286386710943389,
          5.281677129554189,
          5.279548855263477,
          5.278215574071944,
          5.277555373854039,
          5.268463547471904,
          5.266110657889927,
          5.265797660716812,
          5.264519478518411,
          5.264073344566876,
          5.262642744273158,
          5.259166837547645,
          5.258426770834256,
          5.254268311415564,
          5.251460016554964,
          5.2503487099453165,
          5.245314806052035,
          5.236943343310099,
          5.236759712820764,
          5.233231762944517,
          5.232835264545233,
          5.2288706420380615,
          5.228778629754921,
          5.218187589465217,
          5.215180827294235,
          5.207879959335225,
          5.203644579679043,
          5.1941447714140025,
          5.189172572478651,
          5.188987365222437,
          5.183137438128204,
          5.171311777075814,
          5.169811995045382,
          5.157976427353537,
          5.157689010905609,
          5.147664721318553,
          5.143743194398467,
          5.139505745505398,
          5.128864579488585,
          5.100006249486854,
          5.090212845207733,
          5.07710776469677,
          5.059273649322706,
          5.014769322451711,
          4.974321137949492,
          4.945045915965669,
          4.928583367142999,
          4.883279778777805,
          4.881135960342467,
          4.815979013207684,
          4.813785284866761,
          4.8012931166226815,
          4.798423872808787,
          4.791676951885035,
          4.696554357055066,
          4.6299538612184525,
          4.545993221512531,
          4.107109799281062,
          3.8618686012838954,
          3.8126459513203,
          3.773518678610503,
          3.65482772837328,
          3.546866825719766,
          3.1091955073829074,
          2.7583012256713357
         ],
         "yaxis": "y"
        }
       ],
       "layout": {
        "barmode": "relative",
        "legend": {
         "tracegroupgap": 0
        },
        "template": {
         "data": {
          "bar": [
           {
            "error_x": {
             "color": "#2a3f5f"
            },
            "error_y": {
             "color": "#2a3f5f"
            },
            "marker": {
             "line": {
              "color": "#E5ECF6",
              "width": 0.5
             },
             "pattern": {
              "fillmode": "overlay",
              "size": 10,
              "solidity": 0.2
             }
            },
            "type": "bar"
           }
          ],
          "barpolar": [
           {
            "marker": {
             "line": {
              "color": "#E5ECF6",
              "width": 0.5
             },
             "pattern": {
              "fillmode": "overlay",
              "size": 10,
              "solidity": 0.2
             }
            },
            "type": "barpolar"
           }
          ],
          "carpet": [
           {
            "aaxis": {
             "endlinecolor": "#2a3f5f",
             "gridcolor": "white",
             "linecolor": "white",
             "minorgridcolor": "white",
             "startlinecolor": "#2a3f5f"
            },
            "baxis": {
             "endlinecolor": "#2a3f5f",
             "gridcolor": "white",
             "linecolor": "white",
             "minorgridcolor": "white",
             "startlinecolor": "#2a3f5f"
            },
            "type": "carpet"
           }
          ],
          "choropleth": [
           {
            "colorbar": {
             "outlinewidth": 0,
             "ticks": ""
            },
            "type": "choropleth"
           }
          ],
          "contour": [
           {
            "colorbar": {
             "outlinewidth": 0,
             "ticks": ""
            },
            "colorscale": [
             [
              0,
              "#0d0887"
             ],
             [
              0.1111111111111111,
              "#46039f"
             ],
             [
              0.2222222222222222,
              "#7201a8"
             ],
             [
              0.3333333333333333,
              "#9c179e"
             ],
             [
              0.4444444444444444,
              "#bd3786"
             ],
             [
              0.5555555555555556,
              "#d8576b"
             ],
             [
              0.6666666666666666,
              "#ed7953"
             ],
             [
              0.7777777777777778,
              "#fb9f3a"
             ],
             [
              0.8888888888888888,
              "#fdca26"
             ],
             [
              1,
              "#f0f921"
             ]
            ],
            "type": "contour"
           }
          ],
          "contourcarpet": [
           {
            "colorbar": {
             "outlinewidth": 0,
             "ticks": ""
            },
            "type": "contourcarpet"
           }
          ],
          "heatmap": [
           {
            "colorbar": {
             "outlinewidth": 0,
             "ticks": ""
            },
            "colorscale": [
             [
              0,
              "#0d0887"
             ],
             [
              0.1111111111111111,
              "#46039f"
             ],
             [
              0.2222222222222222,
              "#7201a8"
             ],
             [
              0.3333333333333333,
              "#9c179e"
             ],
             [
              0.4444444444444444,
              "#bd3786"
             ],
             [
              0.5555555555555556,
              "#d8576b"
             ],
             [
              0.6666666666666666,
              "#ed7953"
             ],
             [
              0.7777777777777778,
              "#fb9f3a"
             ],
             [
              0.8888888888888888,
              "#fdca26"
             ],
             [
              1,
              "#f0f921"
             ]
            ],
            "type": "heatmap"
           }
          ],
          "heatmapgl": [
           {
            "colorbar": {
             "outlinewidth": 0,
             "ticks": ""
            },
            "colorscale": [
             [
              0,
              "#0d0887"
             ],
             [
              0.1111111111111111,
              "#46039f"
             ],
             [
              0.2222222222222222,
              "#7201a8"
             ],
             [
              0.3333333333333333,
              "#9c179e"
             ],
             [
              0.4444444444444444,
              "#bd3786"
             ],
             [
              0.5555555555555556,
              "#d8576b"
             ],
             [
              0.6666666666666666,
              "#ed7953"
             ],
             [
              0.7777777777777778,
              "#fb9f3a"
             ],
             [
              0.8888888888888888,
              "#fdca26"
             ],
             [
              1,
              "#f0f921"
             ]
            ],
            "type": "heatmapgl"
           }
          ],
          "histogram": [
           {
            "marker": {
             "pattern": {
              "fillmode": "overlay",
              "size": 10,
              "solidity": 0.2
             }
            },
            "type": "histogram"
           }
          ],
          "histogram2d": [
           {
            "colorbar": {
             "outlinewidth": 0,
             "ticks": ""
            },
            "colorscale": [
             [
              0,
              "#0d0887"
             ],
             [
              0.1111111111111111,
              "#46039f"
             ],
             [
              0.2222222222222222,
              "#7201a8"
             ],
             [
              0.3333333333333333,
              "#9c179e"
             ],
             [
              0.4444444444444444,
              "#bd3786"
             ],
             [
              0.5555555555555556,
              "#d8576b"
             ],
             [
              0.6666666666666666,
              "#ed7953"
             ],
             [
              0.7777777777777778,
              "#fb9f3a"
             ],
             [
              0.8888888888888888,
              "#fdca26"
             ],
             [
              1,
              "#f0f921"
             ]
            ],
            "type": "histogram2d"
           }
          ],
          "histogram2dcontour": [
           {
            "colorbar": {
             "outlinewidth": 0,
             "ticks": ""
            },
            "colorscale": [
             [
              0,
              "#0d0887"
             ],
             [
              0.1111111111111111,
              "#46039f"
             ],
             [
              0.2222222222222222,
              "#7201a8"
             ],
             [
              0.3333333333333333,
              "#9c179e"
             ],
             [
              0.4444444444444444,
              "#bd3786"
             ],
             [
              0.5555555555555556,
              "#d8576b"
             ],
             [
              0.6666666666666666,
              "#ed7953"
             ],
             [
              0.7777777777777778,
              "#fb9f3a"
             ],
             [
              0.8888888888888888,
              "#fdca26"
             ],
             [
              1,
              "#f0f921"
             ]
            ],
            "type": "histogram2dcontour"
           }
          ],
          "mesh3d": [
           {
            "colorbar": {
             "outlinewidth": 0,
             "ticks": ""
            },
            "type": "mesh3d"
           }
          ],
          "parcoords": [
           {
            "line": {
             "colorbar": {
              "outlinewidth": 0,
              "ticks": ""
             }
            },
            "type": "parcoords"
           }
          ],
          "pie": [
           {
            "automargin": true,
            "type": "pie"
           }
          ],
          "scatter": [
           {
            "fillpattern": {
             "fillmode": "overlay",
             "size": 10,
             "solidity": 0.2
            },
            "type": "scatter"
           }
          ],
          "scatter3d": [
           {
            "line": {
             "colorbar": {
              "outlinewidth": 0,
              "ticks": ""
             }
            },
            "marker": {
             "colorbar": {
              "outlinewidth": 0,
              "ticks": ""
             }
            },
            "type": "scatter3d"
           }
          ],
          "scattercarpet": [
           {
            "marker": {
             "colorbar": {
              "outlinewidth": 0,
              "ticks": ""
             }
            },
            "type": "scattercarpet"
           }
          ],
          "scattergeo": [
           {
            "marker": {
             "colorbar": {
              "outlinewidth": 0,
              "ticks": ""
             }
            },
            "type": "scattergeo"
           }
          ],
          "scattergl": [
           {
            "marker": {
             "colorbar": {
              "outlinewidth": 0,
              "ticks": ""
             }
            },
            "type": "scattergl"
           }
          ],
          "scattermapbox": [
           {
            "marker": {
             "colorbar": {
              "outlinewidth": 0,
              "ticks": ""
             }
            },
            "type": "scattermapbox"
           }
          ],
          "scatterpolar": [
           {
            "marker": {
             "colorbar": {
              "outlinewidth": 0,
              "ticks": ""
             }
            },
            "type": "scatterpolar"
           }
          ],
          "scatterpolargl": [
           {
            "marker": {
             "colorbar": {
              "outlinewidth": 0,
              "ticks": ""
             }
            },
            "type": "scatterpolargl"
           }
          ],
          "scatterternary": [
           {
            "marker": {
             "colorbar": {
              "outlinewidth": 0,
              "ticks": ""
             }
            },
            "type": "scatterternary"
           }
          ],
          "surface": [
           {
            "colorbar": {
             "outlinewidth": 0,
             "ticks": ""
            },
            "colorscale": [
             [
              0,
              "#0d0887"
             ],
             [
              0.1111111111111111,
              "#46039f"
             ],
             [
              0.2222222222222222,
              "#7201a8"
             ],
             [
              0.3333333333333333,
              "#9c179e"
             ],
             [
              0.4444444444444444,
              "#bd3786"
             ],
             [
              0.5555555555555556,
              "#d8576b"
             ],
             [
              0.6666666666666666,
              "#ed7953"
             ],
             [
              0.7777777777777778,
              "#fb9f3a"
             ],
             [
              0.8888888888888888,
              "#fdca26"
             ],
             [
              1,
              "#f0f921"
             ]
            ],
            "type": "surface"
           }
          ],
          "table": [
           {
            "cells": {
             "fill": {
              "color": "#EBF0F8"
             },
             "line": {
              "color": "white"
             }
            },
            "header": {
             "fill": {
              "color": "#C8D4E3"
             },
             "line": {
              "color": "white"
             }
            },
            "type": "table"
           }
          ]
         },
         "layout": {
          "annotationdefaults": {
           "arrowcolor": "#2a3f5f",
           "arrowhead": 0,
           "arrowwidth": 1
          },
          "autotypenumbers": "strict",
          "coloraxis": {
           "colorbar": {
            "outlinewidth": 0,
            "ticks": ""
           }
          },
          "colorscale": {
           "diverging": [
            [
             0,
             "#8e0152"
            ],
            [
             0.1,
             "#c51b7d"
            ],
            [
             0.2,
             "#de77ae"
            ],
            [
             0.3,
             "#f1b6da"
            ],
            [
             0.4,
             "#fde0ef"
            ],
            [
             0.5,
             "#f7f7f7"
            ],
            [
             0.6,
             "#e6f5d0"
            ],
            [
             0.7,
             "#b8e186"
            ],
            [
             0.8,
             "#7fbc41"
            ],
            [
             0.9,
             "#4d9221"
            ],
            [
             1,
             "#276419"
            ]
           ],
           "sequential": [
            [
             0,
             "#0d0887"
            ],
            [
             0.1111111111111111,
             "#46039f"
            ],
            [
             0.2222222222222222,
             "#7201a8"
            ],
            [
             0.3333333333333333,
             "#9c179e"
            ],
            [
             0.4444444444444444,
             "#bd3786"
            ],
            [
             0.5555555555555556,
             "#d8576b"
            ],
            [
             0.6666666666666666,
             "#ed7953"
            ],
            [
             0.7777777777777778,
             "#fb9f3a"
            ],
            [
             0.8888888888888888,
             "#fdca26"
            ],
            [
             1,
             "#f0f921"
            ]
           ],
           "sequentialminus": [
            [
             0,
             "#0d0887"
            ],
            [
             0.1111111111111111,
             "#46039f"
            ],
            [
             0.2222222222222222,
             "#7201a8"
            ],
            [
             0.3333333333333333,
             "#9c179e"
            ],
            [
             0.4444444444444444,
             "#bd3786"
            ],
            [
             0.5555555555555556,
             "#d8576b"
            ],
            [
             0.6666666666666666,
             "#ed7953"
            ],
            [
             0.7777777777777778,
             "#fb9f3a"
            ],
            [
             0.8888888888888888,
             "#fdca26"
            ],
            [
             1,
             "#f0f921"
            ]
           ]
          },
          "colorway": [
           "#636efa",
           "#EF553B",
           "#00cc96",
           "#ab63fa",
           "#FFA15A",
           "#19d3f3",
           "#FF6692",
           "#B6E880",
           "#FF97FF",
           "#FECB52"
          ],
          "font": {
           "color": "#2a3f5f"
          },
          "geo": {
           "bgcolor": "white",
           "lakecolor": "white",
           "landcolor": "#E5ECF6",
           "showlakes": true,
           "showland": true,
           "subunitcolor": "white"
          },
          "hoverlabel": {
           "align": "left"
          },
          "hovermode": "closest",
          "mapbox": {
           "style": "light"
          },
          "paper_bgcolor": "white",
          "plot_bgcolor": "#E5ECF6",
          "polar": {
           "angularaxis": {
            "gridcolor": "white",
            "linecolor": "white",
            "ticks": ""
           },
           "bgcolor": "#E5ECF6",
           "radialaxis": {
            "gridcolor": "white",
            "linecolor": "white",
            "ticks": ""
           }
          },
          "scene": {
           "xaxis": {
            "backgroundcolor": "#E5ECF6",
            "gridcolor": "white",
            "gridwidth": 2,
            "linecolor": "white",
            "showbackground": true,
            "ticks": "",
            "zerolinecolor": "white"
           },
           "yaxis": {
            "backgroundcolor": "#E5ECF6",
            "gridcolor": "white",
            "gridwidth": 2,
            "linecolor": "white",
            "showbackground": true,
            "ticks": "",
            "zerolinecolor": "white"
           },
           "zaxis": {
            "backgroundcolor": "#E5ECF6",
            "gridcolor": "white",
            "gridwidth": 2,
            "linecolor": "white",
            "showbackground": true,
            "ticks": "",
            "zerolinecolor": "white"
           }
          },
          "shapedefaults": {
           "line": {
            "color": "#2a3f5f"
           }
          },
          "ternary": {
           "aaxis": {
            "gridcolor": "white",
            "linecolor": "white",
            "ticks": ""
           },
           "baxis": {
            "gridcolor": "white",
            "linecolor": "white",
            "ticks": ""
           },
           "bgcolor": "#E5ECF6",
           "caxis": {
            "gridcolor": "white",
            "linecolor": "white",
            "ticks": ""
           }
          },
          "title": {
           "x": 0.05
          },
          "xaxis": {
           "automargin": true,
           "gridcolor": "white",
           "linecolor": "white",
           "ticks": "",
           "title": {
            "standoff": 15
           },
           "zerolinecolor": "white",
           "zerolinewidth": 2
          },
          "yaxis": {
           "automargin": true,
           "gridcolor": "white",
           "linecolor": "white",
           "ticks": "",
           "title": {
            "standoff": 15
           },
           "zerolinecolor": "white",
           "zerolinewidth": 2
          }
         }
        },
        "title": {
         "text": "SemD Values for Words in the Shakespeare Corpus"
        },
        "xaxis": {
         "anchor": "y",
         "domain": [
          0,
          1
         ],
         "title": {
          "text": "Word"
         }
        },
        "yaxis": {
         "anchor": "x",
         "domain": [
          0,
          1
         ],
         "title": {
          "text": "SemD"
         }
        }
       }
      }
     },
     "metadata": {},
     "output_type": "display_data"
    },
    {
     "name": "stdout",
     "output_type": "stream",
     "text": [
      "  Word      SemD  Word Probability\n",
      "0   be  5.586786          0.007662\n",
      "1    a  5.586604          0.016447\n",
      "2  and  5.586604          0.029825\n",
      "3   in  5.586604          0.012538\n",
      "4   is  5.586604          0.011971\n"
     ]
    }
   ],
   "source": [
    "context_length = 1000\n",
    "min_frequency = 500\n",
    "min_contexts = 5\n",
    "\n",
    "# directory_names = ['Shakespeare', 'Oscar Wilde', 'Mark Twain', 'Rudyard Kipling', 'G K Chesterton', 'Arthur Conan Doyle', 'Charles Dickens','Tolstoy']\n",
    "directory_names = ['Shakespeare']\n",
    "for directory_name in directory_names:\n",
    "    directory = f'../Text data/{directory_name}/'\n",
    "    df = corpus_semd(directory, context_length, min_frequency, min_contexts)\n",
    "    # corpus_name = directory.split('/')[-2]\n",
    "    # corpus = load_corpus(directory)\n",
    "\n",
    "    # # Performing LSA for the whole corpus\n",
    "    # word_vectors, context_vectors, word_to_index, contexts = perform_lsa(corpus, context_length=context_length, min_frequency=min_frequency)\n",
    "    # print(f'Context vectors shape: {context_vectors.shape}')\n",
    "\n",
    "    # # # Calculate semD values for all words in the index using the Pool method\n",
    "    # # with Pool() as p:\n",
    "    # #     semD_values_list = p.map(calculate_semd_wrapper, [(word, word_vectors, context_vectors, word_to_index, min_contexts) for word in word_to_index])\n",
    "    # # semD_values = dict(semD_values_list)\n",
    "\n",
    "    # # Calculate semD values for all words in the index and plot them with the corresponding word label\n",
    "    # semD_values = {word: calculate_semd(word, word_vectors, context_vectors, word_to_index,contexts, min_contexts) for word in word_to_index}  \n",
    "\n",
    "\n",
    "    # # Sort semD values in descending order of their values\n",
    "    # semD_values = {k: v for k, v in sorted(semD_values.items(), key=lambda item: item[1], reverse=True)}\n",
    "    \n",
    "    # # Create a DataFrame from the semD values\n",
    "    # df = pd.DataFrame(list(semD_values.items()), columns=['Word', 'SemD'])\n",
    "\n",
    "    # # plot_semD(df, corpus_name, context_length, min_frequency, min_contexts, save=save)\n",
    "    # # # print(df)\n",
    "\n",
    "    # # calculate the probability of the word appearing in the corpus\n",
    "    # word_counts = defaultdict(int)\n",
    "    # for word in corpus:\n",
    "    #     word_counts[word] += 1\n",
    "\n",
    "    # total_words = len(corpus)\n",
    "    # df['Word Probability'] = df['Word'].apply(lambda x: word_counts[x]/total_words)\n",
    "    # print(df.head())"
   ]
  },
  {
   "cell_type": "code",
   "execution_count": null,
   "metadata": {},
   "outputs": [],
   "source": [
    "#playing with multiprocessing\n",
    "\n",
    "context_length = 1000\n",
    "min_frequency = 1000\n",
    "min_contexts = 50\n",
    "\n",
    "directory_name = 'Text Data'\n",
    "directory = f'../{directory_name}/'\n",
    "# semD_df= corpus_semd(directory, context_length=context_length, min_frequency=min_frequency, min_contexts=min_contexts)\n"
   ]
  },
  {
   "cell_type": "code",
   "execution_count": null,
   "metadata": {},
   "outputs": [],
   "source": [
    "corpus_name = directory.split('/')[-2]\n",
    "corpus = load_corpus(directory)\n",
    "\n",
    "# Performing LSA for the whole corpus\n",
    "word_vectors, context_vectors, word_to_index, contexts = perform_lsa(corpus, context_length = context_length, min_frequency=min_frequency)\n",
    "print(f'Context vectors shape: {context_vectors.shape}')\n"
   ]
  },
  {
   "cell_type": "code",
   "execution_count": null,
   "metadata": {},
   "outputs": [],
   "source": [
    "def calculate_semd_wrapper(args):\n",
    "    word, word_vectors, context_vectors, word_to_index, min_contexts = args\n",
    "    semd_value = calculate_semd(word, word_vectors, context_vectors, word_to_index, min_contexts)\n",
    "    return word, semd_value\n",
    "\n",
    "with Pool() as p:\n",
    "    semD_values_list = p.map(calculate_semd_wrapper, [(word, word_vectors, context_vectors, word_to_index, min_contexts) for word in word_to_index])\n",
    "\n",
    "semD_values = dict(semD_values_list)\n",
    "# # Calculate semD values for all words in the index and plot them with the corresponding word label\n",
    "# semD_values = {word: calculate_semd(word, word_vectors, context_vectors, word_to_index, min_contexts) for word in word_to_index}\n",
    "\n",
    "# Sort semD values in descending order of their values\n",
    "semD_values = {k: v for k, v in sorted(semD_values.items(), key=lambda item: item[1], reverse=True)}\n"
   ]
  },
  {
   "cell_type": "code",
   "execution_count": null,
   "metadata": {},
   "outputs": [],
   "source": [
    "\n",
    "# Create a DataFrame from the semD values\n",
    "df = pd.DataFrame(list(semD_values.items()), columns=['Word', 'SemD'])\n",
    "\n",
    "save_path = f'../Code/{corpus_name}_semD_Basic_lowercase_{context_length}word_contexts_min_freq_{min_frequency}_min_contexts_{min_contexts}.csv'\n",
    "df.to_csv(save_path, index=False)\n",
    "\n",
    "# Plot the semD values using plotly\n",
    "fig = px.bar(df, x='Word', y='SemD', title=f'SemD Values for Words in the {corpus_name} Corpus')\n",
    "\n",
    "# add color to the plot\n",
    "fig.update_traces(marker_color='rgb(158,202,225)', marker_line_color='rgb(8,48,107)',marker_line_width=1.5, opacity=0.6)\n",
    "fig.show()\n",
    "\n",
    "# save figure\n",
    "fig.write_html(f\"../Code/{corpus_name}_semD_Basic_lowercase_{context_length}word_contexts_min{min_frequency}freq_min{min_contexts}contexts.html\")\n",
    "\n"
   ]
  },
  {
   "cell_type": "code",
   "execution_count": null,
   "metadata": {},
   "outputs": [],
   "source": [
    "save_path = 'Text data_semD_Basic_lowercase_1000word_contexts_min_freq_1000_min_contexts_50.csv'\n",
    "def add_word_probabilities(save_path, corpus, save=False):\n",
    "    # read all the words in the csv file\n",
    "    df = pd.read_csv(save_path)\n",
    "    print(df.head())\n",
    "\n",
    "    # calculate the probability of the word appearing in the corpus\n",
    "    word_counts = defaultdict(int)\n",
    "    for word in corpus:\n",
    "        word_counts[word] += 1\n",
    "\n",
    "    total_words = len(corpus)\n",
    "    df['Word Probability'] = df['Word'].apply(lambda x: word_counts[x]/total_words)\n",
    "    print(df.head())\n",
    "\n",
    "    if save:\n",
    "        df.to_csv(save_path, index=False)\n",
    "    return df\n",
    "\n",
    "df = add_word_probabilities(save_path, corpus)\n"
   ]
  },
  {
   "cell_type": "code",
   "execution_count": null,
   "metadata": {},
   "outputs": [],
   "source": [
    "def spearman_rank_correlation(df):\n",
    "    # conduct spearman rank correlation test of the word and their word entropy\n",
    "    correlation = scipy.stats.spearmanr(df['SemD'], df['Word Probability'])\n",
    "    print(f'Spearman Rank Correlation: {correlation}')\n",
    "    return correlation\n",
    "\n",
    "spearman_rank_correlation(df)\n",
    "\n"
   ]
  },
  {
   "cell_type": "code",
   "execution_count": null,
   "metadata": {},
   "outputs": [],
   "source": [
    "context_length = 1000\n",
    "min_frequency = 500\n",
    "min_contexts = 5\n"
   ]
  }
 ],
 "metadata": {
  "kernelspec": {
   "display_name": "SoftComputing",
   "language": "python",
   "name": "python3"
  },
  "language_info": {
   "codemirror_mode": {
    "name": "ipython",
    "version": 3
   },
   "file_extension": ".py",
   "mimetype": "text/x-python",
   "name": "python",
   "nbconvert_exporter": "python",
   "pygments_lexer": "ipython3",
   "version": "3.12.3"
  }
 },
 "nbformat": 4,
 "nbformat_minor": 2
}
