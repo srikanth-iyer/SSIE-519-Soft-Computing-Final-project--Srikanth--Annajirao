{
 "cells": [
  {
   "cell_type": "code",
   "execution_count": 1,
   "metadata": {},
   "outputs": [],
   "source": [
    "# if requirements file is updated\n",
    "\n",
    "# pip install -r requirements.txt\n",
    "\n",
    "# if setup file is updated\n",
    "# pip install ."
   ]
  },
  {
   "cell_type": "code",
   "execution_count": 2,
   "metadata": {},
   "outputs": [],
   "source": [
    "import torch\n",
    "from transformers import BertTokenizer, BertModel\n",
    "from scipy.spatial.distance import cosine\n",
    "import matplotlib.pyplot as plt\n",
    "import re\n",
    "import numpy as np\n",
    "import os\n",
    "from scipy.spatial.distance import pdist, squareform\n",
    "\n"
   ]
  },
  {
   "cell_type": "code",
   "execution_count": 38,
   "metadata": {},
   "outputs": [],
   "source": [
    "def get_sentence_embedding(text):\n",
    "    \n",
    "    # Tokenize the input text\n",
    "    encoded_input = tokenizer(text, return_tensors='pt', padding=True, truncation=True)\n",
    "    \n",
    "    # Pass the input through the BERT model\n",
    "    output = model(**encoded_input)\n",
    "    \n",
    "    # Extract the sentence embedding from the output\n",
    "    sentence_embedding = output.pooler_output\n",
    "    \n",
    "    return sentence_embedding\n",
    "\n",
    "\n",
    "def get_word_embeddings(text, target_word):\n",
    "    \n",
    "    # Tokenize the input text\n",
    "    tokenized_text = tokenizer.tokenize(text)\n",
    "    input_ids = tokenizer.convert_tokens_to_ids(tokenized_text)\n",
    "    input_ids = torch.tensor([input_ids])\n",
    "\n",
    "    # Generate the word embeddings\n",
    "    output = model(input_ids)[0]  # The first element of the output is the word embeddings\n",
    "    all_word_embeddings = output[0]\n",
    "    if target_word in tokenized_text:\n",
    "            \n",
    "        # Find the index of the target word\n",
    "        target_word_index = tokenized_text.index(target_word)\n",
    "\n",
    "        # Extract the target word embeddings\n",
    "        target_word_embeddings = all_word_embeddings[target_word_index]\n",
    "        return all_word_embeddings, target_word_embeddings\n",
    "    return None, None\n",
    "\n",
    "# Measure polysemy  of a target word in a text corpus\n",
    "\n",
    "def measure_polysemy(texts, word):\n",
    "    '''Currently this function is not correct. \n",
    "    It only measures the cosine distance of the different target word embeddings\n",
    "      in the different sentences where it is found. \n",
    "      \n",
    "    '''  \n",
    "    embeddings = torch.tensor([])\n",
    "\n",
    "    for text in texts:\n",
    "        if word in text:\n",
    "            _ , target_word_embeddings = get_word_embeddings(text, word)\n",
    "            sentence_embeddings = get_sentence_embedding(text)\n",
    "            if target_word_embeddings is not None:\n",
    "                embeddings = torch.cat((embeddings, target_word_embeddings.unsqueeze(0).detach()), dim=0)\n",
    "        else:\n",
    "            pass\n",
    "    print(\"Target word embeddings shape is \", embeddings.shape)\n",
    "\n",
    "    # Measure distances between embeddings\n",
    "\n",
    "    embeddings_np = embeddings.detach().numpy()\n",
    "    distances = pdist(embeddings_np, 'cosine')\n",
    "\n",
    "    return distances"
   ]
  },
  {
   "cell_type": "code",
   "execution_count": null,
   "metadata": {},
   "outputs": [],
   "source": []
  },
  {
   "cell_type": "code",
   "execution_count": 4,
   "metadata": {},
   "outputs": [
    {
     "data": {
      "text/plain": [
       "65019"
      ]
     },
     "execution_count": 4,
     "metadata": {},
     "output_type": "execute_result"
    }
   ],
   "source": [
    "# loading all the text in text data folder\n",
    "text_sentences = []\n",
    "\n",
    "for file in os.listdir('../Text data'):\n",
    "    if file.endswith(\".txt\"):\n",
    "        with open(os.path.join('../Text data', file), 'r') as f:\n",
    "            text = f.read()\n",
    "            text = re.sub(r'\\n', ' ', text)  # Remove newline characters\n",
    "            text = re.sub(r'\\s+', ' ', text)  # Remove extra whitespaces\n",
    "\n",
    "            # Split the textcorpus into a list of sentence strings\n",
    "            text = re.split(r'(?<!\\w\\.\\w.)(?<![A-Z][a-z]\\.)(?<=\\.|\\?)\\s', text)\n",
    "            text_sentences.extend(text)\n"
   ]
  },
  {
   "cell_type": "code",
   "execution_count": 5,
   "metadata": {},
   "outputs": [],
   "source": [
    "# Load the pre-trained BERT model and tokenizer\n",
    "model = BertModel.from_pretrained('bert-base-uncased')\n",
    "tokenizer = BertTokenizer.from_pretrained('bert-base-uncased')\n"
   ]
  },
  {
   "cell_type": "code",
   "execution_count": 46,
   "metadata": {},
   "outputs": [
    {
     "data": {
      "text/plain": [
       "65019"
      ]
     },
     "execution_count": 46,
     "metadata": {},
     "output_type": "execute_result"
    }
   ],
   "source": [
    "# Measure polysemy distances of the target word in the text sentences\n",
    "\n",
    "target_word = 'by'\n",
    "texts = text_sentences[0:]\n",
    "len(texts)"
   ]
  },
  {
   "cell_type": "code",
   "execution_count": 45,
   "metadata": {},
   "outputs": [
    {
     "name": "stdout",
     "output_type": "stream",
     "text": [
      "Embeddings shape is  torch.Size([36, 768])\n",
      "Distances length is  630\n"
     ]
    },
    {
     "data": {
      "image/png": "[encoded data removed]",
      "text/plain": [
       "<Figure size 640x480 with 1 Axes>"
      ]
     },
     "metadata": {},
     "output_type": "display_data"
    }
   ],
   "source": [
    "distances = measure_polysemy(texts, target_word)\n",
    "print('Distances length is ', len(distances))\n",
    "plt.hist(distances, bins=50)\n",
    "# plt.ylim(0, 100)  # Scale the y axis from 0 to 1000\n",
    "\n",
    "plt.title(\"Distribution of Cosine Distances\")\n",
    "plt.xlabel(\"Cosine Distance\")\n",
    "plt.ylabel(\"Frequency\")\n",
    "plt.show()"
   ]
  }
 ],
 "metadata": {
  "kernelspec": {
   "display_name": "base",
   "language": "python",
   "name": "python3"
  },
  "language_info": {
   "codemirror_mode": {
    "name": "ipython",
    "version": 3
   },
   "file_extension": ".py",
   "mimetype": "text/x-python",
   "name": "python",
   "nbconvert_exporter": "python",
   "pygments_lexer": "ipython3",
   "version": "3.12.3"
  }
 },
 "nbformat": 4,
 "nbformat_minor": 2
}
