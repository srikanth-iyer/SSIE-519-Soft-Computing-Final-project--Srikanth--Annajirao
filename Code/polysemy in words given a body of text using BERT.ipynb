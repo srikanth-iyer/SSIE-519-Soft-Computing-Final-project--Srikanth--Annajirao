{
 "cells": [
  {
   "cell_type": "markdown",
   "metadata": {},
   "source": [
    "Generated from Perplexity and modified on Cursor"
   ]
  },
  {
   "cell_type": "code",
   "execution_count": 1,
   "metadata": {},
   "outputs": [],
   "source": [
    "# if requirements file is updated\n",
    "\n",
    "# pip install -r requirements.txt\n",
    "\n",
    "# if setup file is updated\n",
    "# pip install ."
   ]
  },
  {
   "cell_type": "code",
   "execution_count": 1,
   "metadata": {},
   "outputs": [],
   "source": [
    "import torch\n",
    "from transformers import BertTokenizer, BertModel\n",
    "from scipy.spatial.distance import cosine\n",
    "import matplotlib.pyplot as plt\n",
    "import re\n",
    "import numpy as np\n",
    "import os\n"
   ]
  },
  {
   "cell_type": "code",
   "execution_count": 18,
   "metadata": {},
   "outputs": [],
   "source": [
    "def get_sentence_embedding(text):\n",
    "    \n",
    "    # Tokenize the input text\n",
    "    encoded_input = tokenizer(text, return_tensors='pt', padding=True, truncation=True)\n",
    "    \n",
    "    # Pass the input through the BERT model\n",
    "    output = model(**encoded_input)\n",
    "    \n",
    "    # Extract the sentence embedding from the output\n",
    "    sentence_embedding = output.pooler_output\n",
    "    \n",
    "    return sentence_embedding\n",
    "\n",
    "\n",
    "def get_word_embeddings(text, target_word):\n",
    "\n",
    "    # Tokenize the input text\n",
    "    tokenized_text = tokenizer.tokenize(text)\n",
    "    input_ids = tokenizer.convert_tokens_to_ids(tokenized_text)\n",
    "    input_ids = torch.tensor([input_ids])\n",
    "    \n",
    "    # Generate the word embeddings\n",
    "    output = model(input_ids)[0]  # The first element of the output is the word embeddings\n",
    "    all_word_embeddings = output[0]\n",
    "    \n",
    "    # Find the index of the target word\n",
    "    target_word_index = tokenized_text.index(target_word)\n",
    "    \n",
    "    # Extract the target word embeddings\n",
    "    target_word_embeddings = all_word_embeddings[target_word_index]\n",
    "    \n",
    "    return all_word_embeddings, target_word_embeddings\n",
    "\n",
    "\n",
    "# Measure polysemy  of a target word in a text corpus\n",
    "\n",
    "def measure_polysemy(texts, word):\n",
    "      \n",
    "    embeddings = []\n",
    "    for text in texts:\n",
    "        if word in text:\n",
    "            _, target_word_embeddings = get_word_embeddings(text, word)\n",
    "            embeddings.append(target_word_embeddings)\n",
    "        else:\n",
    "            pass\n",
    "    \n",
    "    # Measure distances between embeddings\n",
    "    distances = []\n",
    "    for i in range(len(embeddings)):\n",
    "        for j in range(i + 1, len(embeddings)):\n",
    "            distance = cosine(embeddings[i].numpy().flatten(), embeddings[j].numpy().flatten())\n",
    "            distances.append(distance)\n",
    "    \n",
    "    return distances"
   ]
  },
  {
   "cell_type": "code",
   "execution_count": 9,
   "metadata": {},
   "outputs": [
    {
     "name": "stdout",
     "output_type": "stream",
     "text": [
      "[\"A Midsummer Night's Dream by William Shakespeare Edited by Barbara A.\", 'Mowat and Paul Werstine with Michael Poston and Rebecca Niles Folger Shakespeare Library https://shakespeare.folger.edu/shakespeares-works/a-midsummer-nights-dream/ Created on Jul 31, 2015, from FDT version 0.9.2 Characters in the Play ====================== Four lovers: HERMIA LYSANDER HELENA DEMETRIUS THESEUS, duke of Athens HIPPOLYTA, queen of the Amazons EGEUS, father to Hermia PHILOSTRATE, master of the revels to Theseus NICK BOTTOM, weaver PETER QUINCE, carpenter FRANCIS FLUTE, bellows-mender TOM SNOUT, tinker SNUG, joiner ROBIN STARVELING, tailor OBERON, king of the Fairies TITANIA, queen of the Fairies ROBIN GOODFELLOW, a \"puck,\" or hobgoblin, in Oberon\\'s service A FAIRY, in the service of Titania Fairies attending upon Titania: PEASEBLOSSOM COBWEB MOTE MUSTARDSEED Lords and Attendants on Theseus and Hippolyta Other Fairies in the trains of Titania and Oberon ACT 1 ===== Scene 1 ======= [Enter Theseus, Hippolyta, and Philostrate, with others.] THESEUS Now, fair Hippolyta, our nuptial hour Draws on apace.', 'Four happy days bring in Another moon.', \"But, O, methinks how slow This old moon wanes! She lingers my desires Like to a stepdame or a dowager Long withering out a young man's revenue.\", 'HIPPOLYTA Four days will quickly steep themselves in night; Four nights will quickly dream away the time; And then the moon, like to a silver bow New-bent in heaven, shall behold the night Of our solemnities.', 'THESEUS Go, Philostrate, Stir up the Athenian youth to merriments.', 'Awake the pert and nimble spirit of mirth.', 'Turn melancholy forth to funerals; The pale companion is not for our pomp.', '[Philostrate exits.] Hippolyta, I wooed thee with my sword And won thy love doing thee injuries, But I will wed thee in another key, With pomp, with triumph, and with reveling.', '[Enter Egeus and his daughter Hermia, and Lysander and Demetrius.] EGEUS Happy be Theseus, our renowned duke! THESEUS Thanks, good Egeus.']\n"
     ]
    }
   ],
   "source": [
    "# textcorpus = []\n",
    "# for file in os.listdir('../Text data'):\n",
    "#     if file.endswith(\".txt\"):\n",
    "#         with open(os.path.join('../Text data', file), 'r') as f:\n",
    "#             textcorpus.append(f.read())\n",
    "\n",
    "# textcorpus = ' '.join(textcorpus)\n",
    "# # Clean up the textcorpus for preprocessing\n",
    "# textcorpus = re.sub(r'\\n', ' ', textcorpus)  # Remove newline characters\n",
    "# textcorpus = re.sub(r'\\s+', ' ', textcorpus)  # Remove extra whitespaces\n",
    "\n",
    "# # Split the textcorpus into a list of sentence strings\n",
    "# textcorpus_sentences = re.split(r'(?<!\\w\\.\\w.)(?<![A-Z][a-z]\\.)(?<=\\.|\\?)\\s', textcorpus)\n",
    "# print(textcorpus_sentences[:10])\n"
   ]
  },
  {
   "cell_type": "code",
   "execution_count": 3,
   "metadata": {},
   "outputs": [
    {
     "name": "stdout",
     "output_type": "stream",
     "text": [
      "[\"A Midsummer Night's Dream by William Shakespeare Edited by Barbara A.\"]\n"
     ]
    }
   ],
   "source": [
    "with open('../Text data/a-midsummer-nights-dream_TXT_FolgerShakespeare.txt', 'r') as file:\n",
    "    text = file.read()\n",
    "text = re.sub(r'\\n', ' ', text)  # Remove newline characters\n",
    "text = re.sub(r'\\s+', ' ', text)  # Remove extra whitespaces\n",
    "\n",
    "# Split the textcorpus into a list of sentence strings\n",
    "text_sentences = re.split(r'(?<!\\w\\.\\w.)(?<![A-Z][a-z]\\.)(?<=\\.|\\?)\\s', text)\n",
    "\n",
    "print(text_sentences[:1])"
   ]
  },
  {
   "cell_type": "code",
   "execution_count": 7,
   "metadata": {},
   "outputs": [
    {
     "name": "stdout",
     "output_type": "stream",
     "text": [
      "torch.Size([1, 768])\n"
     ]
    }
   ],
   "source": [
    "# Load the pre-trained BERT model and tokenizer\n",
    "model = BertModel.from_pretrained('bert-base-uncased')\n",
    "tokenizer = BertTokenizer.from_pretrained('bert-base-uncased')\n"
   ]
  },
  {
   "cell_type": "code",
   "execution_count": 20,
   "metadata": {},
   "outputs": [
    {
     "ename": "ValueError",
     "evalue": "'man' is not in list",
     "output_type": "error",
     "traceback": [
      "\u001b[1;31m---------------------------------------------------------------------------\u001b[0m",
      "\u001b[1;31mValueError\u001b[0m                                Traceback (most recent call last)",
      "Cell \u001b[1;32mIn[20], line 4\u001b[0m\n\u001b[0;32m      1\u001b[0m \u001b[38;5;66;03m# Measure polysemy distances of the target word in the text setences\u001b[39;00m\n\u001b[0;32m      3\u001b[0m target_word\u001b[38;5;241m=\u001b[39m\u001b[38;5;124m'\u001b[39m\u001b[38;5;124mman\u001b[39m\u001b[38;5;124m'\u001b[39m\n\u001b[1;32m----> 4\u001b[0m distances \u001b[38;5;241m=\u001b[39m \u001b[43mmeasure_polysemy\u001b[49m\u001b[43m(\u001b[49m\u001b[43mtext_sentences\u001b[49m\u001b[43m,\u001b[49m\u001b[43m \u001b[49m\u001b[43mtarget_word\u001b[49m\u001b[43m)\u001b[49m\n",
      "Cell \u001b[1;32mIn[18], line 42\u001b[0m, in \u001b[0;36mmeasure_polysemy\u001b[1;34m(texts, word)\u001b[0m\n\u001b[0;32m     40\u001b[0m \u001b[38;5;28;01mfor\u001b[39;00m text \u001b[38;5;129;01min\u001b[39;00m texts:\n\u001b[0;32m     41\u001b[0m     \u001b[38;5;28;01mif\u001b[39;00m word \u001b[38;5;129;01min\u001b[39;00m text:\n\u001b[1;32m---> 42\u001b[0m         embeddings\u001b[38;5;241m.\u001b[39mappend(\u001b[43mget_word_embeddings\u001b[49m\u001b[43m(\u001b[49m\u001b[43mtext\u001b[49m\u001b[43m,\u001b[49m\u001b[43m \u001b[49m\u001b[43mword\u001b[49m\u001b[43m)\u001b[49m)\n\u001b[0;32m     43\u001b[0m     \u001b[38;5;28;01melse\u001b[39;00m:\n\u001b[0;32m     44\u001b[0m         \u001b[38;5;28;01mpass\u001b[39;00m\n",
      "Cell \u001b[1;32mIn[18], line 27\u001b[0m, in \u001b[0;36mget_word_embeddings\u001b[1;34m(text, target_word)\u001b[0m\n\u001b[0;32m     24\u001b[0m all_word_embeddings \u001b[38;5;241m=\u001b[39m output[\u001b[38;5;241m0\u001b[39m]\n\u001b[0;32m     26\u001b[0m \u001b[38;5;66;03m# Find the index of the target word\u001b[39;00m\n\u001b[1;32m---> 27\u001b[0m target_word_index \u001b[38;5;241m=\u001b[39m \u001b[43mtokenized_text\u001b[49m\u001b[38;5;241;43m.\u001b[39;49m\u001b[43mindex\u001b[49m\u001b[43m(\u001b[49m\u001b[43mtarget_word\u001b[49m\u001b[43m)\u001b[49m\n\u001b[0;32m     29\u001b[0m \u001b[38;5;66;03m# Extract the target word embeddings\u001b[39;00m\n\u001b[0;32m     30\u001b[0m target_word_embeddings \u001b[38;5;241m=\u001b[39m all_word_embeddings[target_word_index]\n",
      "\u001b[1;31mValueError\u001b[0m: 'man' is not in list"
     ]
    }
   ],
   "source": [
    "# Measure polysemy distances of the target word in the text setences\n",
    "\n",
    "target_word='man'\n",
    "distances = measure_polysemy(text_sentences, target_word)"
   ]
  },
  {
   "cell_type": "code",
   "execution_count": null,
   "metadata": {},
   "outputs": [
    {
     "data": {
      "image/png": "[encoded data removed]",
      "text/plain": [
       "<Figure size 640x480 with 1 Axes>"
      ]
     },
     "metadata": {},
     "output_type": "display_data"
    }
   ],
   "source": [
    "plt.hist(distances, bins=150)\n",
    "# plt.ylim(0, 100)  # Scale the y axis from 0 to 1000\n",
    "\n",
    "plt.title(\"Distribution of Cosine Distances\")\n",
    "plt.xlabel(\"Cosine Distance\")\n",
    "plt.ylabel(\"Frequency\")\n",
    "plt.show()\n",
    "\n"
   ]
  }
 ],
 "metadata": {
  "kernelspec": {
   "display_name": "base",
   "language": "python",
   "name": "python3"
  },
  "language_info": {
   "codemirror_mode": {
    "name": "ipython",
    "version": 3
   },
   "file_extension": ".py",
   "mimetype": "text/x-python",
   "name": "python",
   "nbconvert_exporter": "python",
   "pygments_lexer": "ipython3",
   "version": "3.12.2"
  }
 },
 "nbformat": 4,
 "nbformat_minor": 2
}
