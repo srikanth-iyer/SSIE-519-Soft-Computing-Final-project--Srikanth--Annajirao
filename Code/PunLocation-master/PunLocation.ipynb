{
 "cells": [
  {
   "cell_type": "code",
   "execution_count": 2,
   "metadata": {},
   "outputs": [
    {
     "ename": "SyntaxError",
     "evalue": "invalid syntax (1342413690.py, line 1)",
     "output_type": "error",
     "traceback": [
      "\u001b[1;36m  Cell \u001b[1;32mIn[2], line 1\u001b[1;36m\u001b[0m\n\u001b[1;33m    python3 train.py --task homo --batch-size 15 --epochs 50 > logs/homo.log\u001b[0m\n\u001b[1;37m            ^\u001b[0m\n\u001b[1;31mSyntaxError\u001b[0m\u001b[1;31m:\u001b[0m invalid syntax\n"
     ]
    }
   ],
   "source": [
    "train.py --task homo --batch-size 15 --epochs 50 > logs/homo.log"
   ]
  },
  {
   "cell_type": "code",
   "execution_count": 25,
   "metadata": {},
   "outputs": [
    {
     "name": "stdout",
     "output_type": "stream",
     "text": [
      "..\\..\\GloVe\\glove.6B\\glove.6B.100d.txt\n"
     ]
    }
   ],
   "source": [
    "import os\n",
    "\n",
    "# Specify the path to the target file\n",
    "target_file_path = 'Z:\\My Drive (siyer5@binghamton.edu)\\Binghamton\\Spring 2024 Courses\\SSIE 519- Soft Computing\\SSIE 519 Soft Computing Final project\\GloVe\\glove.6B\\glove.6B.100d.txt'\n",
    "\n",
    "# Get the current working directory\n",
    "current_dir = os.getcwd()\n",
    "\n",
    "# Calculate the relative path from the current directory to the target file\n",
    "relative_path = os.path.relpath(target_file_path, current_dir)\n",
    "\n",
    "print(relative_path)"
   ]
  },
  {
   "cell_type": "code",
   "execution_count": 1,
   "metadata": {},
   "outputs": [
    {
     "name": "stdout",
     "output_type": "stream",
     "text": [
      "Working on 0 fold\n",
      "{'debug': False, 'BPA': True, 'task': 'homo', 'path1_test': 'datasets/subtask1-homographic-test.xml', 'path1_gold': 'datasets/subtask1-homographic-test.gold', 'path2_test': 'datasets/subtask2-homographic-test.xml', 'path2_gold': 'datasets/subtask2-homographic-test.gold', 'emb_file': '..\\\\..\\\\GloVe\\\\glove.6B\\\\glove.6B.100d.txt', 'min_word_freq': 1, 'min_char_freq': 1, 'caseless': True, 'expand_vocab': True, 'fold_num': 10, 'use_pos_mask': True, 'use_all_instances': True, 'char_emb_dim': 30, 'word_emb_dim': 100, 'word_rnn_dim': 300, 'char_rnn_dim': 300, 'char_rnn_layers': 1, 'word_rnn_layers': 1, 'highway_layers': 1, 'dropout': 0.5, 'fine_tune_word_embeddings': False, 'start_epoch': 0, 'batch_size': 15, 'lr': 0.015, 'lr_decay': 0.05, 'momentum': 0.9, 'workers': 1, 'epochs': 50, 'grad_clip': 5.0, 'print_freq': 100, 'checkpoint': None, 'best_f1': -0.1, 'tag_ind': 3, 'b_factor': 0.0, 'p_factor': 0.0, 'opt': 'SGD', 'is_cuda': False, 'device': device(type='cpu')}\n",
      "{0: 1, 1: 2, '<pad>': 0, '<end>': 3}\n",
      "Embedding length is 100.\n",
      "You have elected to include embeddings that are out-of-corpus.\n",
      "\n",
      "Loading embeddings...\n",
      "'word_map' is being updated accordingly.\n",
      "\n",
      "Done.\n",
      " Embedding vocabulary: 400231\n",
      " Language Model vocabulary: 1848.\n",
      "\n"
     ]
    },
    {
     "name": "stderr",
     "output_type": "stream",
     "text": [
      "C:\\Users\\siyer5\\AppData\\Roaming\\Python\\Python311\\site-packages\\torch\\nn\\modules\\rnn.py:83: UserWarning: dropout option adds dropout after all but last recurrent layer, so non-zero dropout expects num_layers greater than 1, but got dropout=0.5 and num_layers=1\n",
      "  warnings.warn(\"dropout option adds dropout after all but last \"\n"
     ]
    },
    {
     "name": "stdout",
     "output_type": "stream",
     "text": [
      "{0: 1, 1: 2, 2: 3, '<pad>': 0, '<start>': 4, '<end>': 5}\n"
     ]
    },
    {
     "ename": "ValueError",
     "evalue": "too many values to unpack (expected 2)",
     "output_type": "error",
     "traceback": [
      "\u001b[1;31m---------------------------------------------------------------------------\u001b[0m",
      "\u001b[1;31mValueError\u001b[0m                                Traceback (most recent call last)",
      "File \u001b[1;32m\\\\tsclient\\Srikanth\\My Drive (siyer5@binghamton.edu)\\Binghamton\\Spring 2024 Courses\\SSIE 519- Soft Computing\\SSIE 519 Soft Computing Final project\\Code\\PunLocation-master\\train.py:515\u001b[0m\n\u001b[0;32m    511\u001b[0m \u001b[39mfor\u001b[39;00m f \u001b[39min\u001b[39;00m \u001b[39mrange\u001b[39m(fold_num):\n\u001b[0;32m    512\u001b[0m     \u001b[39mprint\u001b[39m(\u001b[39m'\u001b[39m\u001b[39mWorking on \u001b[39m\u001b[39m{0}\u001b[39;00m\u001b[39m fold\u001b[39m\u001b[39m'\u001b[39m\u001b[39m.\u001b[39mformat(f))\n\u001b[0;32m    513\u001b[0m     true_pos, false_pos, true_neg, false_neg, \\\n\u001b[0;32m    514\u001b[0m     loc_true_pos, loc_false_pos, loc_true_neg, \\\n\u001b[1;32m--> 515\u001b[0m     loc_false_neg, loc_multi_pos \u001b[39m=\u001b[39m main(f, task, batch_size, epoch)\n\u001b[0;32m    516\u001b[0m     b_true_pos \u001b[39m+\u001b[39m\u001b[39m=\u001b[39m true_pos\n\u001b[0;32m    517\u001b[0m     b_false_pos \u001b[39m+\u001b[39m\u001b[39m=\u001b[39m false_pos\n",
      "File \u001b[1;32m\\\\tsclient\\Srikanth\\My Drive (siyer5@binghamton.edu)\\Binghamton\\Spring 2024 Courses\\SSIE 519- Soft Computing\\SSIE 519 Soft Computing Final project\\Code\\PunLocation-master\\train.py:115\u001b[0m, in \u001b[0;36mmain\u001b[1;34m(fold, task, batch_size, epoch)\u001b[0m\n\u001b[0;32m    111\u001b[0m \u001b[39m# Epochs\u001b[39;00m\n\u001b[0;32m    112\u001b[0m \u001b[39mfor\u001b[39;00m epoch \u001b[39min\u001b[39;00m \u001b[39mrange\u001b[39m(config\u001b[39m.\u001b[39mstart_epoch, config\u001b[39m.\u001b[39mepochs):\n\u001b[0;32m    113\u001b[0m \n\u001b[0;32m    114\u001b[0m     \u001b[39m# One epoch's training\u001b[39;00m\n\u001b[1;32m--> 115\u001b[0m     train(train_loader\u001b[39m=\u001b[39mtrain_loader,\n\u001b[0;32m    116\u001b[0m           model\u001b[39m=\u001b[39mmodel,\n\u001b[0;32m    117\u001b[0m           lm_criterion\u001b[39m=\u001b[39mlm_criterion,\n\u001b[0;32m    118\u001b[0m           crf_criterion\u001b[39m=\u001b[39mcrf_criterion,\n\u001b[0;32m    119\u001b[0m           optimizer\u001b[39m=\u001b[39moptimizer,\n\u001b[0;32m    120\u001b[0m           epoch\u001b[39m=\u001b[39mepoch,\n\u001b[0;32m    121\u001b[0m           vb_decoder\u001b[39m=\u001b[39mvb_decoder,\n\u001b[0;32m    122\u001b[0m           tag_map\u001b[39m=\u001b[39mtag_map,\n\u001b[0;32m    123\u001b[0m           config\u001b[39m=\u001b[39mconfig)\n\u001b[0;32m    125\u001b[0m     \u001b[39m# One epoch's validation\u001b[39;00m\n\u001b[0;32m    126\u001b[0m     \u001b[39m# val_loader\u001b[39;00m\n\u001b[0;32m    127\u001b[0m     val_f1 \u001b[39m=\u001b[39m validate(val_loader\u001b[39m=\u001b[39mval_loader,\n\u001b[0;32m    128\u001b[0m                              model\u001b[39m=\u001b[39mmodel,\n\u001b[0;32m    129\u001b[0m                              crf_criterion\u001b[39m=\u001b[39mcrf_criterion,\n\u001b[0;32m    130\u001b[0m                              vb_decoder\u001b[39m=\u001b[39mvb_decoder,\n\u001b[0;32m    131\u001b[0m                              tag_map\u001b[39m=\u001b[39mtag_map,\n\u001b[0;32m    132\u001b[0m                              config\u001b[39m=\u001b[39mconfig)\n",
      "File \u001b[1;32m\\\\tsclient\\Srikanth\\My Drive (siyer5@binghamton.edu)\\Binghamton\\Spring 2024 Courses\\SSIE 519- Soft Computing\\SSIE 519 Soft Computing Final project\\Code\\PunLocation-master\\train.py:227\u001b[0m, in \u001b[0;36mtrain\u001b[1;34m(train_loader, model, lm_criterion, crf_criterion, optimizer, epoch, vb_decoder, tag_map, config)\u001b[0m\n\u001b[0;32m    223\u001b[0m lm_lengths \u001b[39m=\u001b[39m lm_lengths\u001b[39m.\u001b[39mtolist()\n\u001b[0;32m    225\u001b[0m \u001b[39m# Remove scores at timesteps we won't predict at\u001b[39;00m\n\u001b[0;32m    226\u001b[0m \u001b[39m# pack_padded_sequence is a good trick to do this (see dynamic_rnn.py, where we explore this)\u001b[39;00m\n\u001b[1;32m--> 227\u001b[0m lm_f_scores, _ \u001b[39m=\u001b[39m pack_padded_sequence(lm_f_scores, lm_lengths, batch_first\u001b[39m=\u001b[39m\u001b[39mTrue\u001b[39;00m)\n\u001b[0;32m    228\u001b[0m lm_b_scores, _ \u001b[39m=\u001b[39m pack_padded_sequence(lm_b_scores, lm_lengths, batch_first\u001b[39m=\u001b[39m\u001b[39mTrue\u001b[39;00m)\n\u001b[0;32m    230\u001b[0m \u001b[39m# For the forward sequence, targets are from the second word onwards, up to <end>\u001b[39;00m\n\u001b[0;32m    231\u001b[0m \u001b[39m# (timestep -> target) ...dunston -> checks, ...checks -> in, ...in -> <end>\u001b[39;00m\n",
      "\u001b[1;31mValueError\u001b[0m: too many values to unpack (expected 2)"
     ]
    }
   ],
   "source": [
    "%run train"
   ]
  }
 ],
 "metadata": {
  "kernelspec": {
   "display_name": "base",
   "language": "python",
   "name": "python3"
  },
  "language_info": {
   "codemirror_mode": {
    "name": "ipython",
    "version": 3
   },
   "file_extension": ".py",
   "mimetype": "text/x-python",
   "name": "python",
   "nbconvert_exporter": "python",
   "pygments_lexer": "ipython3",
   "version": "3.11.3"
  }
 },
 "nbformat": 4,
 "nbformat_minor": 2
}
