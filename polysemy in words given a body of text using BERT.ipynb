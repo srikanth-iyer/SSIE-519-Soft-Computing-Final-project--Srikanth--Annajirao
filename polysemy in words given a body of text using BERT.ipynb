{
 "cells": [
  {
   "cell_type": "markdown",
   "metadata": {},
   "source": [
    "Generated from Perplexity and modified on Cursor"
   ]
  },
  {
   "cell_type": "code",
   "execution_count": 10,
   "metadata": {},
   "outputs": [],
   "source": [
    "# if requirements file is updated\n",
    "\n",
    "# pip install -r requirements.txt\n",
    "\n",
    "# if setup file is updated\n",
    "# pip install ."
   ]
  },
  {
   "cell_type": "code",
   "execution_count": 11,
   "metadata": {},
   "outputs": [],
   "source": [
    "import torch\n",
    "from transformers import BertTokenizer, BertModel\n",
    "from scipy.spatial.distance import cosine\n",
    "import matplotlib.pyplot as plt\n"
   ]
  },
  {
   "cell_type": "code",
   "execution_count": 23,
   "metadata": {},
   "outputs": [
    {
     "name": "stdout",
     "output_type": "stream",
     "text": [
      "Distances between embeddings: [0.7669081720292908, 0.7451063183749413, 0.5890246920153703]\n"
     ]
    }
   ],
   "source": [
    "def get_word_embeddings(text, word, model, tokenizer):\n",
    "    # Tokenize input\n",
    "    inputs = tokenizer(text, return_tensors=\"pt\", padding=True, truncation=True)\n",
    "    \n",
    "    # Generate output\n",
    "    with torch.no_grad():\n",
    "        outputs = model(**inputs)\n",
    "    \n",
    "    # Get embeddings for the [CLS] token\n",
    "    embeddings = outputs.last_hidden_state\n",
    "    \n",
    "    # Find indices of the target word\n",
    "    word_ids = inputs['input_ids'].squeeze().tolist()\n",
    "    word_tokens = tokenizer.convert_ids_to_tokens(word_ids)\n",
    "    word_indices = [i for i, token in enumerate(word_tokens) if word in token]\n",
    "    \n",
    "    # Average the embeddings for the target word\n",
    "    # Flatten the embeddings to 1-D\n",
    "    word_embeddings = torch.mean(embeddings[:, word_indices, :], dim=1).squeeze()   \n",
    "    return word_embeddings\n",
    "\n",
    "def measure_polysemy(texts, word, model_name='bert-base-uncased'):\n",
    "    tokenizer = BertTokenizer.from_pretrained(model_name)\n",
    "    model = BertModel.from_pretrained(model_name, output_hidden_states=True)\n",
    "    \n",
    "    embeddings = []\n",
    "    for text in texts:\n",
    "        if word in text:\n",
    "            embeddings.append(get_word_embeddings(text, word, model, tokenizer))\n",
    "        else:\n",
    "            pass\n",
    "    \n",
    "    # Measure distances between embeddings\n",
    "    distances = []\n",
    "    for i in range(len(embeddings)):\n",
    "        for j in range(i + 1, len(embeddings)):\n",
    "            distance = cosine(embeddings[i].numpy().flatten(), embeddings[j].numpy().flatten())\n",
    "            distances.append(distance)\n",
    "    \n",
    "    return distances\n",
    "\n",
    "# Example usage\n",
    "texts = [\n",
    "    \"The bank can guarantee deposits will eventually cover future tuition costs because it invests in adjustable-rate mortgage securities.\",\n",
    "    \"It's on the left bank of the river.\",\n",
    "    \"She deposited the money in the bank.\"\n",
    "]\n",
    "\n",
    "word = \"on\"\n",
    "distances = measure_polysemy(texts, word)\n",
    "print(\"Distances between embeddings:\", distances)"
   ]
  },
  {
   "cell_type": "code",
   "execution_count": 24,
   "metadata": {},
   "outputs": [
    {
     "data": {
      "image/png": "[encoded data removed]",
      "text/plain": [
       "<Figure size 640x480 with 1 Axes>"
      ]
     },
     "metadata": {},
     "output_type": "display_data"
    }
   ],
   "source": [
    "plt.hist(distances, bins=20)\n",
    "plt.title(\"Distribution of Cosine Distances\")\n",
    "plt.xlabel(\"Cosine Distance\")\n",
    "plt.ylabel(\"Frequency\")\n",
    "plt.show()\n",
    "\n"
   ]
  },
  {
   "cell_type": "code",
   "execution_count": 25,
   "metadata": {},
   "outputs": [
    {
     "name": "stderr",
     "output_type": "stream",
     "text": [
      "INFO: Not scanning for jupyter notebooks.\n",
      "INFO: Successfully saved requirements file in C:\\Users\\Srikanth\\My Drive (siyer5@binghamton.edu)\\Binghamton\\Spring 2024 Courses\\SSIE 519- Soft Computing- Sadamori Kojaku\\SSIE 519 Soft Computing Final project- Srikanth, Annajirao\\requirements.txt\n"
     ]
    }
   ],
   "source": [
    "!pipreqs --encoding utf-8 \"C:\\Users\\Srikanth\\My Drive (siyer5@binghamton.edu)\\Binghamton\\Spring 2024 Courses\\SSIE 519- Soft Computing- Sadamori Kojaku\\SSIE 519 Soft Computing Final project- Srikanth, Annajirao\" --force"
   ]
  }
 ],
 "metadata": {
  "kernelspec": {
   "display_name": "base",
   "language": "python",
   "name": "python3"
  },
  "language_info": {
   "codemirror_mode": {
    "name": "ipython",
    "version": 3
   },
   "file_extension": ".py",
   "mimetype": "text/x-python",
   "name": "python",
   "nbconvert_exporter": "python",
   "pygments_lexer": "ipython3",
   "version": "3.12.2"
  }
 },
 "nbformat": 4,
 "nbformat_minor": 2
}
