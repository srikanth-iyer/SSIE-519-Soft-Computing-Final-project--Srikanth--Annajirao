{
 "cells": [
  {
   "cell_type": "code",
   "execution_count": 10,
   "metadata": {},
   "outputs": [],
   "source": [
    "\n",
    "import os\n",
    "import sys\n",
    "import re\n",
    "import requests\n",
    "\n",
    "\n"
   ]
  },
  {
   "cell_type": "code",
   "execution_count": 3,
   "metadata": {},
   "outputs": [
    {
     "data": {
      "text/plain": [
       "['\\ufeff\\n', 'This is the file GUTINDEX.ALL\\n']"
      ]
     },
     "execution_count": 3,
     "metadata": {},
     "output_type": "execute_result"
    }
   ],
   "source": [
    "filename = 'GUTINDEX.ALL'\n",
    "word = 'by William Shakespeare'\n",
    "\n",
    "with open(filename, 'r') as file:\n",
    "    lines = file.readlines()\n",
    "\n",
    "# find the corresponding line no for all the lines containing the word\n",
    "line_nos = [i for i, line in enumerate(lines)]  # list comprehension\n",
    "\n",
    "# save text in each line in a list\n",
    "texts = [lines[i] for i in line_nos]\n",
    "texts[:2]"
   ]
  },
  {
   "cell_type": "code",
   "execution_count": 4,
   "metadata": {},
   "outputs": [
    {
     "name": "stdout",
     "output_type": "stream",
     "text": [
      "Ebook number: 73119\n",
      "Ebook number: 73088\n",
      "Ebook number: 69185\n",
      "Ebook number: 68682\n",
      "Ebook number: 67639\n",
      "Ebook number: 65688\n",
      "Ebook number: 64074\n",
      "Ebook number: 63084\n",
      "Ebook number: 62680\n",
      "Ebook number: 62467\n",
      "Ebook number: 62048\n",
      "Ebook number: 61758\n",
      "Ebook number: 60164\n",
      "Ebook number: 60057\n",
      "Ebook number: 59239\n",
      "Ebook number: 45811\n",
      "Ebook number: 35115\n",
      "Ebook number: 27250\n",
      "Ebook number: 25795\n",
      "Ebook number: 25308\n",
      "Ebook number: 21603\n",
      "Ebook number: 21525\n",
      "Ebook number: 20897\n",
      "Ebook number: 19094\n",
      "Ebook number: 18639\n",
      "Ebook number: 16769\n",
      "Ebook number: 14706\n",
      "Ebook number: 14203\n",
      "Ebook number: 13342\n",
      "Ebook number: 12491\n",
      "Ebook number: 12245\n",
      "Ebook number: 11605\n",
      "Ebook number: 11560\n",
      "Ebook number: 11554\n",
      "Ebook number: 11505\n",
      "Ebook number: 2015\n",
      "Ebook number: 1721\n",
      "Ebook number: 1720\n",
      "Ebook number: 1719\n",
      "Ebook number: 1717\n",
      "Ebook number: 1696\n",
      "Ebook number: 1695\n",
      "Ebook number: 223\n",
      "Ebook number: 204\n",
      "Ebook number: 130\n"
     ]
    }
   ],
   "source": [
    "\n",
    "# The text from the file\n",
    "\n",
    "# The regex pattern\n",
    "pattern = r\".*by G\\. K\\. Chesterton\\s+(\\d+)\"\n",
    "\n",
    "# Find all matches\n",
    "matches = []\n",
    "for text in texts:\n",
    "    match = re.findall(pattern, text)\n",
    "    matches.extend(match)\n",
    "\n",
    "# Print the ebook numbers\n",
    "for match in matches:\n",
    "    print(f\"Ebook number: {match}\")"
   ]
  },
  {
   "cell_type": "code",
   "execution_count": 5,
   "metadata": {},
   "outputs": [
    {
     "name": "stdout",
     "output_type": "stream",
     "text": [
      "130\n",
      "Download status: 1\n",
      "Downloaded pg130.txt\n",
      "c:\\Users\\Srikanth\\My Drive (siyer5@binghamton.edu)\\SSIE 519 Soft Computing Final project\\Text data\n"
     ]
    }
   ],
   "source": [
    "print(match)\n",
    "# download the text file from the website https://www.gutenberg.pglaf.org/ using the ebook number and save it in the text data folder as a txt file\n",
    "\n",
    "# define the url as 'https://gutenberg.pglaf.org/1/3/130/130.txt' if the file is ebook number 130. where each subdirectory is a digit of the index number. similarly for other numbers\n",
    "# the url\n",
    "\n",
    "\n",
    "# download the file using requests.get() and save it in the text_data folder\n",
    "# url = 'https://gutenberg.pglaf.org/1/3/130/130.txt'\n",
    "# response = requests.get(url)\n",
    "\n",
    "# with open('130.txt', 'w') as f:\n",
    "#     f.write(response.text)\n",
    "\n"
   ]
  },
  {
   "cell_type": "code",
   "execution_count": 2,
   "metadata": {},
   "outputs": [
    {
     "name": "stdout",
     "output_type": "stream",
     "text": [
      "Collecting epubNote: you may need to restart the kernel to use updated packages.\n",
      "\n",
      "  Downloading epub-0.5.2.tar.gz (44 kB)\n",
      "     ---------------------------------------- 0.0/44.5 kB ? eta -:--:--\n",
      "     --------- ------------------------------ 10.2/44.5 kB ? eta -:--:--\n",
      "     ----------------- -------------------- 20.5/44.5 kB 217.9 kB/s eta 0:00:01\n",
      "     -------------------------- ----------- 30.7/44.5 kB 217.9 kB/s eta 0:00:01\n",
      "     -------------------------------------- 44.5/44.5 kB 245.0 kB/s eta 0:00:00\n",
      "  Preparing metadata (setup.py): started\n",
      "  Preparing metadata (setup.py): finished with status 'done'\n",
      "Building wheels for collected packages: epub\n",
      "  Building wheel for epub (setup.py): started\n",
      "  Building wheel for epub (setup.py): finished with status 'done'\n",
      "  Created wheel for epub: filename=epub-0.5.2-py3-none-any.whl size=16325 sha256=7c88e136a831482f539fde71f6cf4fa0f948616d11125518a2b65fd4ae9fb28c\n",
      "  Stored in directory: c:\\users\\srikanth\\appdata\\local\\pip\\cache\\wheels\\e3\\ee\\fe\\f42baa6ac49495f819d059987473e4f53cb42c369514ac7094\n",
      "Successfully built epub\n",
      "Installing collected packages: epub\n",
      "Successfully installed epub-0.5.2\n"
     ]
    }
   ],
   "source": [
    "%pip install epub"
   ]
  },
  {
   "cell_type": "code",
   "execution_count": 12,
   "metadata": {},
   "outputs": [
    {
     "name": "stderr",
     "output_type": "stream",
     "text": [
      "<>:5: SyntaxWarning: invalid escape sequence '\\A'\n",
      "<>:5: SyntaxWarning: invalid escape sequence '\\A'\n",
      "C:\\Users\\Srikanth\\AppData\\Local\\Temp\\ipykernel_23084\\2215796265.py:5: SyntaxWarning: invalid escape sequence '\\A'\n",
      "  book = epub.open_epub('G K Chesterton\\A Chesterton Calendar.45811.epub')\n"
     ]
    },
    {
     "data": {
      "text/plain": [
       "''"
      ]
     },
     "execution_count": 12,
     "metadata": {},
     "output_type": "execute_result"
    }
   ],
   "source": [
    "# read an epub file and extract the text from it\n",
    "import epub\n",
    "\n",
    "# read the epub file\n",
    "book = epub.open_epub('G K Chesterton\\A Chesterton Calendar.45811.epub')\n",
    "\n",
    "# get the text from the epub file\n",
    "text = book.read_content().decode('utf-8') if hasattr(book, 'read_content') else ''\n",
    "text\n",
    "\n"
   ]
  },
  {
   "cell_type": "code",
   "execution_count": 9,
   "metadata": {},
   "outputs": [],
   "source": [
    "\n",
    "\n"
   ]
  }
 ],
 "metadata": {
  "kernelspec": {
   "display_name": "SoftComputing",
   "language": "python",
   "name": "python3"
  },
  "language_info": {
   "codemirror_mode": {
    "name": "ipython",
    "version": 3
   },
   "file_extension": ".py",
   "mimetype": "text/x-python",
   "name": "python",
   "nbconvert_exporter": "python",
   "pygments_lexer": "ipython3",
   "version": "3.12.3"
  }
 },
 "nbformat": 4,
 "nbformat_minor": 2
}
